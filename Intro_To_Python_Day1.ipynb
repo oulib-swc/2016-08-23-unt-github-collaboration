{
  "cells": [
    {
      "cell_type": "markdown",
      "metadata": {
        "id": "view-in-github",
        "colab_type": "text"
      },
      "source": [
        "<a href=\"https://colab.research.google.com/github/AnnaPechenina/2016-08-23-unt-github-collaboration/blob/master/Intro_To_Python_Day1.ipynb\" target=\"_parent\"><img src=\"https://colab.research.google.com/assets/colab-badge.svg\" alt=\"Open In Colab\"/></a>"
      ]
    },
    {
      "cell_type": "markdown",
      "metadata": {
        "nbpages": {
          "level": 1,
          "link": "[1.2 Python Basics](https://jckantor.github.io/CBE30338/01.02-Python-Basics.html#1.2-Python-Basics)",
          "section": "1.2 Python Basics"
        },
        "id": "S8RLxBEvGKCn"
      },
      "source": [
        "# Python Basics\n",
        "\n",
        "**Adapted from tutorial by Jacob Gerace in CBE30338 1.2 and \"A Beginner's Python Tutorial\" by Steven Thurlow**   \n",
        "\n",
        "**the github link is https://github.com/jckantor/CBE30338 and https://github.com/jvdkwast/Python3_Jupyter_Notebook/tree/093d55dd46db93c07190c44b6075a6c43fdac225**\n"
      ]
    },
    {
      "cell_type": "markdown",
      "metadata": {
        "nbpages": {
          "level": 2,
          "link": "[1.2.1 What I hope you'll get out of this tutorial](https://jckantor.github.io/CBE30338/01.02-Python-Basics.html#1.2.1-What-I-hope-you'll-get-out-of-this-tutorial)",
          "section": "1.2.1 What I hope you'll get out of this tutorial"
        },
        "id": "QkES3KN4GKCn"
      },
      "source": [
        "### What I hope you'll get out of this tutorial\n",
        "* The feeling that you'll \"know where to start\" when you see python code in lecture, or when you need to write python for an assignment.\n",
        "* (You won't be a python expert after one hour)\n",
        "* Basics to variables, lists, conditionals, functions, loops, and the numpy package.\n",
        "* Resources to look further"
      ]
    },
    {
      "cell_type": "code",
      "source": [],
      "metadata": {
        "id": "viyPpYhwf4a_"
      },
      "execution_count": null,
      "outputs": []
    },
    {
      "cell_type": "markdown",
      "metadata": {
        "nbpages": {
          "level": 3,
          "link": "[1.2.1.1 Why Python?](https://jckantor.github.io/CBE30338/01.02-Python-Basics.html#1.2.1.1-Why-Python?)",
          "section": "1.2.1.1 Why Python?"
        },
        "id": "xIgzVWVFGKCo"
      },
      "source": [
        "### Why Python?\n",
        "\n",
        "1. Clean syntax\n",
        "2. The same code can run on all Operating Systems\n",
        "3. **Extensive first and third party libraries (of particular note for our purposes is NumPy)**"
      ]
    },
    {
      "cell_type": "code",
      "source": [
        "!python3 --version"
      ],
      "metadata": {
        "id": "tyyUZhYiaSYo",
        "colab": {
          "base_uri": "https://localhost:8080/"
        },
        "outputId": "55f053a7-4361-4c57-bd2d-e10b241f70d4"
      },
      "execution_count": null,
      "outputs": [
        {
          "output_type": "stream",
          "name": "stdout",
          "text": [
            "Python 3.7.13\n"
          ]
        }
      ]
    },
    {
      "cell_type": "markdown",
      "source": [
        "In order to test pieces of code we can run Python from the command line. In this Jupyter Notebook we are going to simulate this. You can type the commands in the fields and execute them.<br>\n",
        "In the field type:<br>\n",
        "```python\n",
        "print('Hello, World')afdhfadf\n",
        "```\n",
        "Then press `<shift> + <return>` to execute the command."
      ],
      "metadata": {
        "id": "8a4UC5oFvLRB"
      }
    },
    {
      "cell_type": "code",
      "source": [
        "print(\"Hello, world\")"
      ],
      "metadata": {
        "colab": {
          "base_uri": "https://localhost:8080/"
        },
        "id": "WFAToPLxZH4H",
        "outputId": "c6bd5ffe-dd86-4445-9fa5-ccbaaf727ef8"
      },
      "execution_count": null,
      "outputs": [
        {
          "output_type": "stream",
          "name": "stdout",
          "text": [
            "Hello, world\n"
          ]
        }
      ]
    },
    {
      "cell_type": "markdown",
      "metadata": {
        "nbpages": {
          "level": 3,
          "link": "[1.2.1.2 Markdown Sidenote](https://jckantor.github.io/CBE30338/01.02-Python-Basics.html#1.2.1.2-Markdown-Sidenote)",
          "section": "1.2.1.2 Markdown Sidenote"
        },
        "id": "G40ZyYtrGKCo"
      },
      "source": [
        "### Markdown Sidenote\n",
        " * This text is written in a Markdown block. Markdown is straightforward way to format writeups in Jupyter, but I won't cover it here for the sake of brevity. \n",
        " * See if you can use Markdown in your next homework, here's a link that explains the formatting: https://daringfireball.net/projects/markdown/syntax . \n",
        " * You can also look at existing Markdown examples (i.e. this worksheet) and emulate the style. Double click a Markdown box in Jupyter to show the code.\n",
        " "
      ]
    },
    {
      "cell_type": "markdown",
      "metadata": {
        "nbpages": {
          "level": 2,
          "link": "[1.2.2 Python Basics](https://jckantor.github.io/CBE30338/01.02-Python-Basics.html#1.2.2-Python-Basics)",
          "section": "1.2.2 Python Basics"
        },
        "id": "17KmfLgaGKCp"
      },
      "source": [
        "## Python Basics"
      ]
    },
    {
      "cell_type": "markdown",
      "metadata": {
        "nbpages": {
          "level": 3,
          "link": "[1.2.2.1 Variables](https://jckantor.github.io/CBE30338/01.02-Python-Basics.html#1.2.2.1-Variables)",
          "section": "1.2.2.1 Variables"
        },
        "id": "HZh4GqFPGKCp"
      },
      "source": [
        "### Variables"
      ]
    },
    {
      "cell_type": "code",
      "execution_count": null,
      "metadata": {
        "nbpages": {
          "level": 3,
          "link": "[1.2.2.1 Variables](https://jckantor.github.io/CBE30338/01.02-Python-Basics.html#1.2.2.1-Variables)",
          "section": "1.2.2.1 Variables"
        },
        "id": "UZ64f0RWGKCq",
        "colab": {
          "base_uri": "https://localhost:8080/"
        },
        "outputId": "700ef57b-3777-473c-c7e0-39531421ad74"
      },
      "outputs": [
        {
          "output_type": "stream",
          "name": "stdout",
          "text": [
            "<class 'int'>\n",
            "<class 'bool'>\n",
            "<class 'float'>\n",
            "<class 'str'>\n",
            "42\n",
            "3.1415\n"
          ]
        }
      ],
      "source": [
        "#A variable stores a piece of data and gives it a name\n",
        "answer = 42\n",
        "print(type(answer))\n",
        "\n",
        "#answer contained an integer because we gave it an integer!\n",
        "\n",
        "is_it_thursday = True\n",
        "is_it_wednesday = False\n",
        "print(type(is_it_thursday))\n",
        "\n",
        "#these both are 'booleans' or true/false values\n",
        "\n",
        "pi_approx = 3.1415\n",
        "print(type(pi_approx))\n",
        "\n",
        "#This will be a floating point number, or a number containing digits after the decimal point\n",
        "\n",
        "my_name = \"Frank\"\n",
        "print(type(my_name))\n",
        "#This is a string datatype, the name coming from a string of characters\n",
        "\n",
        "#Data doesn't have to be a singular unit\n",
        "\n",
        "#p.s., we can print all of these with a print command. For Example:\n",
        "print(answer)\n",
        "print(pi_approx)"
      ]
    },
    {
      "cell_type": "code",
      "source": [
        "1 + 1"
      ],
      "metadata": {
        "id": "NjI0RVOHycb6",
        "colab": {
          "base_uri": "https://localhost:8080/"
        },
        "outputId": "6c3bf829-da42-4880-cb8d-7700580cd9e6"
      },
      "execution_count": null,
      "outputs": [
        {
          "output_type": "execute_result",
          "data": {
            "text/plain": [
              "2"
            ]
          },
          "metadata": {},
          "execution_count": 49
        }
      ]
    },
    {
      "cell_type": "code",
      "source": [
        "20 + 80"
      ],
      "metadata": {
        "id": "8xTkEkFGyi9_",
        "colab": {
          "base_uri": "https://localhost:8080/"
        },
        "outputId": "cd0f85b9-1e82-42e0-d18a-14f059758f8a"
      },
      "execution_count": null,
      "outputs": [
        {
          "output_type": "execute_result",
          "data": {
            "text/plain": [
              "100"
            ]
          },
          "metadata": {},
          "execution_count": 50
        }
      ]
    },
    {
      "cell_type": "code",
      "source": [
        "6 - 5"
      ],
      "metadata": {
        "id": "K3sBK0Izyn89",
        "colab": {
          "base_uri": "https://localhost:8080/"
        },
        "outputId": "020becb0-074c-4227-ac8f-4ae38a9a05f6"
      },
      "execution_count": null,
      "outputs": [
        {
          "output_type": "execute_result",
          "data": {
            "text/plain": [
              "1"
            ]
          },
          "metadata": {},
          "execution_count": 51
        }
      ]
    },
    {
      "cell_type": "code",
      "source": [
        "2 * 5"
      ],
      "metadata": {
        "id": "or2_uYuTyp1R",
        "colab": {
          "base_uri": "https://localhost:8080/"
        },
        "outputId": "dec74001-65bb-41d2-95af-55127ace5ea8"
      },
      "execution_count": null,
      "outputs": [
        {
          "output_type": "execute_result",
          "data": {
            "text/plain": [
              "10"
            ]
          },
          "metadata": {},
          "execution_count": 52
        }
      ]
    },
    {
      "cell_type": "code",
      "source": [
        "5 ** 2"
      ],
      "metadata": {
        "id": "wnGrbTzRyrsF",
        "colab": {
          "base_uri": "https://localhost:8080/"
        },
        "outputId": "0cb09198-a4d3-4ee1-d35d-429d47c3410d"
      },
      "execution_count": null,
      "outputs": [
        {
          "output_type": "execute_result",
          "data": {
            "text/plain": [
              "25"
            ]
          },
          "metadata": {},
          "execution_count": 53
        }
      ]
    },
    {
      "cell_type": "code",
      "source": [
        "23 / 3"
      ],
      "metadata": {
        "id": "0bgcXwrHzfs9",
        "colab": {
          "base_uri": "https://localhost:8080/"
        },
        "outputId": "fa7f31fe-885b-42b0-ce3b-8e53764a7835"
      },
      "execution_count": null,
      "outputs": [
        {
          "output_type": "execute_result",
          "data": {
            "text/plain": [
              "7.666666666666667"
            ]
          },
          "metadata": {},
          "execution_count": 54
        }
      ]
    },
    {
      "cell_type": "code",
      "source": [
        "23 // 3"
      ],
      "metadata": {
        "id": "5s8swXzAzhrf",
        "colab": {
          "base_uri": "https://localhost:8080/"
        },
        "outputId": "8c510f7e-83eb-4d21-d458-28a514633ee4"
      },
      "execution_count": null,
      "outputs": [
        {
          "output_type": "execute_result",
          "data": {
            "text/plain": [
              "7"
            ]
          },
          "metadata": {},
          "execution_count": 55
        }
      ]
    },
    {
      "cell_type": "code",
      "source": [
        "print('one kilobyte is 2^10 bytes, or')"
      ],
      "metadata": {
        "colab": {
          "base_uri": "https://localhost:8080/"
        },
        "id": "DnFDkS90cGAw",
        "outputId": "8202aae8-ef2d-4330-c737-78d09b063fa8"
      },
      "execution_count": null,
      "outputs": [
        {
          "output_type": "stream",
          "name": "stdout",
          "text": [
            "one kilobyte is 2^10 bytes, or\n"
          ]
        }
      ]
    },
    {
      "cell_type": "code",
      "source": [
        "print(2**10)"
      ],
      "metadata": {
        "colab": {
          "base_uri": "https://localhost:8080/"
        },
        "id": "vNuHh0INcKrq",
        "outputId": "e1ba2603-64f1-4e34-8582-2c87da08dfdc"
      },
      "execution_count": null,
      "outputs": [
        {
          "output_type": "stream",
          "name": "stdout",
          "text": [
            "1024\n"
          ]
        }
      ]
    },
    {
      "cell_type": "code",
      "source": [
        "print('bytes')"
      ],
      "metadata": {
        "colab": {
          "base_uri": "https://localhost:8080/"
        },
        "id": "Hnf5E6tTcP0V",
        "outputId": "74736de6-91a9-41d2-bb5e-ca80c6c978da"
      },
      "execution_count": null,
      "outputs": [
        {
          "output_type": "stream",
          "name": "stdout",
          "text": [
            "bytes\n"
          ]
        }
      ]
    },
    {
      "cell_type": "code",
      "source": [
        "print('one kilobyte is 2^10 bytes, or', end=\" \")\n",
        "print(2**10)\n",
        "print('bytes')"
      ],
      "metadata": {
        "colab": {
          "base_uri": "https://localhost:8080/"
        },
        "id": "Wn24HF6mcWAx",
        "outputId": "82d9afe6-5f23-41ab-89b3-a922b11ade86"
      },
      "execution_count": null,
      "outputs": [
        {
          "output_type": "stream",
          "name": "stdout",
          "text": [
            "one kilobyte is 2^10 bytes, or 1024\n",
            "bytes\n"
          ]
        }
      ]
    },
    {
      "cell_type": "code",
      "source": [
        "print('one kilobyte is 2^10 bytes, or', 2 ** 10, 'bytes')"
      ],
      "metadata": {
        "id": "Z357LBmTyv3F",
        "colab": {
          "base_uri": "https://localhost:8080/"
        },
        "outputId": "71df0b5a-21f7-44a2-d12b-80d8271d5013"
      },
      "execution_count": null,
      "outputs": [
        {
          "output_type": "stream",
          "name": "stdout",
          "text": [
            "one kilobyte is 2^10 bytes, or 1024 bytes\n"
          ]
        }
      ]
    },
    {
      "cell_type": "code",
      "source": [
        "23 % 3"
      ],
      "metadata": {
        "id": "WipkeIfTzkZV",
        "colab": {
          "base_uri": "https://localhost:8080/"
        },
        "outputId": "3cf520f8-dc75-4ca3-b699-bc35b805b87e"
      },
      "execution_count": null,
      "outputs": [
        {
          "output_type": "execute_result",
          "data": {
            "text/plain": [
              "2"
            ]
          },
          "metadata": {},
          "execution_count": 61
        }
      ]
    },
    {
      "cell_type": "code",
      "source": [
        "21 % 3"
      ],
      "metadata": {
        "colab": {
          "base_uri": "https://localhost:8080/"
        },
        "id": "sp48k2FKclGI",
        "outputId": "15cbaca5-ecde-44cc-a40b-a66d32a66943"
      },
      "execution_count": null,
      "outputs": [
        {
          "output_type": "execute_result",
          "data": {
            "text/plain": [
              "0"
            ]
          },
          "metadata": {},
          "execution_count": 62
        }
      ]
    },
    {
      "cell_type": "markdown",
      "source": [
        "**Order of operation** "
      ],
      "metadata": {
        "id": "r9kCWaC3zvQM"
      }
    },
    {
      "cell_type": "markdown",
      "source": [
        "Remember that thing called order of operation that they taught in maths? Well, it applies in Python, too. Here it is, if you need reminding:<br>\n",
        "1. Parenthesis `()`\n",
        "2. Exponents `**`\n",
        "3. Multiplication `*`, division `/` and remainder `%`\n",
        "4. Addition `+` and subtraction `-`"
      ],
      "metadata": {
        "id": "Dk_Va1600I0M"
      }
    },
    {
      "cell_type": "code",
      "source": [
        "1 + 2 * 3"
      ],
      "metadata": {
        "id": "2RxneZJa0QpP",
        "colab": {
          "base_uri": "https://localhost:8080/"
        },
        "outputId": "4d762700-fbf0-4b47-9a15-534be2fdcc77"
      },
      "execution_count": null,
      "outputs": [
        {
          "output_type": "execute_result",
          "data": {
            "text/plain": [
              "7"
            ]
          },
          "metadata": {},
          "execution_count": 63
        }
      ]
    },
    {
      "cell_type": "code",
      "source": [
        "(1 + 2) * 3"
      ],
      "metadata": {
        "id": "sut6DLZb0b7G",
        "colab": {
          "base_uri": "https://localhost:8080/"
        },
        "outputId": "954b2ebf-23e8-4a52-e93d-322e56386e9e"
      },
      "execution_count": null,
      "outputs": [
        {
          "output_type": "execute_result",
          "data": {
            "text/plain": [
              "9"
            ]
          },
          "metadata": {},
          "execution_count": 64
        }
      ]
    },
    {
      "cell_type": "markdown",
      "source": [
        "**Comment**"
      ],
      "metadata": {
        "id": "mYUipkyv04iH"
      }
    },
    {
      "cell_type": "markdown",
      "source": [
        "The final thing you'll need to know to move on to multi-line programs is the comment. Type the following (and yes, the output is shown):\n",
        "```python\n",
        "# I am a comment.\n",
        "```"
      ],
      "metadata": {
        "id": "PkDSrj5X0k5i"
      }
    },
    {
      "cell_type": "code",
      "source": [
        "classroom = \"BSB 1060\" # classroom of introduction to python"
      ],
      "metadata": {
        "id": "APma7RqR09FS"
      },
      "execution_count": null,
      "outputs": []
    },
    {
      "cell_type": "code",
      "source": [
        "classroom"
      ],
      "metadata": {
        "colab": {
          "base_uri": "https://localhost:8080/",
          "height": 35
        },
        "id": "89RjT6zPdWSZ",
        "outputId": "eaceee24-4a4c-41ca-bd59-08efb9d98de2"
      },
      "execution_count": null,
      "outputs": [
        {
          "output_type": "execute_result",
          "data": {
            "text/plain": [
              "'BSB 1060'"
            ],
            "application/vnd.google.colaboratory.intrinsic+json": {
              "type": "string"
            }
          },
          "metadata": {},
          "execution_count": 4
        }
      ]
    },
    {
      "cell_type": "code",
      "source": [
        "#variables demonstrated\n",
        "print(\"This program is a demo of variables\")\n",
        "v = 1\n",
        "print(\"The value of v is now\", v)\n",
        "v = v + 1\n",
        "print(\"v now equals itself plus one, making it worth\", v)\n",
        "v = 51\n",
        "print(\"v can store any numerical value, to be used elsewhere.\")\n",
        "print(\"for example, in a sentence. v is now worth\", v)\n",
        "print(\"v times 5 equals\", v * 5)\n",
        "print(\"but v still only remains\", v)\n",
        "print(\"to make v five times bigger, you would have to type v = v * 5\")\n",
        "v = v * 5\n",
        "print(\"there you go, now v equals\", v, \"and not\", v / 5)"
      ],
      "metadata": {
        "id": "TVVwqhVe1tLv",
        "colab": {
          "base_uri": "https://localhost:8080/"
        },
        "outputId": "694c9924-232a-4c86-ac66-5eae87f267f8"
      },
      "execution_count": null,
      "outputs": [
        {
          "output_type": "stream",
          "name": "stdout",
          "text": [
            "This program is a demo of variables\n",
            "The value of v is now 1\n",
            "v now equals itself plus one, making it worth 2\n",
            "v can store any numerical value, to be used elsewhere.\n",
            "for example, in a sentence. v is now worth 51\n",
            "v times 5 equals 255\n",
            "but v still only remains 51\n",
            "to make v five times bigger, you would have to type v = v * 5\n",
            "there you go, now v equals 255 and not 51.0\n"
          ]
        }
      ]
    },
    {
      "cell_type": "markdown",
      "source": [
        "Run the script and try to understand the results.\n",
        "\n",
        "Note that we can also write v = v + 1 as v += 1. This can be used for all operators (e.g. -=, *=,/=). Try it in the code above.\n",
        "\n",
        "It is good practice to use lowercase or camelCase for variables. Don't use special characters and don't start with a number!"
      ],
      "metadata": {
        "id": "O7pLAlQV13Bo"
      }
    },
    {
      "cell_type": "markdown",
      "source": [
        "**String**"
      ],
      "metadata": {
        "id": "I4dQrm4n1-t7"
      }
    },
    {
      "cell_type": "code",
      "source": [
        "#giving variables text, and adding text.\n",
        "word1 = \"Good\"\n",
        "word2 = \"morning\"\n",
        "word3 = \"to you too!\"\n",
        "print(word1, word2)\n",
        "sentence = word1 + \" \" + word2 + \" \" + word3\n",
        "print(sentence)"
      ],
      "metadata": {
        "id": "DlQeffYv1v33",
        "colab": {
          "base_uri": "https://localhost:8080/"
        },
        "outputId": "eea34258-6b84-4992-ae41-d4a3eecfbc8d"
      },
      "execution_count": null,
      "outputs": [
        {
          "output_type": "stream",
          "name": "stdout",
          "text": [
            "Good morning\n",
            "Good morning to you too!\n"
          ]
        }
      ]
    },
    {
      "cell_type": "code",
      "source": [
        "a = '1'\n",
        "b = \"+\"\n",
        "a + b + a"
      ],
      "metadata": {
        "colab": {
          "base_uri": "https://localhost:8080/",
          "height": 35
        },
        "id": "xnZoM7M3ghgl",
        "outputId": "b9fc5046-1442-4f46-f7be-4a7f0676cc51"
      },
      "execution_count": null,
      "outputs": [
        {
          "output_type": "execute_result",
          "data": {
            "text/plain": [
              "'1+1'"
            ],
            "application/vnd.google.colaboratory.intrinsic+json": {
              "type": "string"
            }
          },
          "metadata": {},
          "execution_count": 7
        }
      ]
    },
    {
      "cell_type": "markdown",
      "source": [
        "As you see, the variables above were holding text. Variable names can also be longer than one letter - here, we had `word1`, `word2`, and `word3`. As you can also see, strings can be added together to make longer words or sentences. However, it doesn't add spaces in between the words - hence me putting in the `\" \"` things (there is one space between those).\n",
        "\n",
        "Often we need to manipulate strings. For example if we want to edit file names or make selections from text. Strings are similar to `lists` that you will learn later. So similar operations (called *list slicing*) apply to strings.\n",
        "\n",
        "Try the following code and explain what it does:"
      ],
      "metadata": {
        "id": "kt5DAUWI2GRP"
      }
    },
    {
      "cell_type": "code",
      "source": [
        "text = \"abcdefghij\"\n",
        "len(text)"
      ],
      "metadata": {
        "id": "EqxYo9w52DGp",
        "colab": {
          "base_uri": "https://localhost:8080/"
        },
        "outputId": "dab12a3c-2ad5-4c6d-c7ec-7c3eb1e445a2"
      },
      "execution_count": null,
      "outputs": [
        {
          "output_type": "execute_result",
          "data": {
            "text/plain": [
              "10"
            ]
          },
          "metadata": {},
          "execution_count": 9
        }
      ]
    },
    {
      "cell_type": "markdown",
      "source": [
        "Yes, it shows us the amount of characters in a string.\n",
        "\n",
        "Now try this:"
      ],
      "metadata": {
        "id": "RR5aPc__2J_R"
      }
    },
    {
      "cell_type": "code",
      "source": [
        "print(text[4])"
      ],
      "metadata": {
        "id": "nTj6A1cF2LC-",
        "colab": {
          "base_uri": "https://localhost:8080/"
        },
        "outputId": "3bdaab1f-3111-4831-bd67-739e876b6730"
      },
      "execution_count": null,
      "outputs": [
        {
          "output_type": "stream",
          "name": "stdout",
          "text": [
            "e\n"
          ]
        }
      ]
    },
    {
      "cell_type": "markdown",
      "source": [
        "Here we want to print the character at position 4. Note that the first character \"a\" is at position 0! So position 4 gives us back \"e\".\n",
        "\n",
        "Now try:"
      ],
      "metadata": {
        "id": "qaEiIS8l2Qup"
      }
    },
    {
      "cell_type": "code",
      "source": [
        "print(text[:4]) # equal to print(text[0:4])"
      ],
      "metadata": {
        "id": "V19fLzKg2XFq",
        "colab": {
          "base_uri": "https://localhost:8080/"
        },
        "outputId": "68238977-6ce8-4e1c-8a53-9924b695c8e6"
      },
      "execution_count": null,
      "outputs": [
        {
          "output_type": "stream",
          "name": "stdout",
          "text": [
            "abcd\n"
          ]
        }
      ]
    },
    {
      "cell_type": "code",
      "source": [
        "print(text[4:])"
      ],
      "metadata": {
        "id": "fN1id0-W2ZwA",
        "colab": {
          "base_uri": "https://localhost:8080/"
        },
        "outputId": "f4a9671b-3566-4728-cb31-35bdcde21f13"
      },
      "execution_count": null,
      "outputs": [
        {
          "output_type": "stream",
          "name": "stdout",
          "text": [
            "efghij\n"
          ]
        }
      ]
    },
    {
      "cell_type": "code",
      "source": [
        "print(text[4:8])"
      ],
      "metadata": {
        "id": "HwAnG8D52byb",
        "colab": {
          "base_uri": "https://localhost:8080/"
        },
        "outputId": "05bdc2eb-2bfa-4708-ec65-feb8e2d0d0f8"
      },
      "execution_count": null,
      "outputs": [
        {
          "output_type": "stream",
          "name": "stdout",
          "text": [
            "efgh\n"
          ]
        }
      ]
    },
    {
      "cell_type": "code",
      "source": [
        "print(text[-2])"
      ],
      "metadata": {
        "id": "1fKyS8-O2dpp",
        "colab": {
          "base_uri": "https://localhost:8080/"
        },
        "outputId": "ae2ab268-f2f4-4926-b758-5d3a24a0f1e2"
      },
      "execution_count": null,
      "outputs": [
        {
          "output_type": "stream",
          "name": "stdout",
          "text": [
            "i\n"
          ]
        }
      ]
    },
    {
      "cell_type": "code",
      "source": [
        "print(text[-4:])"
      ],
      "metadata": {
        "id": "tY0y7R4b2ge8",
        "colab": {
          "base_uri": "https://localhost:8080/"
        },
        "outputId": "34547e89-3a93-43dc-8f96-c1c74afb9aef"
      },
      "execution_count": null,
      "outputs": [
        {
          "output_type": "stream",
          "name": "stdout",
          "text": [
            "ghij\n"
          ]
        }
      ]
    },
    {
      "cell_type": "code",
      "source": [
        "print(text[::2])"
      ],
      "metadata": {
        "id": "IpEspQWz2muC",
        "colab": {
          "base_uri": "https://localhost:8080/"
        },
        "outputId": "bf2000ea-d036-4c9e-9391-326c590aa28f"
      },
      "execution_count": null,
      "outputs": [
        {
          "output_type": "stream",
          "name": "stdout",
          "text": [
            "acegi\n"
          ]
        }
      ]
    },
    {
      "cell_type": "code",
      "source": [
        "# starting index(by default 0):end index(by default end of string): step (by default 1)"
      ],
      "metadata": {
        "id": "HBhHA11Ki9-e"
      },
      "execution_count": null,
      "outputs": []
    },
    {
      "cell_type": "code",
      "source": [
        "print(text[::-1])"
      ],
      "metadata": {
        "colab": {
          "base_uri": "https://localhost:8080/"
        },
        "id": "RRf7QWqqjU_o",
        "outputId": "55b1227e-69da-4a2d-95fd-26a869e3c6ab"
      },
      "execution_count": null,
      "outputs": [
        {
          "output_type": "stream",
          "name": "stdout",
          "text": [
            "jihgfedcba\n"
          ]
        }
      ]
    },
    {
      "cell_type": "code",
      "source": [
        "nrOfCharacters = len(sentence)\n",
        "lastWord = sentence[-4:-1]\n",
        "print(\"The sentence has {} characters and the last word is: {}\".format(nrOfCharacters,lastWord))"
      ],
      "metadata": {
        "id": "R4TKTsoi2sk0",
        "colab": {
          "base_uri": "https://localhost:8080/"
        },
        "outputId": "a846aa60-9ae5-412e-c733-0fc5f94adb9c"
      },
      "execution_count": null,
      "outputs": [
        {
          "output_type": "stream",
          "name": "stdout",
          "text": [
            "The sentence has 24 characters and the last word is: too\n"
          ]
        }
      ]
    },
    {
      "cell_type": "markdown",
      "source": [
        "More detail can be seen here: https://www.w3schools.com/python/ref_string_format.asp"
      ],
      "metadata": {
        "id": "D3hxDJ3V3Gdi"
      }
    },
    {
      "cell_type": "code",
      "source": [
        "print(f\"The sentence has {nrOfCharacters} characters and the last word is: {lastWord}\")"
      ],
      "metadata": {
        "id": "ynAyrJXP3Llk",
        "colab": {
          "base_uri": "https://localhost:8080/"
        },
        "outputId": "aae6531a-2707-4fef-e228-82a55b83a77b"
      },
      "execution_count": null,
      "outputs": [
        {
          "output_type": "stream",
          "name": "stdout",
          "text": [
            "The sentence has 24 characters and the last word is: too\n"
          ]
        }
      ]
    },
    {
      "cell_type": "code",
      "source": [
        "print(sentence.count('o'))"
      ],
      "metadata": {
        "id": "epddq8I33NLc",
        "colab": {
          "base_uri": "https://localhost:8080/"
        },
        "outputId": "1d33c5dc-6320-4c8b-bbc7-aee644f84a56"
      },
      "execution_count": null,
      "outputs": [
        {
          "output_type": "stream",
          "name": "stdout",
          "text": [
            "7\n"
          ]
        }
      ]
    },
    {
      "cell_type": "code",
      "source": [
        "print(sentence)"
      ],
      "metadata": {
        "colab": {
          "base_uri": "https://localhost:8080/"
        },
        "id": "3yQxoZetk1tB",
        "outputId": "1b0cf45f-ed0a-405d-e8bf-2001d751812e"
      },
      "execution_count": null,
      "outputs": [
        {
          "output_type": "stream",
          "name": "stdout",
          "text": [
            "Good morning to you too!\n"
          ]
        }
      ]
    },
    {
      "cell_type": "code",
      "source": [
        "print(text)\n",
        "print(text.find('fg'))"
      ],
      "metadata": {
        "id": "TQ_Rq5Q_3aP5",
        "colab": {
          "base_uri": "https://localhost:8080/"
        },
        "outputId": "4967ab17-5494-4d90-8bcb-7b8d8ec67e69"
      },
      "execution_count": null,
      "outputs": [
        {
          "output_type": "stream",
          "name": "stdout",
          "text": [
            "abcdefghij\n",
            "5\n"
          ]
        }
      ]
    },
    {
      "cell_type": "code",
      "source": [
        "print(sentence.find('o'))"
      ],
      "metadata": {
        "colab": {
          "base_uri": "https://localhost:8080/"
        },
        "id": "rW14Upxhlp5Q",
        "outputId": "edbedcbc-cbed-4067-8296-f1bc4a488c70"
      },
      "execution_count": null,
      "outputs": [
        {
          "output_type": "stream",
          "name": "stdout",
          "text": [
            "1\n"
          ]
        }
      ]
    },
    {
      "cell_type": "code",
      "source": [
        "sometext = \"Hey you, how are you doing?\"\n",
        "print(sometext.rfind(\"you\"))"
      ],
      "metadata": {
        "id": "9m_5Ls1k3gS8",
        "colab": {
          "base_uri": "https://localhost:8080/"
        },
        "outputId": "ee523d8c-232a-48c8-9cf9-7a0f4d0984a4"
      },
      "execution_count": null,
      "outputs": [
        {
          "output_type": "stream",
          "name": "stdout",
          "text": [
            "17\n"
          ]
        }
      ]
    },
    {
      "cell_type": "code",
      "source": [
        "sometext[17:]"
      ],
      "metadata": {
        "colab": {
          "base_uri": "https://localhost:8080/",
          "height": 35
        },
        "id": "zHECsUo4l7Tu",
        "outputId": "6714cd53-815d-4e66-d5c9-df1da649b852"
      },
      "execution_count": null,
      "outputs": [
        {
          "output_type": "execute_result",
          "data": {
            "text/plain": [
              "'you doing?'"
            ],
            "application/vnd.google.colaboratory.intrinsic+json": {
              "type": "string"
            }
          },
          "metadata": {},
          "execution_count": 38
        }
      ]
    },
    {
      "cell_type": "markdown",
      "source": [
        "`rfind` returns the lasts occurance of a string. So in `sometext` we have the word \"you\" twice. `rfind` returns `17` meaning that the last time that it found \"you\" is starting at position 17 (counting from 0).\n",
        "\n",
        "There are a few other useful string operations. Run the code below and will be obvious what it does:"
      ],
      "metadata": {
        "id": "84V2aq553i69"
      }
    },
    {
      "cell_type": "code",
      "source": [
        "# Changes the string to upper case\n",
        "print(sometext.upper())\n",
        "\n",
        "# Splits the string on a character and returns it as list items. You'll learn about lists later\n",
        "print(sometext.split(\",\"))\n",
        "\n",
        "# Replaces strings\n",
        "print(sometext.replace(\"?\",\"!\"))"
      ],
      "metadata": {
        "id": "xOf6OPjB3lng",
        "colab": {
          "base_uri": "https://localhost:8080/"
        },
        "outputId": "3b227f7b-111e-4f6e-9ab7-f5de02515207"
      },
      "execution_count": null,
      "outputs": [
        {
          "output_type": "stream",
          "name": "stdout",
          "text": [
            "HEY YOU, HOW ARE YOU DOING?\n",
            "['Hey you', ' how are you doing?']\n",
            "Hey you, how are you doing!\n"
          ]
        }
      ]
    },
    {
      "cell_type": "code",
      "source": [
        "a = 1\n",
        "a.upper()"
      ],
      "metadata": {
        "colab": {
          "base_uri": "https://localhost:8080/",
          "height": 184
        },
        "id": "MonsAAbvm_kq",
        "outputId": "117e30b2-4845-49f2-93f3-688c6ff7e45c"
      },
      "execution_count": null,
      "outputs": [
        {
          "output_type": "error",
          "ename": "AttributeError",
          "evalue": "ignored",
          "traceback": [
            "\u001b[0;31m---------------------------------------------------------------------------\u001b[0m",
            "\u001b[0;31mAttributeError\u001b[0m                            Traceback (most recent call last)",
            "\u001b[0;32m<ipython-input-40-a902953f0571>\u001b[0m in \u001b[0;36m<module>\u001b[0;34m\u001b[0m\n\u001b[1;32m      1\u001b[0m \u001b[0ma\u001b[0m \u001b[0;34m=\u001b[0m \u001b[0;36m1\u001b[0m\u001b[0;34m\u001b[0m\u001b[0;34m\u001b[0m\u001b[0m\n\u001b[0;32m----> 2\u001b[0;31m \u001b[0ma\u001b[0m\u001b[0;34m.\u001b[0m\u001b[0mupper\u001b[0m\u001b[0;34m(\u001b[0m\u001b[0;34m)\u001b[0m\u001b[0;34m\u001b[0m\u001b[0;34m\u001b[0m\u001b[0m\n\u001b[0m",
            "\u001b[0;31mAttributeError\u001b[0m: 'int' object has no attribute 'upper'"
          ]
        }
      ]
    },
    {
      "cell_type": "markdown",
      "source": [
        "There are also some special characters:\n",
        "\n",
        "`\\n` jumps to a new line\n",
        "\n",
        "`\\` is an escape character. You can put it before another character that has a meaning in the code and is not considered a string. This is often used to have strings with backslashes for file names on Windows (e.g. `\"C:\\\\folder\\\\filename.txt\"`). Because `\\` is already an escape character we need to use it twice to escape the escape character!\n",
        "\n",
        "Examples:"
      ],
      "metadata": {
        "id": "tTLh7tGZ3q1y"
      }
    },
    {
      "cell_type": "code",
      "source": [
        "print(\"This is a very long sentence and I want to split it into two lines.\")\n",
        "print(\"This is a very long sentence\\nand I want to split it into two lines.\")\n",
        "\n",
        "print(\"This sentence contains a quote and I don't want the string to end (yet)\\\"\")"
      ],
      "metadata": {
        "id": "-RVYmRfr3tdI",
        "colab": {
          "base_uri": "https://localhost:8080/"
        },
        "outputId": "dc35a741-d419-4de2-d109-153012f27527"
      },
      "execution_count": null,
      "outputs": [
        {
          "output_type": "stream",
          "name": "stdout",
          "text": [
            "This is a very long sentence and I want to split it into two lines.\n",
            "This is a very long sentence\n",
            "and I want to split it into two lines.\n",
            "This sentence contains a quote and I don't want the string to end (yet)\"\n"
          ]
        }
      ]
    },
    {
      "cell_type": "markdown",
      "metadata": {
        "nbpages": {
          "level": 3,
          "link": "[1.2.2.2 More Complicated Data Types](https://jckantor.github.io/CBE30338/01.02-Python-Basics.html#1.2.2.2-More-Complicated-Data-Types)",
          "section": "1.2.2.2 More Complicated Data Types"
        },
        "id": "npKSfs4VGKCr"
      },
      "source": [
        "### More Complicated Data Types"
      ]
    },
    {
      "cell_type": "code",
      "execution_count": null,
      "metadata": {
        "nbpages": {
          "level": 3,
          "link": "[1.2.2.2 More Complicated Data Types](https://jckantor.github.io/CBE30338/01.02-Python-Basics.html#1.2.2.2-More-Complicated-Data-Types)",
          "section": "1.2.2.2 More Complicated Data Types"
        },
        "scrolled": true,
        "id": "5UeBfb0oGKCr",
        "outputId": "1050c9f9-4acb-4aad-ddde-3b214dca3975",
        "colab": {
          "base_uri": "https://localhost:8080/"
        }
      },
      "outputs": [
        {
          "output_type": "stream",
          "name": "stdout",
          "text": [
            "['Green', 'Blue', 'Red']\n",
            "[10, 20, 30, 40, 50, 'Sixty']\n",
            "Green\n",
            "Red\n",
            "Rosa Parks\n"
          ]
        }
      ],
      "source": [
        "\n",
        "#What if we want to store many integers? We need a list!\n",
        "prices = [10, 20, 30, 40, 50]\n",
        "\n",
        "#This is a way to define a list in place. We can also make an empty list and add to it.\n",
        "colors = []\n",
        "\n",
        "colors.append(\"Green\")\n",
        "colors.append(\"Blue\")\n",
        "colors.append(\"Red\")\n",
        "\n",
        "print(colors)\n",
        "\n",
        "#We can also add unlike data to a list\n",
        "prices.append(\"Sixty\")\n",
        "\n",
        "#As an exercise, look up lists in python and find out how to add in the middle of a list!\n",
        "\n",
        "print(prices)\n",
        "#We can access a specific element of a list too:\n",
        "\n",
        "print(colors[0])\n",
        "print(colors[2])\n",
        "\n",
        "#Notice here how the first element of the list is index 0, not 1! \n",
        "#Languages like MATLAB are 1 indexed, be careful!\n",
        "\n",
        "#In addition to lists, there are tuples\n",
        "#Tuples behave very similarly to lists except that you can't change them \n",
        "# after you make them\n",
        "\n",
        "#An empty Tuple isn't very useful:\n",
        "empty_tuple = ()\n",
        "\n",
        "#Nor is a tuple with just one value:\n",
        "one_tuple = (\"first\",)\n",
        "\n",
        "#But tuples with many values are useful:\n",
        "rosa_parks_info = (\"Rosa\", \"Parks\", 1913, \"February\", 4)\n",
        "\n",
        "#You can access tuples just like lists\n",
        "print(rosa_parks_info[0] + \" \" + rosa_parks_info[1])\n",
        "\n",
        "# You cannot modify existing tuples, but you can make new tuples that extend \n",
        "# the information.\n",
        "# I expect Tuples to come up less than lists. So we'll just leave it at that. "
      ]
    },
    {
      "cell_type": "markdown",
      "metadata": {
        "nbpages": {
          "level": 3,
          "link": "[1.2.2.3 Using Variables](https://jckantor.github.io/CBE30338/01.02-Python-Basics.html#1.2.2.3-Using-Variables)",
          "section": "1.2.2.3 Using Variables"
        },
        "id": "HCd8dbSBGKCs"
      },
      "source": [
        "### Using Variables"
      ]
    },
    {
      "cell_type": "code",
      "execution_count": null,
      "metadata": {
        "nbpages": {
          "level": 3,
          "link": "[1.2.2.3 Using Variables](https://jckantor.github.io/CBE30338/01.02-Python-Basics.html#1.2.2.3-Using-Variables)",
          "section": "1.2.2.3 Using Variables"
        },
        "scrolled": true,
        "id": "mXFXNC7gGKCs",
        "outputId": "cf2d96dc-7f45-4ae3-bb4e-1881f0d5ea0c",
        "colab": {
          "base_uri": "https://localhost:8080/"
        }
      },
      "outputs": [
        {
          "output_type": "stream",
          "name": "stdout",
          "text": [
            "8.0\n",
            "3.5\n",
            "12.9375\n",
            "2.5555555555555554\n",
            "1\n"
          ]
        }
      ],
      "source": [
        "float1 = 5.75\n",
        "float2 = 2.25\n",
        "#Addition, subtraction, multiplication, division are as you expect\n",
        "\n",
        "print(float1 + float2)\n",
        "print(float1 - float2)\n",
        "print(float1 * float2)\n",
        "print(float1 / float2)\n",
        "\n",
        "#Here's an interesting one that showed up in the first homework in 2017. Modulus: \n",
        "print(5 % 2)"
      ]
    },
    {
      "cell_type": "code",
      "source": [
        "#A simple program.\n",
        "print(\"Mary had a little lamb\")\n",
        "print(\"it's fleece was white as snow;\")\n",
        "print(\"and everywhere that Mary went\", end = \" \")\n",
        "print(\"her lamb was sure to go.\")"
      ],
      "metadata": {
        "colab": {
          "base_uri": "https://localhost:8080/"
        },
        "id": "xv5XpR8P1WUs",
        "outputId": "9543a5c8-4915-4015-d72d-aa6f190daa58"
      },
      "execution_count": null,
      "outputs": [
        {
          "output_type": "stream",
          "name": "stdout",
          "text": [
            "Mary had a little lamb\n",
            "it's fleece was white as snow;\n",
            "and everywhere that Mary went her lamb was sure to go.\n"
          ]
        }
      ]
    },
    {
      "cell_type": "markdown",
      "metadata": {
        "nbpages": {
          "level": 3,
          "link": "[1.2.2.4 Importing in Python: Math and plotting](https://jckantor.github.io/CBE30338/01.02-Python-Basics.html#1.2.2.4-Importing-in-Python:-Math-and-plotting)",
          "section": "1.2.2.4 Importing in Python: Math and plotting"
        },
        "id": "CxAlfGuXGKCt"
      },
      "source": [
        "### Importing in Python: Math and plotting"
      ]
    },
    {
      "cell_type": "code",
      "source": [
        "float1"
      ],
      "metadata": {
        "colab": {
          "base_uri": "https://localhost:8080/"
        },
        "id": "vKzWZyVCuSXR",
        "outputId": "2f82d0c8-0a39-498e-af8b-ed04eea7adc0"
      },
      "execution_count": null,
      "outputs": [
        {
          "output_type": "execute_result",
          "data": {
            "text/plain": [
              "5.75"
            ]
          },
          "metadata": {},
          "execution_count": 52
        }
      ]
    },
    {
      "cell_type": "code",
      "execution_count": null,
      "metadata": {
        "nbpages": {
          "level": 3,
          "link": "[1.2.2.4 Importing in Python: Math and plotting](https://jckantor.github.io/CBE30338/01.02-Python-Basics.html#1.2.2.4-Importing-in-Python:-Math-and-plotting)",
          "section": "1.2.2.4 Importing in Python: Math and plotting"
        },
        "id": "z6eM42XlGKCt",
        "colab": {
          "base_uri": "https://localhost:8080/"
        },
        "outputId": "7c3b2b82-b176-408d-fb10-dbc126852493"
      },
      "outputs": [
        {
          "output_type": "stream",
          "name": "stdout",
          "text": [
            "1.749199854809259\n",
            "9.487735836358526\n",
            "32.0\n",
            "32.0\n",
            "[1, 2, 3, 4, 5, 1, 2, 3, 4, 5]\n"
          ]
        }
      ],
      "source": [
        "#Just about every standard math function on a calculator has a python equivalent pre made.\n",
        "#however, they are from the 'math' package in python. Let's add that package!\n",
        "import math\n",
        "print(math.log(float1))\n",
        "print(math.exp(float2))\n",
        "print(math.pow(2,5))\n",
        "# There is a quicker way to write exponents if you want:\n",
        "print(2.0**5.0)\n",
        "\n",
        "#Like in MATLAB, you can expand the math to entire lists\n",
        "list3 = [1, 2, 3, 4, 5]\n",
        "print(2 * list3)"
      ]
    },
    {
      "cell_type": "code",
      "source": [
        "print(list3)\n",
        "list4 = 2 * list3\n",
        "print(list4)"
      ],
      "metadata": {
        "colab": {
          "base_uri": "https://localhost:8080/"
        },
        "id": "bWVCjJsIugir",
        "outputId": "71984995-5453-409b-96ed-6de56ad5b1e5"
      },
      "execution_count": null,
      "outputs": [
        {
          "output_type": "stream",
          "name": "stdout",
          "text": [
            "[1, 2, 3, 4, 5]\n",
            "[1, 2, 3, 4, 5, 1, 2, 3, 4, 5]\n"
          ]
        }
      ]
    },
    {
      "cell_type": "code",
      "execution_count": null,
      "metadata": {
        "nbpages": {
          "level": 3,
          "link": "[1.2.2.4 Importing in Python: Math and plotting](https://jckantor.github.io/CBE30338/01.02-Python-Basics.html#1.2.2.4-Importing-in-Python:-Math-and-plotting)",
          "section": "1.2.2.4 Importing in Python: Math and plotting"
        },
        "id": "AR84Cz8oGKCt",
        "outputId": "f3f36259-2789-48e9-f2b7-6c5c7fcc557a",
        "colab": {
          "base_uri": "https://localhost:8080/",
          "height": 282
        }
      },
      "outputs": [
        {
          "output_type": "execute_result",
          "data": {
            "text/plain": [
              "[<matplotlib.lines.Line2D at 0x7f0bff75d550>]"
            ]
          },
          "metadata": {},
          "execution_count": 62
        },
        {
          "output_type": "display_data",
          "data": {
            "text/plain": [
              "<Figure size 432x288 with 1 Axes>"
            ],
            "image/png": "[encoded data removed]"
          },
          "metadata": {
            "needs_background": "light"
          }
        }
      ],
      "source": [
        "#We can plot easily in Python like in matlab, just import the relevant package!\n",
        "%matplotlib inline\n",
        "import matplotlib.pyplot as plt\n",
        "\n",
        "x_vals = [-2, -1, 0, 1, 2]\n",
        "y_vals = [-4, -2, 0, 5, 4]\n",
        "plt.plot(x_vals, y_vals,'g')"
      ]
    },
    {
      "cell_type": "markdown",
      "source": [
        "More about plt.plot(): https://matplotlib.org/stable/api/_as_gen/matplotlib.pyplot.plot.html"
      ],
      "metadata": {
        "id": "9CVF_ds7ncVe"
      }
    },
    {
      "cell_type": "markdown",
      "source": [
        "### Debug"
      ],
      "metadata": {
        "id": "xl9GSZXschKI"
      }
    },
    {
      "cell_type": "code",
      "source": [
        "!pip install ipdb"
      ],
      "metadata": {
        "id": "pdneeTqV1Ip4"
      },
      "execution_count": null,
      "outputs": []
    },
    {
      "cell_type": "code",
      "source": [
        "import ipdb"
      ],
      "metadata": {
        "id": "HhDTemuFmTGY"
      },
      "execution_count": null,
      "outputs": []
    },
    {
      "cell_type": "markdown",
      "source": [
        "### Partial list of debugging commands\n",
        "\n",
        "The following part from https://colab.research.google.com/github/jckantor/CBE30338/blob/master/docs/01.01-Getting-Started-with-Python-and-Jupyter-Notebooks.ipynb\n",
        "\n",
        "There are many more available commands for interactive debugging than we've listed here; the following table contains a description of some of the more common and useful ones:\n",
        "\n",
        "| Command         |  Description                                                |\n",
        "|-----------------|-------------------------------------------------------------|\n",
        "| ``list``        | Show the current location in the file                       |\n",
        "| ``h(elp)``      | Show a list of commands, or find help on a specific command |\n",
        "| ``q(uit)``      | Quit the debugger and the program                           |\n",
        "| ``c(ontinue)``  | Quit the debugger, continue in the program                  |\n",
        "| ``n(ext)``      | Go to the next step of the program                          |\n",
        "| ``<enter>``     | Repeat the previous command                                 |\n",
        "| ``p(rint)``     | Print variables                                             |\n",
        "| ``s(tep)``      | Step into a subroutine                                      |\n",
        "| ``r(eturn)``    | Return out of a subroutine                                  |\n",
        "\n",
        "For more information, use the ``help`` command in the debugger, or take a look at ``ipdb``'s [online documentation](https://github.com/gotcha/ipdb)."
      ],
      "metadata": {
        "id": "s1LWW4Knl-ay"
      }
    },
    {
      "cell_type": "code",
      "source": [
        "float1 = 5.75\n",
        "float2 = 2.25\n",
        "#Addition, subtraction, multiplication, division are as you expect\n",
        "\n",
        "a = float1 + float2\n",
        "b = float1 - float2\n",
        "# ipdb.set_trace()\n",
        "print(a)\n",
        "\n",
        "c = float1 ** float2\n",
        "# ipdb.set_trace()\n",
        "print(c)\n",
        "d = float1 / float2\n",
        "\n",
        "\n",
        "print(5 % 2)"
      ],
      "metadata": {
        "id": "xUVLgjJoc_3N"
      },
      "execution_count": null,
      "outputs": []
    },
    {
      "cell_type": "markdown",
      "source": [
        "ipdb.set_trace(context=6)"
      ],
      "metadata": {
        "id": "YO9U5-TUnEOB"
      }
    },
    {
      "cell_type": "markdown",
      "source": [
        "**Problems**\n",
        "The following part is from problem set 1 in 2022SP SI106."
      ],
      "metadata": {
        "id": "xR0F0Vwiom0p"
      }
    },
    {
      "cell_type": "code",
      "source": [
        "a = 1\n",
        "type(a)"
      ],
      "metadata": {
        "id": "K8lG03-IIGaF"
      },
      "execution_count": null,
      "outputs": []
    },
    {
      "cell_type": "markdown",
      "source": [
        "---\n",
        "## Problem 1\n",
        "\n",
        "Write code to print out the string `\"Hello, world!\"`.\n",
        "\n",
        "Note: your code **must** print this out by calling the `print()` function."
      ],
      "metadata": {
        "id": "EbyVhyH3o14j"
      }
    },
    {
      "cell_type": "code",
      "source": [
        "print('Hello, world!')"
      ],
      "metadata": {
        "colab": {
          "base_uri": "https://localhost:8080/"
        },
        "id": "lmMU--9flrNz",
        "outputId": "3fd73a0c-c4a2-4685-f084-4e11902c6057"
      },
      "execution_count": null,
      "outputs": [
        {
          "output_type": "stream",
          "name": "stdout",
          "text": [
            "Hello, world!\n"
          ]
        }
      ]
    },
    {
      "cell_type": "markdown",
      "source": [
        "---\n",
        "## Problem 2\n",
        "Write code to assign values to the following three variables:\n",
        "1. Assign the variable `course_num_int` to the value `106` (an integer).\n",
        "2. Assign the variable `course_num_float` to the value `106.0` (a float).\n",
        "3. Assign the variable `course_num_string` to the value `\"106\"` (a string)."
      ],
      "metadata": {
        "id": "CwGiris9paQW"
      }
    },
    {
      "cell_type": "code",
      "source": [
        "course_num_int=106\n",
        "course_num_float=106.0\n",
        "course_num_string= '106'"
      ],
      "metadata": {
        "id": "vOB_7aCflzFD"
      },
      "execution_count": null,
      "outputs": []
    },
    {
      "cell_type": "code",
      "source": [
        "print(type(course_num_float))"
      ],
      "metadata": {
        "colab": {
          "base_uri": "https://localhost:8080/"
        },
        "id": "LP0KDDADpOxf",
        "outputId": "8654330f-e613-4f15-9f36-30f319b01b18"
      },
      "execution_count": null,
      "outputs": [
        {
          "output_type": "stream",
          "name": "stdout",
          "text": [
            "<class 'float'>\n"
          ]
        }
      ]
    },
    {
      "cell_type": "markdown",
      "source": [
        "---\n",
        "## Problem 3\n",
        "Find the number of 'Washington' in 'Washington is the 18th-largest state, with an area of 71,362 square miles (184,830 km2), and the 13th-most populous state, with more than 7.7 million people.[6] The majority of Washington's residents live in the Seattle metropolitan area, the center of transportation, business, and industry on Puget Sound,[7][8] an inlet of the Pacific Ocean consisting of numerous islands, deep fjords, and bays carved out by glaciers. The remainder of the state consists of deep temperate rainforests in the west; mountain ranges in the west, central, northeast, and far southeast; and a semi-arid basin region in the east, central, and south, given over to intensive agriculture. Washington is the second most populous state on the West Coast and in the Western United States, after California. Mount Rainier, an active stratovolcano, is the state's highest elevation at 14,411 feet (4,392 meters), and is the most topographically prominent mountain in the contiguous U.S.'"
      ],
      "metadata": {
        "id": "Hz6EkYVxppJN"
      }
    },
    {
      "cell_type": "code",
      "source": [
        "mysentence = \"Washington is the 18th-largest state, with an area of 71,362 square miles (184,830 km2), and the 13th-most populous state, with more than 7.7 million people.[6] The majority of Washington's residents live in the Seattle metropolitan area, the center of transportation, business, and industry on Puget Sound,[7][8] an inlet of the Pacific Ocean consisting of numerous islands, deep fjords, and bays carved out by glaciers. The remainder of the state consists of deep temperate rainforests in the west; mountain ranges in the west, central, northeast, and far southeast; and a semi-arid basin region in the east, central, and south, given over to intensive agriculture. Washington is the second most populous state on the West Coast and in the Western United States, after California. Mount Rainier, an active stratovolcano, is the state's highest elevation at 14,411 feet (4,392 meters), and is the most topographically prominent mountain in the contiguous U.S.\"\n",
        "search = \"Washington\"\n",
        "print(mysentence.count(search))\n"
      ],
      "metadata": {
        "colab": {
          "base_uri": "https://localhost:8080/"
        },
        "id": "5cSoImYoofke",
        "outputId": "51afa852-59a6-4f18-8c4a-fd6639ef89c2"
      },
      "execution_count": null,
      "outputs": [
        {
          "output_type": "stream",
          "name": "stdout",
          "text": [
            "3\n"
          ]
        }
      ]
    },
    {
      "cell_type": "code",
      "source": [
        "mysentence = (\"Washington is the 18th-largest state, with an area of 71,362 square miles (184,830 km2), and the 13th-most populous state, with more than 7.7 million people.[6] The majority of Washington's residents live in the Seattle metropolitan area, the center of transportation, business, and industry on Puget Sound,[7][8] an inlet of the Pacific Ocean consisting of numerous islands, deep fjords, and bays carved out by glaciers. The remainder of the state consists of deep temperate rainforests in the west; mountain ranges in the west, central, northeast, and far southeast; and a semi-arid basin region in the east, central, and south, given over to intensive agriculture. Washington is the second most populous state on the West Coast and in the Western United States, after California. Mount Rainier, an active stratovolcano, is the state's highest elevation at 14,411 feet (4,392 meters), and is the most topographically prominent mountain in the contiguous U.S.\",\"Washington\")\n",
        "mysentence.count(search)\n"
      ],
      "metadata": {
        "colab": {
          "base_uri": "https://localhost:8080/"
        },
        "id": "Pr8Ovlm6roF4",
        "outputId": "e561d576-2d6f-4768-a377-1b31c58e8df6"
      },
      "execution_count": null,
      "outputs": [
        {
          "output_type": "execute_result",
          "data": {
            "text/plain": [
              "1"
            ]
          },
          "metadata": {},
          "execution_count": 28
        }
      ]
    },
    {
      "cell_type": "markdown",
      "metadata": {
        "nbpages": {
          "level": 2,
          "link": "[1.2.3 Additional Resources](https://jckantor.github.io/CBE30338/01.02-Python-Basics.html#1.2.3-Additional-Resources)",
          "section": "1.2.3 Additional Resources"
        },
        "id": "BCrMVbuhGKCu"
      },
      "source": [
        "## Additional Resources\n",
        "* If you still feel VERY lost: [W3schools](https://www.w3schools.com/python/default.asp)\n",
        "\n",
        "* If you want a good reference site: [Official Python Reference](https://docs.python.org/3.7/reference/)\n",
        "\n",
        "* Feel free to contact me at: **fangzhel@umich.edu**\n"
      ]
    },
    {
      "cell_type": "markdown",
      "source": [
        "**License Requirements**  \n",
        "\n",
        "These materials for noncommercial use under terms of the Creative Commons Attribution Noncommericial ShareAlike License. You are invited to fork this repository, and to use, adapt, remix these material for non-commericial purposes. The license terms require you to give attribution and share your work under the same terms."
      ],
      "metadata": {
        "id": "ZBU-Ay1SRWyP"
      }
    }
  ],
  "metadata": {
    "anaconda-cloud": {},
    "kernelspec": {
      "display_name": "Python 3",
      "language": "python",
      "name": "python3"
    },
    "language_info": {
      "codemirror_mode": {
        "name": "ipython",
        "version": 3
      },
      "file_extension": ".py",
      "mimetype": "text/x-python",
      "name": "python",
      "nbconvert_exporter": "python",
      "pygments_lexer": "ipython3",
      "version": "3.7.3"
    },
    "colab": {
      "name": "Intro-To-Python-Day1.ipynb",
      "provenance": [],
      "collapsed_sections": [
        "npKSfs4VGKCr",
        "HCd8dbSBGKCs",
        "CxAlfGuXGKCt"
      ],
      "include_colab_link": true
    }
  },
  "nbformat": 4,
  "nbformat_minor": 0
}