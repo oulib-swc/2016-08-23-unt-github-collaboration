{
  "cells": [
    {
      "cell_type": "markdown",
      "metadata": {
        "id": "view-in-github",
        "colab_type": "text"
      },
      "source": [
        "<a href=\"https://colab.research.google.com/github/AnnaPechenina/2016-08-23-unt-github-collaboration/blob/master/Intro_To_Python_Day3.ipynb\" target=\"_parent\"><img src=\"https://colab.research.google.com/assets/colab-badge.svg\" alt=\"Open In Colab\"/></a>"
      ]
    },
    {
      "cell_type": "markdown",
      "source": [
        "Python Basics\n",
        "Adapted from \"A Beginner's Python Tutorial\" by Steven Thurlow\n",
        "\n",
        "the github link is https://github.com/jvdkwast/Python3_Jupyter_Notebook/tree/093d55dd46db93c07190c44b6075a6c43fdac225"
      ],
      "metadata": {
        "id": "lisgyiEyNjGH"
      }
    },
    {
      "cell_type": "markdown",
      "metadata": {
        "id": "b-sZBWWaFirG"
      },
      "source": [
        "# 4. Functions\n",
        "## 4.1 Introduction\n",
        "Last lesson I said that we would delve into purposeful programming. That involves user input, and user input requires a thing called functions.\n",
        "\n",
        "What are functions? Well, in effect, functions are little self-contained programs that perform a specific task, which you can incorporate into your own, larger programs. After you have created a function, you can use it at any time, in any place. This saves you the time and effort of having to retell the computer what to do every time it does a common task, for example getting the user to type something in.\n",
        "\n",
        "## 4.2 Using a Function\n",
        "Python has lots of pre-made functions, that you can use right now, simply by 'calling' them. 'Calling' a function involves you giving a function input, and it will return a value (like a variable would) as output. Don't understand? Here is the general form that calling a function takes:<br>\n",
        "`function_name(parameters)`\n",
        "\n",
        "See? Easy.\n",
        "\n",
        "- `Function_name` identifies which function it is you want to use (You'd figure...). For example, the function `raw_input`, which will be the first function that we will use.\n",
        "- `Parameters` are the values you pass to the function to tell it what is should do, and how to do it... for example, if a function multiplied any given number by five, the stuff in parameters tells the function which number it should multiply by five. Put the number 70 into parameters, and the function will do 70 x 5."
      ]
    },
    {
      "cell_type": "markdown",
      "metadata": {
        "id": "qljVeJZmFirH"
      },
      "source": [
        "## 4.3 Parameters and Returned Values - Communicating with Functions\n",
        "Well, that's all well and good that the program can multiply a number by five, but what does it have to show for it? A warm fuzzy feeling? Your program needs to see the results of what happened, to see what 70 x 5 is, or to see if there is a problem somewhere (like you gave it a letter instead of a number). So how does a function show what is does?\n",
        "\n",
        "Well, in effect, when a computer runs a function, it doesn't actually see the function name, but the result of what the function did. Variables do the exact same thing - the computer doesn't see the variable name, it sees the value that the variable holds. Let's call this program that multiplied any number by five, `multiply()`. You put the number you want multiplied in the brackets. So if you typed this:\n",
        "\n",
        "`a = multiply(70)`\n",
        "\n",
        "The computer would actually see this:\n",
        "\n",
        "`a = 350`\n",
        "\n",
        "Note: don't bother typing in this code - `multiply()` isn't a real function, unless you create it.\n",
        "\n",
        "The function ran itself, then returned a number to the main program, based on what parameters it was given.\n",
        "\n",
        "Now let's try this with a real function, and see what it does. The function is called `input`, and asks the user to type in something. It then turns it into a string of text. Try the code below:"
      ]
    },
    {
      "cell_type": "code",
      "execution_count": null,
      "metadata": {
        "id": "Oe8p59CEFirI",
        "colab": {
          "base_uri": "https://localhost:8080/"
        },
        "outputId": "81c9e674-0024-49e5-c9f8-566f8aa6b854"
      },
      "outputs": [
        {
          "output_type": "stream",
          "name": "stdout",
          "text": [
            "Type in something, and it will be repeated on screen: abc\n",
            "abc\n"
          ]
        }
      ],
      "source": [
        "# this line makes 'a' equal to whatever you type in\n",
        "a = input(\"Type in something, and it will be repeated on screen: \")\n",
        "# this line prints what 'a' is now worth\n",
        "print(a)"
      ]
    },
    {
      "cell_type": "markdown",
      "metadata": {
        "id": "hLCymbfxFirI"
      },
      "source": [
        "Say in the above program, you typed in `hello` when it asked you to type something in. To the computer, this program would look like this:\n",
        "\n",
        "```Python\n",
        "a = \"hello\"\n",
        "print(\"hello\")\n",
        "```"
      ]
    },
    {
      "cell_type": "markdown",
      "metadata": {
        "id": "06spXPahFirJ"
      },
      "source": [
        "Remember, a variable is just a stored value. To the computer, the variable `a` doesn't look like `a` - it looks like the value that is stored inside it. Functions are similar - to the main program (that is, the program that is running the function), they look like the value of what they give in return of running."
      ]
    },
    {
      "cell_type": "markdown",
      "source": [
        "Doc for eval: https://docs.python.org/3/library/functions.html#eval"
      ],
      "metadata": {
        "id": "td245_q5Wh6I"
      }
    },
    {
      "cell_type": "code",
      "source": [
        "a = 1\n",
        "print(type(a))"
      ],
      "metadata": {
        "colab": {
          "base_uri": "https://localhost:8080/"
        },
        "id": "OcLnKdpoxlws",
        "outputId": "e98cb6e5-a7d2-4cce-c254-58f467cf8e19"
      },
      "execution_count": null,
      "outputs": [
        {
          "output_type": "stream",
          "name": "stdout",
          "text": [
            "<class 'int'>\n"
          ]
        }
      ]
    },
    {
      "cell_type": "markdown",
      "metadata": {
        "id": "NcDNsqAlFirJ"
      },
      "source": [
        "## 4.4 A Calculator Program\n",
        "Let's write another program, that will act as a calculator. This time it will do something more adventurous than what we have done before. There will be a menu, that will ask you whether you want to multiply two numbers together, add two numbers together, divide one number by another, or subtract one number from another. Only problem - the `input` function returns what you type in as a string - we want the number 1, not the letter 1 (and yes, in Python, there is a difference).\n",
        "\n",
        "Luckily, somebody wrote the function `eval`, which returns what you typed in, to the main program - but this time, it puts it in as a number. If you type an integer (a whole number), what comes out of input is an integer. And if you put that integer into a variable, the variable will be an integer-type variable, which means you can add and subtract, etc."
      ]
    },
    {
      "cell_type": "code",
      "execution_count": null,
      "metadata": {
        "id": "KWBugb1gFirK",
        "colab": {
          "base_uri": "https://localhost:8080/"
        },
        "outputId": "ad10dbd6-b987-4557-e826-510dee010836"
      },
      "outputs": [
        {
          "output_type": "stream",
          "name": "stdout",
          "text": [
            "Type in something, and it will be repeated on screen: a\n",
            "Hello, word\n"
          ]
        }
      ],
      "source": [
        "# this line makes 'a' equal to the value that you type. It doesn't accept strings\n",
        "a = eval(input(\"Type in something, and it will be repeated on screen: \"))\n",
        "# this line prints what 'a' is now worth\n",
        "print(a)"
      ]
    },
    {
      "cell_type": "markdown",
      "metadata": {
        "id": "cUhmWLboFirK"
      },
      "source": [
        "Now, let's design this calculator properly. We want a menu that is returned to every time you finish adding, subtracting, etc. In other words, to loop (HINT!!!) while (BIG HINT!!!) you tell it the program should still run.\n",
        "We want it to do an option in the menu if you type in that number. That involves you typing in a number (a.k.a. input) and an `if` loop.<br>\n",
        "Let's write it out in understandable English first (pseudocode):\n",
        "\n",
        "```\n",
        "START PROGRAM\n",
        "print opening message\n",
        "\n",
        "while we let the program run, do this:\n",
        "    #Print what options you have\n",
        "    print Option 1 - add\n",
        "    print Option 2 - subtract\n",
        "    print Option 3 - multiply\n",
        "    print Option 4 - divide\n",
        "    print Option 5 - quit program\n",
        "\n",
        "    ask for which option it is you want\n",
        "    if it is option 1:\n",
        "        ask for first number\n",
        "        ask for second number\n",
        "        add them together\n",
        "        print the result onscreen\n",
        "    if it is option 2:\n",
        "        ask for first number\n",
        "        ask for second number\n",
        "        subtract one from the other\n",
        "        print the result onscreen\n",
        "    if it is option 3:\n",
        "        ask for first number\n",
        "        ask for second number\n",
        "        multiply!\n",
        "        print the result onscreen\n",
        "    if it is option 4:\n",
        "        ask for first number\n",
        "        ask for second number\n",
        "        divide one by the other\n",
        "        print the result onscreen\n",
        "    if it is option 5:\n",
        "        tell the loop to stop looping\n",
        "Print onscreen a goodbye message\n",
        "END PROGRAM\n",
        "```\n",
        "Let's put this in something that Python can understand:"
      ]
    },
    {
      "cell_type": "code",
      "source": [
        "import math"
      ],
      "metadata": {
        "id": "YRvtJ4I24ImP"
      },
      "execution_count": null,
      "outputs": []
    },
    {
      "cell_type": "code",
      "execution_count": null,
      "metadata": {
        "id": "1JGn2GOyFirL",
        "colab": {
          "base_uri": "https://localhost:8080/"
        },
        "outputId": "3e3d4b6f-6b15-447d-e5fa-99c792678811"
      },
      "outputs": [
        {
          "output_type": "stream",
          "name": "stdout",
          "text": [
            "Welcome to calculator.py\n",
            "your options are:\n",
            " \n",
            "1. Addition\n",
            "2. Subtraction\n",
            "3. Multiplication\n",
            "4. Division\n",
            "5. Quit calculator.py\n",
            " \n",
            "Choose your option: 9\n",
            "number to be factorial:5\n",
            "5 !=  120\n",
            "Welcome to calculator.py\n",
            "your options are:\n",
            " \n",
            "1. Addition\n",
            "2. Subtraction\n",
            "3. Multiplication\n",
            "4. Division\n",
            "5. Quit calculator.py\n",
            " \n",
            "Choose your option: 5\n",
            "Thank you for using calculator.py!\n"
          ]
        }
      ],
      "source": [
        "#calculator program\n",
        "\n",
        "#this variable tells the loop whether it should loop or not.\n",
        "#1 means loop. Anything else means don't loop.\n",
        "\n",
        "loop = 1\n",
        "\n",
        "#this variable holds the user's choice in the menu:\n",
        "\n",
        "choice = 0\n",
        "\n",
        "while loop == 1:\n",
        "    #print what options you have\n",
        "    print(\"Welcome to calculator.py\")\n",
        "\n",
        "    print(\"your options are:\")\n",
        "    print(\" \")\n",
        "    print(\"1. Addition\")\n",
        "    print(\"2. Subtraction\")\n",
        "    print(\"3. Multiplication\")\n",
        "    print(\"4. Division\")\n",
        "    print(\"5. Quit calculator.py\")\n",
        "    print(\" \")\n",
        "\n",
        "    choice = eval(input(\"Choose your option: \"))\n",
        "    if choice == 1:\n",
        "        add1 = eval(input(\"Add this: \"))\n",
        "        add2 = eval(input(\"to this: \"))\n",
        "        print(add1, \"+\", add2, \"=\", add1 + add2)\n",
        "    elif choice == 2:\n",
        "        sub2 = eval(input(\"Subtract this: \"))\n",
        "        sub1 = eval(input(\"from this: \"))\n",
        "        print(sub1, \"-\", sub2, \"=\", sub1 - sub2)\n",
        "    elif choice == 3:\n",
        "        mul1 = eval(input(\"Multiply this: \"))\n",
        "        mul2 = eval(input(\"with this: \"))\n",
        "        print(mul1, \"*\", mul2, \"=\", mul1 * mul2)\n",
        "    elif choice == 4:\n",
        "        div1 = eval(input(\"Divide this: \"))\n",
        "        div2 = eval(input(\"by this: \"))\n",
        "        print(div1, \"/\", div2, \"=\", div1 / div2)\n",
        "    elif choice == 6:\n",
        "        num1 = eval(input(\"rise to power:\"))\n",
        "        num2 = eval(input(\"rise by:\"))\n",
        "        print(num1, \"^\", num2, \"=\", num1**num2)\n",
        "    elif choice == 7:\n",
        "        num1 = eval(input(\"base:\"))\n",
        "        num2 = eval(input(\"number to log:\"))\n",
        "        print('log(', num2, ')/log(', num1,')=', math.log(num2)/math.log(num1))\n",
        "    elif choice == 8:\n",
        "        div1 = eval(input(\"module Divide this: \"))\n",
        "        div2 = eval(input(\"by this: \"))\n",
        "        print(div1, \"%\", div2, \"=\", div1 % div2)\n",
        "    elif choice == 9:\n",
        "        num = eval(input(\"number to be factorial:\"))\n",
        "        print(num,'!= ', math.factorial(num))  \n",
        "    elif choice == 5:\n",
        "        loop = 0\n",
        "        \n",
        "print(\"Thank you for using calculator.py!\")"
      ]
    },
    {
      "cell_type": "markdown",
      "source": [
        "Challenge: Can you add the log and exp and module divide for our calculator?"
      ],
      "metadata": {
        "id": "8N7beQMrXseo"
      }
    },
    {
      "cell_type": "markdown",
      "source": [
        "Challenge2: Can you add the factorial for our calculator?\n"
      ],
      "metadata": {
        "id": "JZ1sUzVU1Saf"
      }
    },
    {
      "cell_type": "markdown",
      "metadata": {
        "id": "BHuFsz6VFirL"
      },
      "source": [
        "Play around with it - try all options, entering in integers (numbers without decimal points), and numbers with stuff after the decimal point (known in programming as a floating point). Try typing in text, and see how the program chucks a minor fit, and stops running (that can be dealt with, using error handling, which we can address later)."
      ]
    },
    {
      "cell_type": "markdown",
      "metadata": {
        "id": "e4z0xnC_FirM"
      },
      "source": [
        "## 4.5 Define Your Own Functions\n",
        "Well, it is all well and good that you can use other people's functions, but what if you want to write your own functions, to save time, and maybe use them in other programs? This is where the `def` operator comes in. (An operator is just something that tells Python what to do, e.g. the `+` operator tells Python to add things, the `if` operator tells Python to do something if conditions are met.)\n",
        "\n",
        "This is how the `def` operator works:\n",
        "\n",
        "```\n",
        "def function_name(parameter_1,parameter_2):\n",
        "    {this is the code in the function}\n",
        "    {more code}\n",
        "    {more code}\n",
        "    return {value to return to the main program}\n",
        "{this code isn't in the function}\n",
        "{because it isn't indented}\n",
        "#remember to put a colon \":\" at the end\n",
        "#of the line that starts with 'def'\n",
        "```\n"
      ]
    },
    {
      "cell_type": "markdown",
      "metadata": {
        "id": "wphlKAs2FirM"
      },
      "source": [
        "`function_name` is the name of the function. You write the code that is in the function below that line, and have it indented. (We will worry about `parameter_1` and `parameter_2` later, for now imagine there is nothing between the parentheses.\n",
        "\n",
        "Functions run completely independent of the main program. Remember when I said that when the computer comes to a function, it doesn't see the function, but a value, that the function returns? Here's the quote:\n",
        "\n",
        "To the computer, the variable 'a' doesn't look like 'a' - it looks like the value that is stored inside it. Functions are similar - to the main program (that is, the program that is running the function), they look like the value of what they give in return of running."
      ]
    },
    {
      "cell_type": "markdown",
      "metadata": {
        "id": "K2n1g44jFirM"
      },
      "source": [
        "A function is like a miniature program that some parameters are given to - it then runs itself, and then returns a value. Your main program sees only the returned value. If that function flew to the moon and back, and then at the end had:\n",
        "\n",
        "`return \"hello\"`\n",
        "\n",
        "then all your program would see is the string `\"hello\"`, where the name of the function was. It would have no idea what else the program did.\n",
        "\n",
        "Because it is a separate program, a function doesn't see any of the variables that are in your main program, and your main program doesn't see any of the variables that are in a function. For example, here is a function that prints the words `\"hello\"` onscreen, and then returns the number `'1234'` to the main program:"
      ]
    },
    {
      "cell_type": "code",
      "execution_count": null,
      "metadata": {
        "id": "Npfru4ftFirN",
        "colab": {
          "base_uri": "https://localhost:8080/"
        },
        "outputId": "c08a8c3a-4b05-42bc-cf43-7cdc0466fd2b"
      },
      "outputs": [
        {
          "output_type": "stream",
          "name": "stdout",
          "text": [
            "hello,  Frank\n"
          ]
        }
      ],
      "source": [
        "# Below is the function\n",
        "def hello(name):\n",
        "    print(\"hello, \", name)\n",
        "    return 1234\n",
        "\n",
        "# And here is the function being used\n",
        "a = hello('Frank')\n"
      ]
    },
    {
      "cell_type": "code",
      "source": [
        "print(a)"
      ],
      "metadata": {
        "colab": {
          "base_uri": "https://localhost:8080/"
        },
        "id": "3exsCABb71pD",
        "outputId": "57fbd4d9-ab20-450b-ccc7-ab0e3dde7b53"
      },
      "execution_count": null,
      "outputs": [
        {
          "output_type": "stream",
          "name": "stdout",
          "text": [
            "1234\n"
          ]
        }
      ]
    },
    {
      "cell_type": "markdown",
      "metadata": {
        "id": "4tYC3Bq9FirN"
      },
      "source": [
        "So what happened?\n",
        "1.\twhen `def hello()` was run, a function called `hello` was created\n",
        "2.\tWhen the line `print(hello())` was run, the function `hello` was executed (The code inside it was run)\n",
        "3.\tThe function `hello` printed `\"hello\"` onscreen, then returned the number `1234` back to the main program\n",
        "4.\tThe main program now sees the line as `print(\"1234\")` and as a result, printed `1234`"
      ]
    },
    {
      "cell_type": "markdown",
      "metadata": {
        "id": "UtwPYpXiFirN"
      },
      "source": [
        "That accounts for everything that happened. Remember, that the main program had NO IDEA that the words `hello` were printed onscreen. All it saw was `1234`, and printed that onscreen."
      ]
    },
    {
      "cell_type": "markdown",
      "metadata": {
        "id": "T1nHQwCUFirO"
      },
      "source": [
        "## 4.6 Passing Parameters to functions\n",
        "There is one more thing we will cover in this (monstrously huge) lesson - passing parameters to a function. Think back to how we defined functions:<br>\n",
        "```\n",
        "def function_name(parameter_1,parameter_2):\n",
        "    {this is the code in the function}\n",
        "    {more code}\n",
        "    {more code}\n",
        "    return {value (e.g. text or number) to return to the main program}\n",
        "```\n",
        "\n",
        "Where `parameter_1` and `parameter_2` are (between the parentheses), you put the names of variables that you want to put the parameters into. Put as many as you need, just have them seperated by commas. When you run a function, the first value you put inside the parentheses would go into the variable where `parameter_1` is. The second one (after the first comma) would go to the variable where `parameter_2` is. This goes on for however many parameters there are in the function (from zero, to the sky). For example:"
      ]
    },
    {
      "cell_type": "code",
      "execution_count": null,
      "metadata": {
        "id": "S2PbQVw8FirO"
      },
      "outputs": [],
      "source": [
        "def funnyfunction(first_word,second_word,third_word):\n",
        "    print(\"The word created is: \" + first_word + second_word + third_word)\n",
        "    return first_word + second_word + third_word"
      ]
    },
    {
      "cell_type": "code",
      "source": [
        "funnyfunction('I', 'like', 'Python!')"
      ],
      "metadata": {
        "colab": {
          "base_uri": "https://localhost:8080/",
          "height": 53
        },
        "id": "ms9y2lbR-qHY",
        "outputId": "aa28fcdf-737d-4acd-c429-afe46a2269a4"
      },
      "execution_count": null,
      "outputs": [
        {
          "output_type": "stream",
          "name": "stdout",
          "text": [
            "The word created is: IlikePython!\n"
          ]
        },
        {
          "output_type": "execute_result",
          "data": {
            "text/plain": [
              "'IlikePython!'"
            ],
            "application/vnd.google.colaboratory.intrinsic+json": {
              "type": "string"
            }
          },
          "metadata": {},
          "execution_count": 3
        }
      ]
    },
    {
      "cell_type": "markdown",
      "metadata": {
        "id": "WTDJoPqjFirO"
      },
      "source": [
        "When you run the function above, you would type in something like this: `funnyfunction(\"meat\",\"eater\",\"man\")`. The first value (that is, \"meat\") would be put into the variable called first_word. The second value inside the brackets (that is, \"eater\") would be put into the variable called second_word, and so on. This is how values are passed from the main program to functions - inside the parentheses, after the function name.\n",
        "\n",
        "Add a new line to the script above that invokes the function."
      ]
    },
    {
      "cell_type": "markdown",
      "metadata": {
        "id": "7cvk1Su-FirO"
      },
      "source": [
        "## 4.7 A Final Program\n",
        "Think back to that calculator program. Did it look a bit messy to you? I think it did, so let's re-write it, with functions.\n",
        "\n",
        "To design - First we will define all the functions we are going to use with the `def` operator (still remember what an operator is ;) ). Then we will have the main program, with all that messy code replaced with nice, neat functions. This will make it so much easier to look at again in the future."
      ]
    },
    {
      "cell_type": "code",
      "execution_count": null,
      "metadata": {
        "id": "sdwnX1k6FirO",
        "colab": {
          "base_uri": "https://localhost:8080/"
        },
        "outputId": "a9f2fbec-c61e-4f3f-e34d-5c108b8d9b4d"
      },
      "outputs": [
        {
          "output_type": "stream",
          "name": "stdout",
          "text": [
            "Welcome to calculator.py\n",
            "your options are:\n",
            " \n",
            "1. Addition\n",
            "2. Subtraction\n",
            "3. Multiplication\n",
            "4. Division\n",
            "5. Quit calculator.py\n",
            " \n",
            "Choose your option: 5\n",
            "Thank you for using calculator.py!\n"
          ]
        }
      ],
      "source": [
        "# calculator program\n",
        "\n",
        "# NO CODE IS REALLY RUN HERE, IT IS ONLY TELLING US WHAT WE WILL DO LATER\n",
        "# Here we will define our functions\n",
        "# this prints the main menu, and prompts for a choice\n",
        "def menu():\n",
        "    #print what options you have\n",
        "    print(\"Welcome to calculator.py\")\n",
        "    print(\"your options are:\")\n",
        "    print(\" \")\n",
        "    print(\"1. Addition\")\n",
        "    print(\"2. Subtraction\")\n",
        "    print(\"3. Multiplication\")\n",
        "    print(\"4. Division\")\n",
        "    print(\"5. Quit calculator.py\")\n",
        "    print(\" \")\n",
        "    return eval(input(\"Choose your option: \"))\n",
        "    \n",
        "# this adds two numbers given\n",
        "def add(a,b):\n",
        "    print(a, \"+\", b, \"=\", a + b)\n",
        "    \n",
        "# this subtracts two numbers given\n",
        "def sub(a,b):\n",
        "    print(b, \"-\", a, \"=\", b - a)\n",
        "    \n",
        "# this multiplies two numbers given\n",
        "def mul(a,b):\n",
        "    print(a, \"*\", b, \"=\", a * b)\n",
        "    \n",
        "# this divides two numbers given\n",
        "def div(a,b):\n",
        "    print(a, \"/\", b, \"=\", a / b)\n",
        "    \n",
        "# NOW THE PROGRAM REALLY STARTS, AS CODE IS RUN\n",
        "loop = 1\n",
        "choice = 0\n",
        "while loop == 1:\n",
        "    choice = menu()\n",
        "    if choice == 1:\n",
        "        add(eval(input(\"Add this: \")),eval(input(\"to this: \")))\n",
        "    elif choice == 2:\n",
        "        sub(eval(input(\"Subtract this: \")),eval(input(\"from this: \")))\n",
        "    elif choice == 3:\n",
        "        mul(eval(input(\"Multiply this: \")),eval(input(\"by this: \")))\n",
        "    elif choice == 4:\n",
        "        div(eval(input(\"Divide this: \")),eval(input(\"by this: \")))\n",
        "    elif choice == 5:\n",
        "        loop = 0\n",
        "\n",
        "print(\"Thank you for using calculator.py!\")\n",
        "\n",
        "# NOW THE PROGRAM REALLY FINISHES"
      ]
    },
    {
      "cell_type": "code",
      "source": [
        "def calculator():\n",
        "    loop = 1\n",
        "    choice = 0\n",
        "    while loop == 1:\n",
        "        choice = menu()\n",
        "        num1 = eval(input('first num: '))\n",
        "        num2 = eval(input('second num: '))\n",
        "        if choice == 1:\n",
        "            add(num1, num2)\n",
        "        elif choice == 2:\n",
        "            sub(num1, num2)\n",
        "        elif choice == 5:\n",
        "            loop = 0"
      ],
      "metadata": {
        "id": "K5QwuQunAGzn"
      },
      "execution_count": null,
      "outputs": []
    },
    {
      "cell_type": "code",
      "source": [
        "calculator()"
      ],
      "metadata": {
        "colab": {
          "base_uri": "https://localhost:8080/"
        },
        "id": "mU6qStqcBN1D",
        "outputId": "82d5e731-9ae6-4890-cf19-6d1f34b20777"
      },
      "execution_count": null,
      "outputs": [
        {
          "name": "stdout",
          "output_type": "stream",
          "text": [
            "Welcome to calculator.py\n",
            "your options are:\n",
            " \n",
            "1. Addition\n",
            "2. Subtraction\n",
            "3. Multiplication\n",
            "4. Division\n",
            "5. Quit calculator.py\n",
            " \n",
            "Choose your option: 1\n",
            "first num: 1\n",
            "second num: 1\n",
            "1 + 1 = 2\n",
            "Welcome to calculator.py\n",
            "your options are:\n",
            " \n",
            "1. Addition\n",
            "2. Subtraction\n",
            "3. Multiplication\n",
            "4. Division\n",
            "5. Quit calculator.py\n",
            " \n",
            "Choose your option: 5\n",
            "first num: 1\n",
            "second num: 2\n"
          ]
        }
      ]
    },
    {
      "cell_type": "markdown",
      "metadata": {
        "id": "a_zQIbLsFirP"
      },
      "source": [
        "The initial program had 34 lines of code. The new one actually had 35 lines of code! It is a little longer, but if you look at it the right way, it is actually simpler.\n",
        "\n",
        "You defined all your functions at the top. This really isn't part of your main program - they are just lots of little programs that you will call upon later. You could even re-use these in another program if you needed them, and didn't want to tell the computer how to add and subtract again.\n",
        "\n",
        "If you look at the main part of the program (between the line `loop = 1` and `print(\"Thank you for...\")`), it is only 15 lines of code. That means that if you wanted to write this program differently, you would only have to write 15 or so lines, as opposed to the 34 lines you would normally have to without functions."
      ]
    },
    {
      "cell_type": "markdown",
      "metadata": {
        "id": "60EVtCesFirP"
      },
      "source": [
        "## 4.8 Tricky Ways You Can Pass Parameters\n",
        "Finally, as a bit of an interlude, I will explain what the line `add(eval(input(\"Add this: \")),eval(input(\"to this: \")))` means.\n",
        "\n",
        "I wanted to fit everything onto one line, with as few variables as possible. Remember what functions look like to the main program? Whatever value they return. If the numbers you passed to the add() function were 2 and 30, the main program would see this:\n",
        "\n",
        "`add(2,30)`\n",
        "\n",
        "The add program would then run, adding 2 and 30, then printing the result. The add program has no `return` operator - it doesn't return anything to the main program. It simply adds two numbers and prints them onscreen, and the main program doesn't see anything of it.\n",
        "\n",
        "Instead of `(eval(input(\"Add this: \")),eval(input(\"to this: \")))` as the parameters for the add program you could have variables. E.g.\n",
        "\n",
        "```\n",
        "num1 = 45\n",
        "num2 = 7\n",
        "add(num1,num2)\n",
        "```\n",
        "\n",
        "For the above, remember that the function you are passing the variables to cannot change the variables themselves - they are simply used as values. You could even put the values straight into the function:\n",
        "\n",
        "`add(45,7)`\n",
        "\n",
        "This is because the only thing the function sees are the values that are passed on as parameters. Those values are put into the variables that are mentioned when `add` is defined (the line `def add(a,b)`). The function then uses those parameters to do its job.\n",
        "\n",
        "In short:\n",
        "* The only thing functions see of the main program is the parameters that are passed to it\n",
        "* The only thing the main program sees of functions is the returned value that it passes back"
      ]
    },
    {
      "cell_type": "markdown",
      "metadata": {
        "id": "uvlf7CXRGCkH"
      },
      "source": [
        "# 5.\tTuples, Lists, and Dictionaries\n",
        "## 5.1\tIntroduction\n",
        "Your brain still hurting from the last lesson? Never worry, this one will require a little less thought. We're going back to something simple - variables - but a little more in depth.\n",
        "\n",
        "Think about it - variables store one bit of information. They may regurgitate (just not on the carpet...) that information at any point, and their bit of information can be changed at any time. Variables are great at what they do - storing a piece of information that may change over time.\n",
        "\n",
        "But what if you need to store a long list of information, which doesn't change over time? Say, for example, the names of the months of the year. Or maybe a long list of information that does change over time? Say, for example, the names of all your cats. You might get new cats, some may die, some may become your dinner (we should trade recipies!). What about a phone book? For that you need to do a bit of referencing - you would have a list of names, and attached to each of those names, a phone number. How would you do that?"
      ]
    },
    {
      "cell_type": "markdown",
      "metadata": {
        "id": "9IkIsZ8JGCkI"
      },
      "source": [
        "## 5.2\tThe Solution - Lists, Tuples, and Dictionaries\n",
        "For these three problems, Python uses three different solutions - Tuples, Lists, and Dictionaries:\n",
        "* **Lists** are what they seem - a list of values. Each one of them is numbered, starting from zero - the first one is numbered zero, the second 1, the third 2, etc. You can remove values from the list, and add new values to the end. Example: Your many cats' names.\n",
        "* **Tuples** are just like lists, but you can't change their values. The values that you give it first up, are the values that you are stuck with for the rest of the program. Again, each value is numbered starting from zero, for easy reference. Example: the names of the months of the year.\n",
        "* **Dictionaries** are similar to what their name suggests - a dictionary. In a dictionary, you have an 'index' of words, and for each of them a definition. In Python, the word is called a 'key', and the definition a 'value'. The values in a dictionary aren't numbered - they aren't in any specific order, either - the key does the same thing. You can add, remove, and modify the values in dictionaries. Example: telephone book."
      ]
    },
    {
      "cell_type": "markdown",
      "metadata": {
        "id": "GR7iJ_PQGCkJ"
      },
      "source": [
        "### 5.2.1 Tuples\n",
        "Tuples are pretty easy to make. You give your tuple a name, then after that the list of values it will carry. For example, the months of the year:"
      ]
    },
    {
      "cell_type": "code",
      "execution_count": null,
      "metadata": {
        "id": "y-GQacqGGCkJ"
      },
      "outputs": [],
      "source": [
        "months = ('January','February','March','April','May','June',\\\n",
        "'July','August','September','October','November','  December')"
      ]
    },
    {
      "cell_type": "markdown",
      "metadata": {
        "id": "9zjZxUXMGCkK"
      },
      "source": [
        "* Note that the `\\` thingy at the end of the first line carries over that line of code to the next line. It is useful way of making big lines more readable.\n",
        "* Technically you don't have to put those parentheses there (the `(` and `)` thingies) but it stops Python from getting things confused.\n",
        "* You may have spaces after the commas if you feel it necessary - it doesn't really matter"
      ]
    },
    {
      "cell_type": "markdown",
      "metadata": {
        "id": "QxUThQJeGCkK"
      },
      "source": [
        "Python then organises those values in a handy, numbered index - starting from zero, in the order that you entered them in. It would be organised like this:<br>\n",
        "\n",
        "| Index | Value |\n",
        "| :---: | :---: |\n",
        "| 0 | January |\n",
        "| 1 | February |\n",
        "| 2 | March |\n",
        "| 3 | April |\n",
        "| 4 | May |\n",
        "| 5 | June |\n",
        "| 6 | July |\n",
        "| 7 | August |\n",
        "| 8 | September |\n",
        "| 9 | October |\n",
        "| 10 | November |\n",
        "| 11 | December |\n",
        "And that is tuples! Really easy..."
      ]
    },
    {
      "cell_type": "markdown",
      "metadata": {
        "id": "DqDbMXwzGCkL"
      },
      "source": [
        "### 5.2.2 Lists\n",
        "Lists are extremely similar to tuples. Lists are modifiable (or 'mutable', as a programmer may say), so their values can be changed. Most of the time we use lists, not tuples, because we want to easily change the values of things if we need to.\n",
        "\n",
        "Lists are defined very similarly to tuples. Say you have FIVE cats, called Tom, Snappy, Kitty, Jessie and Chester. To put them in a list, you would do this:<br>"
      ]
    },
    {
      "cell_type": "code",
      "execution_count": null,
      "metadata": {
        "id": "QNTw8JTOGCkL"
      },
      "outputs": [],
      "source": [
        "cats = ['Tom', 'Snappy', 'Kitty', 'Jessie', 'Chester']"
      ]
    },
    {
      "cell_type": "markdown",
      "metadata": {
        "id": "_ozVaPbwGCkM"
      },
      "source": [
        "As you see, the code is exactly the same as a tuple, EXCEPT that all the values are put between square brackets, not parentheses. Again, you don't have to have spaces after the comma.\n",
        "\n",
        "You recall values from lists exactly the same as you do with tuples. For example, to print the name of your 3rd cat you would do this:"
      ]
    },
    {
      "cell_type": "code",
      "execution_count": null,
      "metadata": {
        "id": "Z2Zu0bD5GCkM"
      },
      "outputs": [],
      "source": [
        "print(cats[2])"
      ]
    },
    {
      "cell_type": "markdown",
      "metadata": {
        "id": "YnEhlCPRGCkM"
      },
      "source": [
        "You can also recall a range of examples, like above, for example - `cats[0:2]` would recall your 1st and 2nd cats. Try it in the field above.\n",
        "\n",
        "Where lists come into their own is how they can be modified. To add a value to a list, you use the `append()` function. Let's say you got a new cat called Catherine. To add her to the list you'd do this:"
      ]
    },
    {
      "cell_type": "code",
      "execution_count": null,
      "metadata": {
        "id": "YZmAD1qCGCkM"
      },
      "outputs": [],
      "source": [
        "cats.append('Catherine')"
      ]
    },
    {
      "cell_type": "markdown",
      "metadata": {
        "id": "nQtrF78DGCkM"
      },
      "source": [
        "Use the field below to check if the cat has been added to the list."
      ]
    },
    {
      "cell_type": "code",
      "execution_count": null,
      "metadata": {
        "id": "IcknyM57GCkN"
      },
      "outputs": [],
      "source": []
    },
    {
      "cell_type": "markdown",
      "metadata": {
        "id": "r9jYlhsmGCkN"
      },
      "source": [
        "That's a little weird, isn't it? I'll explain. That function is in a funny spot - after a period `.` after the list name. You'll get to see those things more in a later lesson. For the meanwhile, this is the form of the function that adds a new value to a list:\n",
        "```Python\n",
        "#add a new value to the end of a list:\n",
        "list_name.append(value-to-add)\n",
        "\n",
        "#e.g. to add the number 5038 to the list 'numbers':\n",
        "numbers.append(5038)\n",
        "```\n",
        "\n",
        "Clears things up? Good!\n",
        "Now to a sad situation - Snappy was shot by a neighbour, and eaten for their dinner (good on 'em!). You need to remove him (or her) from the list. Removing that sorry cat is an easy task, thankfully, so you have to wallow in sadness for as short a time as possible:"
      ]
    },
    {
      "cell_type": "code",
      "execution_count": null,
      "metadata": {
        "id": "QTZU9BiXGCkN"
      },
      "outputs": [],
      "source": [
        "#Remove your 2nd cat, Snappy. Woe is you.\n",
        "del cats[1]"
      ]
    },
    {
      "cell_type": "markdown",
      "metadata": {
        "id": "vfSPAXd4GCkN"
      },
      "source": [
        "Check again which cats are in the list:"
      ]
    },
    {
      "cell_type": "code",
      "execution_count": null,
      "metadata": {
        "id": "nMcIFdF-GCkN"
      },
      "outputs": [],
      "source": []
    },
    {
      "cell_type": "markdown",
      "metadata": {
        "id": "rJ6HaF58GCkN"
      },
      "source": [
        "You've just removed the 2nd cat in your list - poor old Snappy.\n",
        "And with that morbid message, lets move on to..."
      ]
    },
    {
      "cell_type": "markdown",
      "metadata": {
        "id": "3f6OwLRyGCkO"
      },
      "source": [
        "### 5.3 Dictionaries\n",
        "Okay, so there is more to life than the names of your cats. You need to call your sister, mother, son, the fruit man, and anyone else who needs to know that their favourite cat is dead. For that you need a telephone book.\n",
        "\n",
        "Now, the lists we've used above aren't really suitable for a telephone book. You need to know a number based on someone's name - not the other way around, like what we did with the cats. In the examples of months and cats, we gave the computer a number, and it gave us a name. This time we want to give the computer a name, and it gives us a number. For this we need *Dictionaries*.\n",
        "\n",
        "So how do we make a dictionary? Put away your binding equipment, it isn't that advanced.\n",
        "Remember, dictionaries have keys, and values. In a phone book, you have people's names, then their numbers. See a similarity?\n",
        "\n",
        "When you initially create a dictionary, it is very much like making a tuple or list. Tuples have `(` and `)` things, lists have `[` and `]` things. Guess what! Dictionaries have `{` and `}` things - curly braces. Here is an example below, showing a dictionary with four phone numbers in it:"
      ]
    },
    {
      "cell_type": "code",
      "execution_count": null,
      "metadata": {
        "id": "zX2zyXyTGCkO"
      },
      "outputs": [],
      "source": [
        "#Make the phone book:\n",
        "phonebook = {'Andrew Parson':8806336, \\\n",
        "'Emily Everett':6784346, 'Peter Power':7658344, \\\n",
        "'Lewis Lame':1122345}\n",
        "print(phonebook['Lewis Lame'])"
      ]
    },
    {
      "cell_type": "markdown",
      "metadata": {
        "id": "XI-bAUGQGCkO"
      },
      "source": [
        "When you run it you see that Lewis Lame's number is printed onscreen. Notice how instead of identifying the value by a number, like in the cats and months examples, we identify the value, using another value - in this case the person's name.\n",
        "\n",
        "Ok, you've created a new phone book. Now you want to add new numbers to the book. What do you do? A very simple line of code:"
      ]
    },
    {
      "cell_type": "code",
      "execution_count": null,
      "metadata": {
        "id": "xbgwtd7bGCkO"
      },
      "outputs": [],
      "source": [
        "#Add the person 'Gingerbread Man' to the phonebook:\n",
        "\n",
        "phonebook['Gingerbread Man'] = 1234567\n",
        "\n",
        "# Didn't think I would give you\n",
        "# my real number now, would I?"
      ]
    },
    {
      "cell_type": "markdown",
      "metadata": {
        "id": "B77R17_9GCkO"
      },
      "source": [
        "All that line is saying is that there is a person called Gingerbread Man in the phone book, and his number is `1234567`. In other words - the key is `Gingerbread Man`, and the value is `1234567`."
      ]
    },
    {
      "cell_type": "markdown",
      "metadata": {
        "id": "jXaJvCnpGCkO"
      },
      "source": [
        "Check if it's added using the field below."
      ]
    },
    {
      "cell_type": "code",
      "execution_count": null,
      "metadata": {
        "id": "W50tuZcqGCkP"
      },
      "outputs": [],
      "source": []
    },
    {
      "cell_type": "markdown",
      "metadata": {
        "id": "x1D9KiDbGCkP"
      },
      "source": [
        "You delete entries in a dictionary just like in a list. Let's say Andrew Parson is your neighbour, and shot your cat. You never want to talk to him again, and therefore don't need his number. Just like in a list, you'd do this:"
      ]
    },
    {
      "cell_type": "code",
      "execution_count": null,
      "metadata": {
        "id": "mxxR0MSEGCkP"
      },
      "outputs": [],
      "source": [
        "del phonebook['Andrew Parson']"
      ]
    },
    {
      "cell_type": "markdown",
      "metadata": {
        "id": "IQyTLqt9GCkP"
      },
      "source": [
        "Again, very easy. the `del` operator deletes any function, variable, or entry in a list or dictionary (An entry in a dictionary is just a variable with a number or text string as a name. This comes in handy later on.)"
      ]
    },
    {
      "cell_type": "markdown",
      "metadata": {
        "id": "92e8OlgcGCkP"
      },
      "source": [
        "Check if the number is gone using the field below."
      ]
    },
    {
      "cell_type": "code",
      "execution_count": null,
      "metadata": {
        "id": "-AvauSHRGCkP"
      },
      "outputs": [],
      "source": []
    },
    {
      "cell_type": "markdown",
      "metadata": {
        "id": "RffKl_1WGCkP"
      },
      "source": [
        "Remember that append function that we used with the list? Well, there are quite a few of those that can be used with dictionaries. Below, I will write you a program, and it will incorporate some of those functions in. It will have comments along the way explaining what it does. Experiment as much as you like with it."
      ]
    },
    {
      "cell_type": "code",
      "execution_count": null,
      "metadata": {
        "id": "FHSlD5XwGCkP"
      },
      "outputs": [],
      "source": [
        "#A few examples of a dictionary\n",
        "\n",
        "#First we define the dictionary\n",
        "#it will have nothing in it this time\n",
        "ages = {}\n",
        "\n",
        "#Add a couple of names to the dictionary\n",
        "ages['Sue'] = 23\n",
        "ages['Peter'] = 19\n",
        "ages['Andrew'] = 78\n",
        "ages['Karren'] = 45\n",
        "\n",
        "#Use an 'if' statement to find a key in the list.\n",
        "#Remember - this is how 'if' statements work -\n",
        "#they run if something is true\n",
        "#and they don't when something is false.\n",
        "if 'Sue' in ages:\n",
        "    print(\"Sue is in the dictionary. She is\", \\\n",
        "ages['Sue'], \"years old\")\n",
        "\n",
        "else:\n",
        "    print(\"Sue is not in the dictionary\")\n",
        "\n",
        "#Use the function keys() - \n",
        "#This function returns a list\n",
        "#of all the names of the keys.\n",
        "#E.g.\n",
        "print(\"The following people are in the dictionary:\")\n",
        "print(ages.keys())\n",
        "\n",
        "#You could use this function to\n",
        "#put all the key names in a list:\n",
        "keys = ages.keys()\n",
        "\n",
        "#You can also get a list\n",
        "#of all the values in a dictionary.\n",
        "#You use the values() function:\n",
        "print(\"People are aged the following:\", \\\n",
        "ages.values())\n",
        "\n",
        "#Put it in a list:\n",
        "values = ages.values()\n",
        "\n",
        "#You can sort lists, with the sorted() function\n",
        "#It will sort all values in a list\n",
        "#alphabetically, numerically, etc...\n",
        "#You can't sort dictionaries - \n",
        "#they are in no particular order\n",
        "print(keys)\n",
        "sortedkeys = sorted(keys)\n",
        "print(sortedkeys)\n",
        "\n",
        "print(values)\n",
        "sortedvalues = sorted(values)\n",
        "print(sortedvalues)\n",
        "\n",
        "#You can find the number of entries\n",
        "#with the len() function:\n",
        "print(\"The dictionary has\", \\\n",
        "len(ages), \"entries in it\")"
      ]
    }
  ],
  "metadata": {
    "kernelspec": {
      "display_name": "Python 3",
      "language": "python",
      "name": "python3"
    },
    "language_info": {
      "codemirror_mode": {
        "name": "ipython",
        "version": 3
      },
      "file_extension": ".py",
      "mimetype": "text/x-python",
      "name": "python",
      "nbconvert_exporter": "python",
      "pygments_lexer": "ipython3",
      "version": "3.7.9"
    },
    "colab": {
      "name": "Intro-To-Python-Day3.ipynb",
      "provenance": [],
      "collapsed_sections": [],
      "include_colab_link": true
    }
  },
  "nbformat": 4,
  "nbformat_minor": 0
}