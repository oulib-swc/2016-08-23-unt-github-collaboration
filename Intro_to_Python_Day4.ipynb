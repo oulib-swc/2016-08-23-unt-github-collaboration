{
  "cells": [
    {
      "cell_type": "markdown",
      "metadata": {
        "id": "view-in-github",
        "colab_type": "text"
      },
      "source": [
        "<a href=\"https://colab.research.google.com/github/AnnaPechenina/2016-08-23-unt-github-collaboration/blob/master/Intro_to_Python_Day4.ipynb\" target=\"_parent\"><img src=\"https://colab.research.google.com/assets/colab-badge.svg\" alt=\"Open In Colab\"/></a>"
      ]
    },
    {
      "cell_type": "markdown",
      "source": [
        "**Adapted from \"A Beginner's Python Tutorial\" by Steven Thurlow and Erica Yan's lecture node**   \n",
        "\n",
        "**the github link is https://github.com/jvdkwast/Python3_Jupyter_Notebook/tree/093d55dd46db93c07190c44b6075a6c43fdac225**"
      ],
      "metadata": {
        "id": "sdHMDcrOmSpM"
      }
    },
    {
      "cell_type": "markdown",
      "source": [
        "Study objectives:\n",
        "\n",
        "\n",
        "1.   For loop (very useful in manipulate data --> how to understand others' code)\n",
        "2.   Debug (one of the most important skill for non-programmer Python users --> how to use others' code)\n",
        "\n"
      ],
      "metadata": {
        "id": "A7K2r-2Wmw-5"
      }
    },
    {
      "cell_type": "markdown",
      "source": [
        "![Today's meme](https://i.redd.it/wk843smkri441.jpg)"
      ],
      "metadata": {
        "id": "XuqU4o5_qJFc"
      }
    },
    {
      "cell_type": "markdown",
      "source": [
        "Problem 1"
      ],
      "metadata": {
        "id": "U2mPWmivp4gQ"
      }
    },
    {
      "cell_type": "code",
      "source": [
        "# start today by implementing factorial\n",
        "def factorial(num):\n",
        "# 3! = 6, 5! = 120\n",
        "    result = 1\n",
        "    while (num > 0):\n",
        "        # do something\n",
        "        result = result * num # some people will do: result *= num\n",
        "        # do something\n",
        "        num = num - 1 # some people will do: num -= 1\n",
        "    return result\n",
        "\n"
      ],
      "metadata": {
        "id": "L8db0th8poWx"
      },
      "execution_count": null,
      "outputs": []
    },
    {
      "cell_type": "code",
      "source": [
        "factorial(3)"
      ],
      "metadata": {
        "colab": {
          "base_uri": "https://localhost:8080/"
        },
        "id": "Ust0vbnF5tI9",
        "outputId": "e378215f-68ba-411e-f49e-10d01bb2c20b"
      },
      "execution_count": null,
      "outputs": [
        {
          "output_type": "execute_result",
          "data": {
            "text/plain": [
              "6"
            ]
          },
          "metadata": {},
          "execution_count": 2
        }
      ]
    },
    {
      "cell_type": "code",
      "source": [
        "import math\n",
        "\n",
        "\n",
        "def fac(a):\n",
        "    print('Result: ', math.factorial(a))\n",
        "\n",
        "def menu():\n",
        "    print(\"Welcome!\")\n",
        "    print(\" \")\n",
        "    print(\"1. Get Started!\")\n",
        "    print(\"2. Quit\")\n",
        "    print(\" \")\n",
        "    return eval(input(\"I want to: \"))\n",
        "\n",
        "\n",
        "loop = 1\n",
        "choice = 0\n",
        "while loop == 1:\n",
        "    choice = menu()\n",
        "    if choice == 1:\n",
        "        fac(eval(input(\"Enter a number: \")))\n",
        "    elif choice == 2:\n",
        "        loop = 0\n",
        "\n",
        "print(\"Thank you for choosing us!\")\n"
      ],
      "metadata": {
        "colab": {
          "base_uri": "https://localhost:8080/"
        },
        "id": "xcoatKxa4B20",
        "outputId": "a6dc604f-5a35-4b0f-fd70-5d22eeac274d"
      },
      "execution_count": null,
      "outputs": [
        {
          "output_type": "stream",
          "name": "stdout",
          "text": [
            "Welcome!\n",
            " \n",
            "1. Get Started!\n",
            "2. Quit\n",
            " \n",
            "I want to: 2\n",
            "Thank you for choosing us!\n"
          ]
        }
      ]
    },
    {
      "cell_type": "markdown",
      "metadata": {
        "id": "FMYsbAdnYLoJ"
      },
      "source": [
        "# 6. For Loop\n",
        "## 6.1 Introduction\n",
        "Well, in the first lesson about loops, I said I would put off teaching you the for loop, until we had reached lists. Well, here it is!\n",
        "## 6.2 The `for` Loop\n",
        "Basically, the `for` loop does something for every value in a list. The way it is set out is a little confusing, but otherwise is very basic. Here is an example of it in code:"
      ]
    },
    {
      "cell_type": "markdown",
      "metadata": {
        "id": "68dace27"
      },
      "source": [
        "### Iteration (looping)\n",
        "\n",
        "\n",
        "\n",
        "#### for loop (definite loop)"
      ]
    },
    {
      "cell_type": "markdown",
      "metadata": {
        "id": "708f1fdd"
      },
      "source": [
        "![Looping structure](https://www.guru99.com/images/PL-SQL/110215_0850_LoopsConcep1.png)"
      ]
    },
    {
      "cell_type": "code",
      "execution_count": null,
      "metadata": {
        "id": "ad04e352"
      },
      "outputs": [],
      "source": [
        "##for <var> in <iterable>:\n",
        "    #<statement(s)>\n",
        "    \n",
        "#this is similar to : \n",
        "#if <var> in <iterable>:\n",
        "    #<statement(s)> \n",
        "    #go to the next <var>"
      ]
    },
    {
      "cell_type": "markdown",
      "metadata": {
        "id": "cb7383aa"
      },
      "source": [
        "Sequences are iterable. We can create for looping structure to iterate through a sequence (e.g., lists, tuples, strings)."
      ]
    },
    {
      "cell_type": "code",
      "source": [
        "name_list = [\"Susie\" , \"John\" , \"Jimmy\" , \"Georgia\"]\n",
        "type(name_list)"
      ],
      "metadata": {
        "colab": {
          "base_uri": "https://localhost:8080/"
        },
        "id": "JkWyDCYH8tdY",
        "outputId": "62456263-976f-46d3-ed61-f91e8f33319d"
      },
      "execution_count": null,
      "outputs": [
        {
          "output_type": "execute_result",
          "data": {
            "text/plain": [
              "list"
            ]
          },
          "metadata": {},
          "execution_count": 5
        }
      ]
    },
    {
      "cell_type": "code",
      "execution_count": null,
      "metadata": {
        "id": "d4710026",
        "outputId": "0de5ad56-ed7d-40f1-b093-a36927b8f49c",
        "colab": {
          "base_uri": "https://localhost:8080/"
        }
      },
      "outputs": [
        {
          "output_type": "stream",
          "name": "stdout",
          "text": [
            "Susie you are next in line\n",
            "this is a new line\n",
            "John you are next in line\n",
            "this is a new line\n",
            "Jimmy you are next in line\n",
            "this is a new line\n",
            "Georgia you are next in line\n",
            "this is a new line\n"
          ]
        }
      ],
      "source": [
        "## iterating items in a list: for looping\n",
        "# looping variable (or iterator variable): name \n",
        "# indentation for loop body\n",
        "# sequence: name list \n",
        "\n",
        "for name in [\"Susie\" , \"John\" , \"Jimmy\" , \"Georgia\"]: \n",
        "    print(name, \"you are next in line\")\n",
        "    print(\"this is a new line\")\n"
      ]
    },
    {
      "cell_type": "code",
      "execution_count": null,
      "metadata": {
        "id": "a0118d3b",
        "outputId": "2aa1acfa-cf08-4474-e840-6f05da5bb6ed",
        "colab": {
          "base_uri": "https://localhost:8080/"
        }
      },
      "outputs": [
        {
          "output_type": "stream",
          "name": "stdout",
          "text": [
            "<class 'str'>\n",
            "hello\n",
            "hello\n",
            "hello\n",
            "hello\n",
            "hello\n",
            "hello\n",
            "hello\n",
            "hello\n"
          ]
        }
      ],
      "source": [
        "##iterating characters in a string\n",
        "## indentation\n",
        "# what if ch is not actually used in code block?\n",
        "\n",
        "s = \"How are you?\"\n",
        "print(type(s[4:]))\n",
        "for _ in s[4:]: \n",
        "    print(\"hello\")"
      ]
    },
    {
      "cell_type": "code",
      "source": [
        "s = \"How are you?\"\n",
        "len(s[4:])"
      ],
      "metadata": {
        "colab": {
          "base_uri": "https://localhost:8080/"
        },
        "id": "CcBBkmSm9vQZ",
        "outputId": "527eb987-489e-42df-f9dd-ab8e0f66153c"
      },
      "execution_count": null,
      "outputs": [
        {
          "output_type": "execute_result",
          "data": {
            "text/plain": [
              "8"
            ]
          },
          "metadata": {},
          "execution_count": 8
        }
      ]
    },
    {
      "cell_type": "markdown",
      "metadata": {
        "id": "3f7ac464"
      },
      "source": [
        "Naming variables in for looping is important and helpful for programming."
      ]
    },
    {
      "cell_type": "code",
      "execution_count": null,
      "metadata": {
        "id": "540b2e57",
        "outputId": "9d165f46-8ab7-4e5d-a37e-0c9f795e34f2",
        "colab": {
          "base_uri": "https://localhost:8080/"
        }
      },
      "outputs": [
        {
          "output_type": "stream",
          "name": "stdout",
          "text": [
            "green\n",
            "red\n",
            "blue\n"
          ]
        }
      ],
      "source": [
        "#naming your looping variable\n",
        "for color in (\"green\", \"red\",\"blue\"):\n",
        "    print(color)"
      ]
    },
    {
      "cell_type": "markdown",
      "metadata": {
        "id": "3280fe0d"
      },
      "source": [
        "Printing out intermediary results is helpful for programming."
      ]
    },
    {
      "cell_type": "markdown",
      "metadata": {
        "id": "a6ef5d8b"
      },
      "source": [
        "##### More examples!"
      ]
    },
    {
      "cell_type": "code",
      "execution_count": null,
      "metadata": {
        "id": "4b0d5e8d",
        "outputId": "8bd333f3-b1cd-4282-fe63-67af3afcaea1",
        "colab": {
          "base_uri": "https://localhost:8080/",
          "height": 219
        }
      },
      "outputs": [
        {
          "output_type": "error",
          "ename": "ValueError",
          "evalue": "ignored",
          "traceback": [
            "\u001b[0;31m---------------------------------------------------------------------------\u001b[0m",
            "\u001b[0;31mValueError\u001b[0m                                Traceback (most recent call last)",
            "\u001b[0;32m<ipython-input-10-0ba4090e76e3>\u001b[0m in \u001b[0;36m<module>\u001b[0;34m()\u001b[0m\n\u001b[1;32m      2\u001b[0m \u001b[0mstudent\u001b[0m \u001b[0;34m=\u001b[0m \u001b[0;34m[\u001b[0m\u001b[0;34m(\u001b[0m\u001b[0;34m\"erica\"\u001b[0m\u001b[0;34m,\u001b[0m\u001b[0;36m1\u001b[0m\u001b[0;34m)\u001b[0m\u001b[0;34m,\u001b[0m\u001b[0;34m(\u001b[0m\u001b[0;34m\"Linda\"\u001b[0m\u001b[0;34m,\u001b[0m\u001b[0;36m2\u001b[0m\u001b[0;34m)\u001b[0m\u001b[0;34m,\u001b[0m\u001b[0;34m(\u001b[0m\u001b[0;34m\"John\"\u001b[0m\u001b[0;34m,\u001b[0m\u001b[0;36m3\u001b[0m\u001b[0;34m)\u001b[0m\u001b[0;34m]\u001b[0m\u001b[0;34m\u001b[0m\u001b[0;34m\u001b[0m\u001b[0m\n\u001b[1;32m      3\u001b[0m \u001b[0;34m\u001b[0m\u001b[0m\n\u001b[0;32m----> 4\u001b[0;31m \u001b[0;32mfor\u001b[0m \u001b[0mname\u001b[0m\u001b[0;34m,\u001b[0m \u001b[0mID\u001b[0m\u001b[0;34m,\u001b[0m \u001b[0minfo\u001b[0m \u001b[0;32min\u001b[0m \u001b[0mstudent\u001b[0m\u001b[0;34m:\u001b[0m\u001b[0;34m\u001b[0m\u001b[0;34m\u001b[0m\u001b[0m\n\u001b[0m\u001b[1;32m      5\u001b[0m     \u001b[0mprint\u001b[0m\u001b[0;34m(\u001b[0m\u001b[0mname\u001b[0m\u001b[0;34m,\u001b[0m \u001b[0mID\u001b[0m\u001b[0;34m,\u001b[0m \u001b[0minfo\u001b[0m\u001b[0;34m)\u001b[0m\u001b[0;34m\u001b[0m\u001b[0;34m\u001b[0m\u001b[0m\n",
            "\u001b[0;31mValueError\u001b[0m: not enough values to unpack (expected 3, got 2)"
          ]
        }
      ],
      "source": [
        "#Example 1: two looping variables: \n",
        "student = [(\"erica\",1),(\"Linda\",2),(\"John\",3)]\n",
        "\n",
        "for name, ID, info in student: \n",
        "    print(name, ID, info)"
      ]
    },
    {
      "cell_type": "code",
      "source": [
        "name, ID, info = (\"erica\",1, 'information')"
      ],
      "metadata": {
        "id": "ooFy3LpQ-qdJ"
      },
      "execution_count": null,
      "outputs": []
    },
    {
      "cell_type": "code",
      "source": [
        "print(ID)"
      ],
      "metadata": {
        "colab": {
          "base_uri": "https://localhost:8080/"
        },
        "id": "AskV6e5u-33H",
        "outputId": "ef427916-b2d4-4720-8fca-348bbdf38748"
      },
      "execution_count": null,
      "outputs": [
        {
          "output_type": "stream",
          "name": "stdout",
          "text": [
            "1\n"
          ]
        }
      ]
    },
    {
      "cell_type": "code",
      "execution_count": null,
      "metadata": {
        "id": "83a9ef95",
        "outputId": "42ba1361-0da9-4584-8072-50ba704472a3",
        "colab": {
          "base_uri": "https://localhost:8080/"
        }
      },
      "outputs": [
        {
          "output_type": "stream",
          "name": "stdout",
          "text": [
            "1\n",
            "3\n",
            "6\n",
            "10\n",
            "15\n",
            "the final result is 15\n"
          ]
        }
      ],
      "source": [
        "#Example 2: accumulation using 'for' loop\n",
        "\n",
        "#calculate the sum from 1 to 5 \n",
        "\n",
        "accum = 0\n",
        "num = [1,2,3,4,5]\n",
        "\n",
        "for w in num: \n",
        "    accum = accum + w\n",
        "    print(accum)\n",
        "print(\"the final result is\", accum)\n"
      ]
    },
    {
      "cell_type": "code",
      "execution_count": null,
      "metadata": {
        "id": "e68b8c44",
        "outputId": "bff0543f-f810-476a-aa29-63f630aaf03a",
        "colab": {
          "base_uri": "https://localhost:8080/"
        }
      },
      "outputs": [
        {
          "output_type": "stream",
          "name": "stdout",
          "text": [
            "w\n",
            "e\n",
            "u\n",
            "g\n",
            "y\n"
          ]
        }
      ],
      "source": [
        "#Example 3: \n",
        "#return the last character of each word in the following sentence? \n",
        "#\"w\",\"e\",\"u\",\"g\",\"y\"\n",
        "\n",
        "s = \"How are you doing today\"\n",
        "\n",
        "\n",
        "for word in s.split():\n",
        "    print(word[-1])\n",
        "\n",
        "\n",
        "#What if we want to return the index of last character of each word in the above sentence?\n",
        "#You can have a try after the class!\n",
        "\n"
      ]
    },
    {
      "cell_type": "code",
      "source": [
        "s = \"How are you doing today\"\n",
        "s.split()"
      ],
      "metadata": {
        "colab": {
          "base_uri": "https://localhost:8080/"
        },
        "id": "AsI3cDxo_qtM",
        "outputId": "b8c06e8d-d629-46e4-bf63-c470c5dd15dd"
      },
      "execution_count": null,
      "outputs": [
        {
          "output_type": "execute_result",
          "data": {
            "text/plain": [
              "['How', 'are', 'you', 'doing', 'today']"
            ]
          },
          "metadata": {},
          "execution_count": 15
        }
      ]
    },
    {
      "cell_type": "code",
      "source": [
        "inhomogeneous_list = ['How', 'are', 'you', 'doing', 'today',1]\n",
        "for word in inhomogeneous_list:\n",
        "    print(word[-1])"
      ],
      "metadata": {
        "colab": {
          "base_uri": "https://localhost:8080/",
          "height": 288
        },
        "id": "g_U3VF7ZAbfq",
        "outputId": "efde81f8-34e3-47b2-cf87-63dfa6706271"
      },
      "execution_count": null,
      "outputs": [
        {
          "output_type": "stream",
          "name": "stdout",
          "text": [
            "w\n",
            "e\n",
            "u\n",
            "g\n",
            "y\n"
          ]
        },
        {
          "output_type": "error",
          "ename": "TypeError",
          "evalue": "ignored",
          "traceback": [
            "\u001b[0;31m---------------------------------------------------------------------------\u001b[0m",
            "\u001b[0;31mTypeError\u001b[0m                                 Traceback (most recent call last)",
            "\u001b[0;32m<ipython-input-16-1c7c46de2cea>\u001b[0m in \u001b[0;36m<module>\u001b[0;34m()\u001b[0m\n\u001b[1;32m      1\u001b[0m \u001b[0minhomogeneous_list\u001b[0m \u001b[0;34m=\u001b[0m \u001b[0;34m[\u001b[0m\u001b[0;34m'How'\u001b[0m\u001b[0;34m,\u001b[0m \u001b[0;34m'are'\u001b[0m\u001b[0;34m,\u001b[0m \u001b[0;34m'you'\u001b[0m\u001b[0;34m,\u001b[0m \u001b[0;34m'doing'\u001b[0m\u001b[0;34m,\u001b[0m \u001b[0;34m'today'\u001b[0m\u001b[0;34m,\u001b[0m\u001b[0;36m1\u001b[0m\u001b[0;34m]\u001b[0m\u001b[0;34m\u001b[0m\u001b[0;34m\u001b[0m\u001b[0m\n\u001b[1;32m      2\u001b[0m \u001b[0;32mfor\u001b[0m \u001b[0mword\u001b[0m \u001b[0;32min\u001b[0m \u001b[0minhomogeneous_list\u001b[0m\u001b[0;34m:\u001b[0m\u001b[0;34m\u001b[0m\u001b[0;34m\u001b[0m\u001b[0m\n\u001b[0;32m----> 3\u001b[0;31m     \u001b[0mprint\u001b[0m\u001b[0;34m(\u001b[0m\u001b[0mword\u001b[0m\u001b[0;34m[\u001b[0m\u001b[0;34m-\u001b[0m\u001b[0;36m1\u001b[0m\u001b[0;34m]\u001b[0m\u001b[0;34m)\u001b[0m\u001b[0;34m\u001b[0m\u001b[0;34m\u001b[0m\u001b[0m\n\u001b[0m",
            "\u001b[0;31mTypeError\u001b[0m: 'int' object is not subscriptable"
          ]
        }
      ]
    },
    {
      "cell_type": "markdown",
      "metadata": {
        "id": "f68e30a0"
      },
      "source": [
        "#### range() function and its use in looping: range(start, end , step)\n",
        "With range() function, we can generate a sequence of numbers that can be used for iteration."
      ]
    },
    {
      "cell_type": "code",
      "execution_count": null,
      "metadata": {
        "id": "7427cf5e",
        "outputId": "5478ef43-8689-4ce3-fb5c-fabb757ff24f",
        "colab": {
          "base_uri": "https://localhost:8080/"
        }
      },
      "outputs": [
        {
          "output_type": "stream",
          "name": "stdout",
          "text": [
            "0\n",
            "1\n",
            "2\n",
            "3\n",
            "4\n"
          ]
        }
      ],
      "source": [
        "#both start and steps are optional, but the end is required \n",
        "\n",
        "#what is the \n",
        "\n",
        "for item in range(5): \n",
        "    print(item)"
      ]
    },
    {
      "cell_type": "code",
      "execution_count": null,
      "metadata": {
        "id": "971a91ba",
        "outputId": "5a1302a2-db0c-41a6-bed9-fd6558459bd0",
        "colab": {
          "base_uri": "https://localhost:8080/"
        }
      },
      "outputs": [
        {
          "output_type": "stream",
          "name": "stdout",
          "text": [
            "range(2, 12, 2)\n",
            "2\n",
            "4\n",
            "6\n",
            "8\n",
            "10\n"
          ]
        }
      ],
      "source": [
        "#we can designate the start, end, and step parameters \n",
        "y = range(2, 12, 2)\n",
        "print(y)\n",
        "#print(type(y))\n",
        "for num in y: \n",
        "    print(num)"
      ]
    },
    {
      "cell_type": "code",
      "execution_count": null,
      "metadata": {
        "id": "9256823c",
        "outputId": "1483a134-4380-4863-d4a5-bab440f08be9",
        "colab": {
          "base_uri": "https://localhost:8080/"
        }
      },
      "outputs": [
        {
          "output_type": "execute_result",
          "data": {
            "text/plain": [
              "[2, 6, 10, 14, 18]"
            ]
          },
          "metadata": {},
          "execution_count": 19
        }
      ],
      "source": [
        "#Transform a range() function into a list \n",
        "list(range(2,20,4))"
      ]
    },
    {
      "cell_type": "markdown",
      "metadata": {
        "id": "f6e4b561"
      },
      "source": [
        "Applying range() function in looping "
      ]
    },
    {
      "cell_type": "code",
      "execution_count": null,
      "metadata": {
        "id": "8a506214",
        "outputId": "e39a1411-a60b-42f1-b4d6-aa6a58854b63",
        "colab": {
          "base_uri": "https://localhost:8080/"
        }
      },
      "outputs": [
        {
          "output_type": "stream",
          "name": "stdout",
          "text": [
            "Hello, welcome to the class\n",
            "Hello, welcome to the class\n",
            "Hello, welcome to the class\n",
            "Hello, welcome to the class\n"
          ]
        }
      ],
      "source": [
        "#Example 1: we only care about the number of the statements run by Python \n",
        "#use \"_\" as looping variable \n",
        "for _ in range(4):\n",
        "    print(\"Hello, welcome to the class\")\n"
      ]
    },
    {
      "cell_type": "code",
      "execution_count": null,
      "metadata": {
        "id": "46fce930",
        "outputId": "3600c52a-925a-4269-8b77-041de198d8ac",
        "colab": {
          "base_uri": "https://localhost:8080/"
        }
      },
      "outputs": [
        {
          "output_type": "stream",
          "name": "stdout",
          "text": [
            "20\n",
            "18\n",
            "16\n",
            "14\n",
            "12\n",
            "10\n",
            "8\n",
            "6\n"
          ]
        }
      ],
      "source": [
        "#Example 2: decrementing value, step would be negative value\n",
        "x = range(20, 4, -2)\n",
        "for num in x: \n",
        "    print(num)\n",
        "    \n",
        "# if num is in a sequence, if it is true, we proceed the statements within the for loop\n"
      ]
    },
    {
      "cell_type": "code",
      "execution_count": null,
      "metadata": {
        "id": "B0J-coHLYLoK",
        "colab": {
          "base_uri": "https://localhost:8080/"
        },
        "outputId": "e5d5c040-994c-4419-8da1-95771c7904f6"
      },
      "outputs": [
        {
          "output_type": "stream",
          "name": "stdout",
          "text": [
            "45 :  <class 'int'>\n",
            "eat me :  <class 'str'>\n",
            "90210 :  <class 'int'>\n",
            "The day has come, the walrus said, to speak of many things :  <class 'str'>\n",
            "-67 :  <class 'int'>\n"
          ]
        }
      ],
      "source": [
        "# Example 'for' loop\n",
        "# First, create a list to loop through:\n",
        "newList = [45, 'eat me', 90210, \"The day has come, the walrus said, \\\n",
        "to speak of many things\", -67]\n",
        "\n",
        "# create the loop:\n",
        "# Goes through newList, and sequentially puts each bit of information\n",
        "# into the variable value, and runs the loop\n",
        "for value in newList:\n",
        "    print(value, ': ', type(value))"
      ]
    },
    {
      "cell_type": "markdown",
      "metadata": {
        "id": "qZ-Znm9kYLoL"
      },
      "source": [
        "As you see, when the loop executes, it runs through all of the values in the list mentioned after `in`. It then puts them into `value`, and executes through the loop, each time with value being worth something different. Let's see it again, in a classic cheerleading call that we all know:"
      ]
    },
    {
      "cell_type": "code",
      "execution_count": null,
      "metadata": {
        "id": "iMPv79GJYLoL",
        "colab": {
          "base_uri": "https://localhost:8080/"
        },
        "outputId": "cc8c3edd-5490-4e98-b68b-b35d18dba45f"
      },
      "outputs": [
        {
          "output_type": "stream",
          "name": "stdout",
          "text": [
            "Who do you go for? frankl\n",
            "Gimme a f!\n",
            "f!\n",
            "Gimme a r!\n",
            "r!\n",
            "Gimme a a!\n",
            "a!\n",
            "Gimme a n!\n",
            "n!\n",
            "Gimme a k!\n",
            "k!\n",
            "Gimme a l!\n",
            "l!\n",
            "What does that spell?\n",
            "frankl!\n"
          ]
        }
      ],
      "source": [
        "# cheerleading program\n",
        "word = input(\"Who do you go for? \")\n",
        "\n",
        "for letter in word:\n",
        "    call = \"Gimme a \" + letter + \"!\"\n",
        "    print(call)\n",
        "    print(letter + \"!\")\n",
        "\n",
        "print(\"What does that spell?\")\n",
        "print(word + \"!\")"
      ]
    },
    {
      "cell_type": "markdown",
      "metadata": {
        "id": "SbbTy8h1YLoM"
      },
      "source": [
        "A couple of things you've just learnt:\n",
        "* As you see, strings (remember - strings are lines of text) are just lists with lots of characters.\n",
        "* The program went through each of the letters (or values) in word, and it printed them onscreen.<br>"
      ]
    },
    {
      "cell_type": "markdown",
      "metadata": {
        "id": "ckbuedtlYLoM"
      },
      "source": [
        "And that is all there is to the for loop."
      ]
    },
    {
      "cell_type": "markdown",
      "metadata": {
        "id": "AWfcmWfJYLoM"
      },
      "source": [
        "## 6.3 Making a Menu Function\n",
        "Now to the business end of the lesson. Let's start writing programs. So far we have learnt variables, lists, loops, and functions. That is pretty much all we need for quite a bit of programming. So let's set ourselves a task."
      ]
    },
    {
      "cell_type": "markdown",
      "metadata": {
        "id": "3BLhREn6YLoN"
      },
      "source": [
        "```Python\n",
        "# THE MENU FUNCTION\n",
        "# The program asks for a string with all the menu options in it,\n",
        "# and a text string asking a question.\n",
        "# make sure every menu entry is unique.\n",
        "\n",
        "def menu(list, question):\n",
        "    for entry in list:\n",
        "        print(1 + list.index(entry),end=\"\"))\n",
        "        print (\") \" + entry)\n",
        "\n",
        "    return eval(input(question)) - 1\n",
        "\n",
        "# def menu(list, question): is telling the function to\n",
        "# ask for two bits of information:\n",
        "# A list of all the menu entries,\n",
        "# and the question it will ask when all the options have been printed\n",
        "\n",
        "# for entry in list: is pretty much saying;\n",
        "#'for every entry in the list, do the following:'\n",
        "\n",
        "# print list.index(entry) + 1 uses the .index() function to find\n",
        "# where in the list the entry is in. print function then prints it\n",
        "# it adds 1 to make the numbers more intelligible.\n",
        "\n",
        "# print \") \" + entry prints a bracket, and then the entry name\n",
        "\n",
        "# after the for loop is finished, eval(input(question) - 1) asks the question,\n",
        "# and returns the value to the main program (minus 1, to turn it back to\n",
        "# the number the computer will understand).\n",
        "```"
      ]
    },
    {
      "cell_type": "code",
      "source": [
        "def menu(list, question):\n",
        "    for entry in list:\n",
        "        print(1 + list.index(entry),end=\"\")\n",
        "        print (\") \" + entry)\n",
        "\n",
        "    return eval(input(question)) - 1"
      ],
      "metadata": {
        "id": "y3Nh4zRdGIQs"
      },
      "execution_count": null,
      "outputs": []
    },
    {
      "cell_type": "code",
      "source": [
        "def menu(list, question):\n",
        "    for i in range(len(list)):\n",
        "        print(i+1,')', list[i])\n",
        "    return eval(input(question)) - 1"
      ],
      "metadata": {
        "id": "XJwY59qyKSVt"
      },
      "execution_count": null,
      "outputs": []
    },
    {
      "cell_type": "code",
      "source": [
        "a"
      ],
      "metadata": {
        "colab": {
          "base_uri": "https://localhost:8080/",
          "height": 167
        },
        "id": "sxiuYLdIImpo",
        "outputId": "5bc60e88-23a6-4f35-af58-c07147f9bf44"
      },
      "execution_count": null,
      "outputs": [
        {
          "output_type": "error",
          "ename": "NameError",
          "evalue": "ignored",
          "traceback": [
            "\u001b[0;31m---------------------------------------------------------------------------\u001b[0m",
            "\u001b[0;31mNameError\u001b[0m                                 Traceback (most recent call last)",
            "\u001b[0;32m<ipython-input-26-3f786850e387>\u001b[0m in \u001b[0;36m<module>\u001b[0;34m()\u001b[0m\n\u001b[0;32m----> 1\u001b[0;31m \u001b[0ma\u001b[0m\u001b[0;34m\u001b[0m\u001b[0;34m\u001b[0m\u001b[0m\n\u001b[0m",
            "\u001b[0;31mNameError\u001b[0m: name 'a' is not defined"
          ]
        }
      ]
    },
    {
      "cell_type": "code",
      "source": [
        "letter_list = ['a','b','c']\n",
        "print(menu(letter_list, 'choose a letter'))"
      ],
      "metadata": {
        "colab": {
          "base_uri": "https://localhost:8080/"
        },
        "id": "Ps9PdtYrHCKh",
        "outputId": "2a725c3e-669a-433b-9d24-3cbe5129a16e"
      },
      "execution_count": null,
      "outputs": [
        {
          "output_type": "stream",
          "name": "stdout",
          "text": [
            "1 ) a\n",
            "2 ) b\n",
            "3 ) c\n",
            "choose a letter1\n",
            "0\n"
          ]
        }
      ]
    },
    {
      "cell_type": "markdown",
      "metadata": {
        "id": "eThurJdjYLoO"
      },
      "source": [
        "That wasn't very difficult, was it? The actual program only took up five lines - this is the wonder of how much we have learnt so far! All my comments take up sixteen lines - more than three times the program length. It is a good idea to comment your programs extensively. Remember that if you are going to be publishing your code open-source, there are going to be a lot of people checking out the code that you have written. We'll see the function we just wrote in our first example program."
      ]
    },
    {
      "cell_type": "code",
      "source": [
        "# start today by implementing factorial\n",
        "def factorial(num):\n",
        "# 3! = 6, 5! = 120\n",
        "    result = 1\n",
        "    while (num > 0):\n",
        "        # do something\n",
        "        result = result * num # some people will do: result *= num\n",
        "        # do something\n",
        "        num = num - 1 # some people will do: num -= 1\n",
        "    return result"
      ],
      "metadata": {
        "id": "C7dkJU-OAZvp"
      },
      "execution_count": null,
      "outputs": []
    },
    {
      "cell_type": "markdown",
      "source": [
        "Challenge 1: Use **for loop** to rewrite the factorial() function"
      ],
      "metadata": {
        "id": "1NtYSE9r_-vA"
      }
    },
    {
      "cell_type": "code",
      "source": [
        "def factorial1(num):\n",
        "    result = 1\n",
        "    for i in range(num):\n",
        "        result = result * (i + 1)\n",
        "        print(\"i: \", i, \"result: \", result)\n",
        "    return result"
      ],
      "metadata": {
        "id": "znX8D0TXB7Nh"
      },
      "execution_count": null,
      "outputs": []
    },
    {
      "cell_type": "code",
      "source": [
        "print(factorial(5))\n",
        "print(factorial1(5))"
      ],
      "metadata": {
        "colab": {
          "base_uri": "https://localhost:8080/"
        },
        "id": "JqYQ1BloCY_L",
        "outputId": "d00a5fd3-f63e-4b92-971c-4f9281887c95"
      },
      "execution_count": null,
      "outputs": [
        {
          "output_type": "stream",
          "name": "stdout",
          "text": [
            "120\n",
            "i:  0 result:  1\n",
            "i:  1 result:  2\n",
            "i:  2 result:  6\n",
            "i:  3 result:  24\n",
            "i:  4 result:  120\n",
            "120\n"
          ]
        }
      ]
    },
    {
      "cell_type": "markdown",
      "metadata": {
        "id": "mvQNWGKAYLoO"
      },
      "source": [
        "## 6.4 Our First 'Game'\n",
        "What will our first example program be? How about a (very) simple text adventure game? Sounds like fun! It will only encompass one room of a house, and will be extremely simple. There will be five things, and a door. In one of the five things, is a key to the door. You need to find the key, then open the door. I will give a plain-english version first, then do it in Python:<br>\n",
        "```\n",
        "#Plain-english version of our 'game'\n",
        "\n",
        "Tell the computer about our menu function\n",
        "\n",
        "Print a welcoming message, showing a description of the room.\n",
        "We will give the player six things to look at: pot plant, painting,\\\n",
        " vase, lampshade, shoe, and the door\n",
        "\n",
        "Tell the computer that the door is locked\n",
        "Tell the computer where the key is\n",
        "\n",
        "present a menu, telling you what things you can 'operate':\n",
        "    It will give you the six options\n",
        "    It will ask the question \"what will you look at?\"\n",
        "\n",
        "if the user wanted to look at:\n",
        "    pot plant:\n",
        "        If the key is here, give the player the key\n",
        "        otherwise, tell them it isn't here\n",
        "    painting:\n",
        "        same as above\n",
        "    etc.\n",
        "    door:\n",
        "        If the player has the key, let them open the door\n",
        "        Otherwise, tell them to look harder\n",
        "\n",
        "Give the player a well done message, for completing the game.\n",
        "```\n",
        "<br>\n",
        "From this, we can write a real program. Ready? Here it is:"
      ]
    },
    {
      "cell_type": "code",
      "execution_count": null,
      "metadata": {
        "id": "S2l79ja6YLoO",
        "colab": {
          "base_uri": "https://localhost:8080/"
        },
        "outputId": "80cf89ba-944d-43bb-b597-471437706c2d"
      },
      "outputs": [
        {
          "output_type": "stream",
          "name": "stdout",
          "text": [
            "Last night you went to sleep in the comfort of your own home.\n",
            "Now, you find yourself locked in a room. You don't know how\n",
            "you got there, or what time it is. In the room you can see\n",
            "6 things:\n",
            "pot plant\n",
            "painting\n",
            "vase\n",
            "lampshade\n",
            "shoe\n",
            "door\n",
            "\n",
            "The door is locked. Could there be a key somewhere?\n",
            "1) pot plant\n",
            "2) painting\n",
            "3) vase\n",
            "4) lampshade\n",
            "5) shoe\n",
            "6) door\n",
            "What do you want to inspect? 2\n",
            "You found nothing behind the painting.\n",
            "\n",
            "1) pot plant\n",
            "2) painting\n",
            "3) vase\n",
            "4) lampshade\n",
            "5) shoe\n",
            "6) door\n",
            "What do you want to inspect? 3\n",
            "You found a small key in the vase.\n",
            "\n",
            "1) pot plant\n",
            "2) painting\n",
            "3) vase\n",
            "4) lampshade\n",
            "5) shoe\n",
            "6) door\n",
            "What do you want to inspect? 6\n",
            "You put in the key, turn it, and hear a click\n",
            "\n",
            "Light floods into the room as you open the door to your freedom.\n"
          ]
        }
      ],
      "source": [
        "# TEXT ADVENTURE GAME\n",
        "\n",
        "#the menu function:\n",
        "def menu(list, question):\n",
        "    for entry in list:\n",
        "        print(1 + list.index(entry),end=\"\")\n",
        "        print (\") \" + entry)\n",
        "\n",
        "    return eval(input(question)) - 1\n",
        "\n",
        "#Give the computer some basic information about the room:\n",
        "items = [\"pot plant\",\"painting\",\"vase\",\"lampshade\",\"shoe\",\"door\"]\n",
        "\n",
        "#The key is in the vase (or entry number 2 in the list above):\n",
        "keylocation = 2\n",
        "\n",
        "#You haven't found the key:\n",
        "keyfound = 0\n",
        "\n",
        "loop = 1\n",
        "\n",
        "#Give some introductary text:\n",
        "print(\"Last night you went to sleep in the comfort of your own home.\")\n",
        "\n",
        "print(\"Now, you find yourself locked in a room. You don't know how\")\n",
        "print(\"you got there, or what time it is. In the room you can see\")\n",
        "print(len(items), \"things:\")\n",
        "for x in items:\n",
        "    print(x)\n",
        "print(\"\")\n",
        "print(\"The door is locked. Could there be a key somewhere?\")\n",
        "#Get your menu working, and the program running until you find the key:\n",
        "while loop == 1:\n",
        "    choice = menu(items,\"What do you want to inspect? \")\n",
        "    if choice == 0:\n",
        "        if choice == keylocation:\n",
        "            print(\"You found a small key in the pot plant.\")\n",
        "\n",
        "            print(\"\")\n",
        "            keyfound = 1\n",
        "        else:\n",
        "            print(\"You found nothing in the pot plant.\")\n",
        "            print(\"\")\n",
        "    elif choice == 1:\n",
        "        if choice == keylocation:\n",
        "            print(\"You found a small key behind the painting.\")\n",
        "            print(\"\")\n",
        "\n",
        "            keyfound = 1\n",
        "        else:\n",
        "            print(\"You found nothing behind the painting.\")\n",
        "            print(\"\")\n",
        "    elif choice == 2:\n",
        "        if choice == keylocation:\n",
        "            print(\"You found a small key in the vase.\")\n",
        "            print(\"\")\n",
        "            keyfound = 1\n",
        "        else:\n",
        "            print(\"You found nothing in the vase.\")\n",
        "\n",
        "            print(\"\")\n",
        "    elif choice == 3:\n",
        "        if choice == keylocation:\n",
        "            print(\"You found a small key in the lampshade.\")\n",
        "            print(\"\")\n",
        "            keyfound = 1\n",
        "        else:\n",
        "            print(\"You found nothing in the lampshade.\")\n",
        "            print(\"\")\n",
        "\n",
        "    elif choice == 4:\n",
        "        if choice == keylocation:\n",
        "            print(\"You found a small key in the shoe.\")\n",
        "            print(\"\")\n",
        "            keyfound = 1\n",
        "        else:\n",
        "            print(\"You found nothing in the shoe.\")\n",
        "            print(\"\")\n",
        "    elif choice == 5:\n",
        "        if keyfound == 1:\n",
        "            loop = 0\n",
        "            print(\"You put in the key, turn it, and hear a click\")\n",
        "\n",
        "            print(\"\")\n",
        "        else:\n",
        "            print(\"The door is locked, you need to find a key.\")\n",
        "            print(\"\")\n",
        "\n",
        "# Remember that a backslash continues\n",
        "# the code on the next line\n",
        "print(\"Light floods into the room as \\\n",
        "you open the door to your freedom.\")\n"
      ]
    },
    {
      "cell_type": "markdown",
      "metadata": {
        "id": "ieDPgR_IYLoP"
      },
      "source": [
        "Well, a very simple, but fun, game. Don't get daunted by the amount of code there, 53 of the lines are just the `if` statements, which is the easiest thing to read there (Once you comprehend all the indentation. Soon you'll make your own game, and you can make it as simple (or as complex) as you like. I'll post quite a few, later."
      ]
    },
    {
      "cell_type": "markdown",
      "metadata": {
        "id": "EB1qDePMYLoP"
      },
      "source": [
        "## 6.5 Making the Game Better\n",
        "The first question you should ask is \"does this program work?\". The answer here is yes. Then you should ask \"does this program work well?\" - not quite. The `menu()` function is great - it reduces a lot of typing. The `while` loop that we have, however, is a little messy - four levels of indents, for a simple program. We can do better!\n",
        "\n",
        "Now, this will become much MUCH more straightforward when we introduce classes. But that will have to wait. Until then, let's make a function that reduces our mess. It we will pass two things to it - the menu choice we made, and the location of the key. It will return one thing - whether or not the key has been found. Lets see it:\n",
        "\n",
        "```Python\n",
        "def inspect(choice,location):\n",
        "    if choice == location:\n",
        "        print(\"\")\n",
        "        print(\"You found a key!\")\n",
        "        print(\"\")\n",
        "        return 1\n",
        "    else:\n",
        "        print(\"\")\n",
        "        print(\"Nothing of interest here.\")\n",
        "        print(\"\")\n",
        "        return 0\n",
        "```\n",
        "\n",
        "\n",
        "Now the main program can be a little simpler.\n",
        "\n",
        "In the field below:\n",
        "\n",
        "1. Insert the `inspect` function\n",
        "2. Replace the `while` loop with:\n",
        "\n",
        "```Python\n",
        "while loop == 1:\n",
        "    keyfound = inspect(menu(items,\"What do you want to inspect? \"),keylocation)\n",
        "    if keyfound == 1:\n",
        "        print(\"You put the key in the lock of the door, and turn it. It opens!\")\n",
        "        loop = 0\n",
        "```"
      ]
    },
    {
      "cell_type": "code",
      "execution_count": null,
      "metadata": {
        "id": "-ItC-VqeYLoP",
        "colab": {
          "base_uri": "https://localhost:8080/"
        },
        "outputId": "53909219-46c5-42bf-988c-a509ff1a7a44"
      },
      "outputs": [
        {
          "output_type": "stream",
          "name": "stdout",
          "text": [
            "Last night you went to sleep in the comfort of your own home.\n",
            "Now, you find yourself locked in a room. You don't know how\n",
            "you got there, or what time it is. In the room you can see\n",
            "6 things:\n",
            "pot plant\n",
            "painting\n",
            "vase\n",
            "lampshade\n",
            "shoe\n",
            "door\n",
            "\n",
            "The door is locked. Could there be a key somewhere?\n",
            "1) pot plant\n",
            "2) painting\n",
            "3) vase\n",
            "4) lampshade\n",
            "5) shoe\n",
            "6) door\n",
            "What do you want to inspect? 4\n",
            "You found nothing in the lampshade.\n",
            "\n",
            "1) pot plant\n",
            "2) painting\n",
            "3) vase\n",
            "4) lampshade\n",
            "5) shoe\n",
            "6) door\n",
            "What do you want to inspect? 5\n",
            "You found nothing in the shoe.\n",
            "\n",
            "1) pot plant\n",
            "2) painting\n",
            "3) vase\n",
            "4) lampshade\n",
            "5) shoe\n",
            "6) door\n",
            "What do you want to inspect? 6\n",
            "The door is locked, you need to find a key.\n",
            "\n",
            "1) pot plant\n",
            "2) painting\n",
            "3) vase\n",
            "4) lampshade\n",
            "5) shoe\n",
            "6) door\n",
            "What do you want to inspect? 3\n",
            "You found a small key in the vase.\n",
            "\n",
            "1) pot plant\n",
            "2) painting\n",
            "3) vase\n",
            "4) lampshade\n",
            "5) shoe\n",
            "6) door\n",
            "What do you want to inspect? 6\n",
            "You put in the key, turn it, and hear a click\n",
            "\n",
            "Light floods into the room as you open the door to your freedom.\n"
          ]
        }
      ],
      "source": [
        "# TEXT ADVENTURE GAME\n",
        "\n",
        "#the menu function:\n",
        "def menu(list, question):\n",
        "    for entry in list:\n",
        "        print(1 + list.index(entry),end=\"\")\n",
        "        print (\") \" + entry)\n",
        "\n",
        "    return eval(input(question)) - 1\n",
        "\n",
        "#Give the computer some basic information about the room:\n",
        "items = [\"pot plant\",\"painting\",\"vase\",\"lampshade\",\"shoe\",\"door\"]\n",
        "\n",
        "#The key is in the vase (or entry number 2 in the list above):\n",
        "keylocation = 2\n",
        "\n",
        "#You haven't found the key:\n",
        "keyfound = 0\n",
        "\n",
        "loop = 1\n",
        "\n",
        "#Give some introductary text:\n",
        "print(\"Last night you went to sleep in the comfort of your own home.\")\n",
        "\n",
        "print(\"Now, you find yourself locked in a room. You don't know how\")\n",
        "print(\"you got there, or what time it is. In the room you can see\")\n",
        "print(len(items), \"things:\")\n",
        "for x in items:\n",
        "    print(x)\n",
        "print(\"\")\n",
        "print(\"The door is locked. Could there be a key somewhere?\")\n",
        "#Get your menu working, and the program running until you find the key:\n",
        "while loop == 1:\n",
        "    choice = menu(items,\"What do you want to inspect? \")\n",
        "    if choice == 0:\n",
        "        if choice == keylocation:\n",
        "            print(\"You found a small key in the pot plant.\")\n",
        "\n",
        "            print(\"\")\n",
        "            keyfound = 1\n",
        "        else:\n",
        "            print(\"You found nothing in the pot plant.\")\n",
        "            print(\"\")\n",
        "    elif choice == 1:\n",
        "        if choice == keylocation:\n",
        "            print(\"You found a small key behind the painting.\")\n",
        "            print(\"\")\n",
        "\n",
        "            keyfound = 1\n",
        "        else:\n",
        "            print(\"You found nothing behind the painting.\")\n",
        "            print(\"\")\n",
        "    elif choice == 2:\n",
        "        if choice == keylocation:\n",
        "            print(\"You found a small key in the vase.\")\n",
        "            print(\"\")\n",
        "            keyfound = 1\n",
        "        else:\n",
        "            print(\"You found nothing in the vase.\")\n",
        "\n",
        "            print(\"\")\n",
        "    elif choice == 3:\n",
        "        if choice == keylocation:\n",
        "            print(\"You found a small key in the lampshade.\")\n",
        "            print(\"\")\n",
        "            keyfound = 1\n",
        "        else:\n",
        "            print(\"You found nothing in the lampshade.\")\n",
        "            print(\"\")\n",
        "\n",
        "    elif choice == 4:\n",
        "        if choice == keylocation:\n",
        "            print(\"You found a small key in the shoe.\")\n",
        "            print(\"\")\n",
        "            keyfound = 1\n",
        "        else:\n",
        "            print(\"You found nothing in the shoe.\")\n",
        "            print(\"\")\n",
        "    elif choice == 5:\n",
        "        if keyfound == 1:\n",
        "            loop = 0\n",
        "            print(\"You put in the key, turn it, and hear a click\")\n",
        "\n",
        "            print(\"\")\n",
        "        else:\n",
        "            print(\"The door is locked, you need to find a key.\")\n",
        "            print(\"\")\n",
        "\n",
        "# Remember that a backslash continues\n",
        "# the code on the next line\n",
        "print(\"Light floods into the room as \\\n",
        "you open the door to your freedom.\")"
      ]
    },
    {
      "cell_type": "markdown",
      "metadata": {
        "id": "WPbC0-FnYLoQ"
      },
      "source": [
        "Now the program becomes massively shorter - from a cumbersome 83 lines, to a very shapely 50 lines! Of course, you lose quite a bit of versatility - all the items in the room do the same thing. You automatically open the door when you find the key. The game becomes a little less interesting. It also becomes a little harder to change."
      ]
    },
    {
      "cell_type": "markdown",
      "metadata": {
        "id": "2F52CYcGca-f"
      },
      "source": [
        "# 10. Debug\n",
        "## 10.1 Introduction\n",
        "If you haven't seen them before, you're not trying hard enough. What are they? Errors. Exceptions. Problems. Know what I'm talking about? I got it with this program:<br>"
      ]
    },
    {
      "cell_type": "code",
      "execution_count": null,
      "metadata": {
        "colab": {
          "base_uri": "https://localhost:8080/"
        },
        "id": "IYqWlZd1ca-f",
        "outputId": "19a12e5a-a0cc-4a08-94ff-9956e48e7798"
      },
      "outputs": [
        {
          "output_type": "stream",
          "name": "stdout",
          "text": [
            "1) A\n",
            "2) B\n",
            "3) C\n",
            "4) D\n",
            "5) E\n",
            "6) F\n",
            "7) H\n",
            "8) I\n",
            "Which letter is your favourite? 1\n",
            "You picked answer 1\n"
          ]
        }
      ],
      "source": [
        "def menu(list, question):\n",
        "    for entry in list:\n",
        "        print(1 + list.index(entry),end=\"\")\n",
        "        print(\") \" + entry)\n",
        "\n",
        "    return input(question) - 1\n",
        "\n",
        "# running the function\n",
        "# remember what the backslash does\n",
        "answer = menu(['A','B','C','D','E','F','H','I'],\\\n",
        "'Which letter is your favourite? ')\n",
        "\n",
        "print('You picked answer ' + str(answer + 1))"
      ]
    },
    {
      "cell_type": "markdown",
      "metadata": {
        "id": "yfOWFXVica-g"
      },
      "source": [
        "This is just an example of the menu program we made earlier. Appears perfectly fine to me. At least until when I first tried it. Run the program, and what happens?"
      ]
    },
    {
      "cell_type": "markdown",
      "metadata": {
        "id": "XG7Hibbsca-h"
      },
      "source": [
        "## 10.2 Bugs - Human Errors\n",
        "The most common problems with your code are of your own doing. Sad, but true. What do we see when we try to run our crippled program?\n",
        "```Python\n",
        "---------------------------------------------------------------------------\n",
        "TypeError                                 Traceback (most recent call last)\n",
        "<ipython-input-2-1502b4586513> in <module>()\n",
        "      8 # running the function\n",
        "      9 # remember what the backslash does\n",
        "---> 10 answer = menu(['A','B','C','D','E','F','H','I'],'Which letter is your favourite? ')\n",
        "     11 \n",
        "     12 print('You picked answer ' + str(answer + 1))\n",
        "\n",
        "<ipython-input-2-1502b4586513> in menu(list, question)\n",
        "      4         print(\") \" + entry)\n",
        "      5 \n",
        "----> 6     return input(question) - 1\n",
        "      7 \n",
        "      8 # running the function\n",
        "\n",
        "TypeError: unsupported operand type(s) for -: 'str' and 'int'\n",
        "```"
      ]
    },
    {
      "cell_type": "markdown",
      "metadata": {
        "id": "L0vOC4Gbca-h"
      },
      "source": [
        "Say what? What Python is trying to tell you (but struggling to find a good word for it) is that you can't join a string of letters and a number into one string of text. Let's go through the error message and have a look at how it tells us that:\n",
        "* `--->` shows the lines where the error is detected. You can see that it first points out line 10 (the string) and then line 6 (the calculation where we subtract an integere from a string). Note that line 6 was in the function.\n",
        "* `TypeError: unsupported operand type(s) for -: 'str' and 'int'` tells you the error. In this case, it is a 'TypeError', where you tried to subtract incompatible variables"
      ]
    },
    {
      "cell_type": "markdown",
      "metadata": {
        "id": "gkTOKxsbca-h"
      },
      "source": [
        "There are multiple file and code listings for a single error, because the error occurred with the interaction of two lines of code (e.g. when using a function, the error occurred on the line where the function was called, AND the line in the function where things went wrong).\n",
        "\n",
        "Now that we know what the problem is, how do we fix it. Well, the error message has isolated where the problem is, so we'll only concentrate on that bit of code.\n",
        "```Python\n",
        "answer = menu(['A','B','C','D','E','F','H','I'],\\\n",
        "'Which letter is your favourite? ')\n",
        "```\n",
        "This is a call to a function. The error occured in the function in the following line:\n",
        "```Python\n",
        "    return input(question) - 1\n",
        "```\n",
        "`input` always returns a string, hence our problem. Let's change it to `eval(input())`, which, when you type in a number, it returns a number:\n",
        "```Python\n",
        "    return eval(input(question)) - 1\n",
        "```\n",
        "Bug fixed!"
      ]
    },
    {
      "cell_type": "code",
      "source": [
        "!pip install ipdb"
      ],
      "metadata": {
        "id": "POA-qrLprUZ2"
      },
      "execution_count": null,
      "outputs": []
    },
    {
      "cell_type": "code",
      "source": [
        "import ipdb"
      ],
      "metadata": {
        "id": "HhDTemuFmTGY"
      },
      "execution_count": null,
      "outputs": []
    },
    {
      "cell_type": "markdown",
      "source": [
        "### Partial list of debugging commands\n",
        "\n",
        "The following part from https://colab.research.google.com/github/jckantor/CBE30338/blob/master/docs/01.01-Getting-Started-with-Python-and-Jupyter-Notebooks.ipynb\n",
        "\n",
        "There are many more available commands for interactive debugging than we've listed here; the following table contains a description of some of the more common and useful ones:\n",
        "\n",
        "| Command         |  Description                                                |\n",
        "|-----------------|-------------------------------------------------------------|\n",
        "| ``list``        | Show the current location in the file                       |\n",
        "| ``h(elp)``      | Show a list of commands, or find help on a specific command |\n",
        "| ``q(uit)``      | Quit the debugger and the program                           |\n",
        "| ``c(ontinue)``  | Quit the debugger, continue in the program                  |\n",
        "| ``n(ext)``      | Go to the next step of the program                          |\n",
        "| ``<enter>``     | Repeat the previous command                                 |\n",
        "| ``p(rint)``     | Print variables                                             |\n",
        "| ``s(tep)``      | Step into a subroutine                                      |\n",
        "| ``r(eturn)``    | Return out of a subroutine                                  |\n",
        "\n",
        "For more information, use the ``help`` command in the debugger, or take a look at ``ipdb``'s [online documentation](https://github.com/gotcha/ipdb)."
      ],
      "metadata": {
        "id": "s1LWW4Knl-ay"
      }
    },
    {
      "cell_type": "code",
      "source": [
        "float1 = 5.75\n",
        "float2 = 2.25\n",
        "#Addition, subtraction, multiplication, division are as you expect\n",
        "\n",
        "a = float1 + float2\n",
        "b = float1 - float2\n",
        "# ipdb.set_trace()\n",
        "print(a)\n",
        "\n",
        "c = float1 ** float2\n",
        "# ipdb.set_trace()\n",
        "print(c)\n",
        "d = float1 / float2\n",
        "\n",
        "\n",
        "print(5 % 2)"
      ],
      "metadata": {
        "id": "xUVLgjJoc_3N"
      },
      "execution_count": null,
      "outputs": []
    },
    {
      "cell_type": "markdown",
      "source": [
        "https://106f20.learningpython.today/books/published/fopp/Debugging/Syntaxerrors.html"
      ],
      "metadata": {
        "id": "CE1RwzFFsCTS"
      }
    },
    {
      "cell_type": "markdown",
      "source": [
        "https://106f20.learningpython.today/books/published/fopp/Debugging/KnowyourerrorMessages.html"
      ],
      "metadata": {
        "id": "_5JVk4CWo3S3"
      }
    },
    {
      "cell_type": "code",
      "source": [],
      "metadata": {
        "id": "yFvzgDuao3uJ"
      },
      "execution_count": null,
      "outputs": []
    }
  ],
  "metadata": {
    "kernelspec": {
      "display_name": "Python 3",
      "language": "python",
      "name": "python3"
    },
    "language_info": {
      "codemirror_mode": {
        "name": "ipython",
        "version": 3
      },
      "file_extension": ".py",
      "mimetype": "text/x-python",
      "name": "python",
      "nbconvert_exporter": "python",
      "pygments_lexer": "ipython3",
      "version": "3.7.9"
    },
    "colab": {
      "name": "Intro-to-Python Day4.ipynb",
      "provenance": [],
      "include_colab_link": true
    }
  },
  "nbformat": 4,
  "nbformat_minor": 0
}