{
  "nbformat": 4,
  "nbformat_minor": 0,
  "metadata": {
    "colab": {
      "name": "Intro-to-Python Day 10.ipynb",
      "provenance": [],
      "include_colab_link": true
    },
    "kernelspec": {
      "name": "python3",
      "display_name": "Python 3"
    },
    "language_info": {
      "name": "python"
    }
  },
  "cells": [
    {
      "cell_type": "markdown",
      "metadata": {
        "id": "view-in-github",
        "colab_type": "text"
      },
      "source": [
        "<a href=\"https://colab.research.google.com/github/AnnaPechenina/2016-08-23-unt-github-collaboration/blob/master/Intro_to_Python_Day_10.ipynb\" target=\"_parent\"><img src=\"https://colab.research.google.com/assets/colab-badge.svg\" alt=\"Open In Colab\"/></a>"
      ]
    },
    {
      "cell_type": "markdown",
      "metadata": {
        "id": "30ca5d9a"
      },
      "source": [
        "# Day 10 \n",
        "## Agenda\n",
        "\n",
        "1.   Neural Network (Tensorflow 2)\n",
        "2.   Nature language processing\n",
        "\n",
        "\n",
        "![meme](https://www.meme-arsenal.com/memes/31f994ae57c2e0aa1b49388a5a5a2945.jpg)"
      ]
    },
    {
      "cell_type": "markdown",
      "metadata": {
        "id": "rX8mhOLljYeM"
      },
      "source": [
        "##### Copyright 2019 The TensorFlow Authors."
      ]
    },
    {
      "cell_type": "code",
      "execution_count": null,
      "metadata": {
        "id": "BZSlp3DAjdYf"
      },
      "outputs": [],
      "source": [
        "#@title Licensed under the Apache License, Version 2.0 (the \"License\");\n",
        "# you may not use this file except in compliance with the License.\n",
        "# You may obtain a copy of the License at\n",
        "#\n",
        "# https://www.apache.org/licenses/LICENSE-2.0\n",
        "#\n",
        "# Unless required by applicable law or agreed to in writing, software\n",
        "# distributed under the License is distributed on an \"AS IS\" BASIS,\n",
        "# WITHOUT WARRANTIES OR CONDITIONS OF ANY KIND, either express or implied.\n",
        "# See the License for the specific language governing permissions and\n",
        "# limitations under the License."
      ]
    },
    {
      "cell_type": "markdown",
      "metadata": {
        "id": "3wF5wszaj97Y"
      },
      "source": [
        "# TensorFlow 2 quickstart for beginners"
      ]
    },
    {
      "cell_type": "markdown",
      "metadata": {
        "id": "DUNzJc4jTj6G"
      },
      "source": [
        "<table class=\"tfo-notebook-buttons\" align=\"left\">\n",
        "  <td>\n",
        "    <a target=\"_blank\" href=\"https://www.tensorflow.org/tutorials/quickstart/beginner\"><img src=\"https://www.tensorflow.org/images/tf_logo_32px.png\" />View on TensorFlow.org</a>\n",
        "  </td>\n",
        "  <td>\n",
        "    <a target=\"_blank\" href=\"https://colab.research.google.com/github/tensorflow/docs/blob/master/site/en/tutorials/quickstart/beginner.ipynb\"><img src=\"https://www.tensorflow.org/images/colab_logo_32px.png\" />Run in Google Colab</a>\n",
        "  </td>\n",
        "  <td>\n",
        "    <a target=\"_blank\" href=\"https://github.com/tensorflow/docs/blob/master/site/en/tutorials/quickstart/beginner.ipynb\"><img src=\"https://www.tensorflow.org/images/GitHub-Mark-32px.png\" />View source on GitHub</a>\n",
        "  </td>\n",
        "  <td>\n",
        "    <a href=\"https://storage.googleapis.com/tensorflow_docs/docs/site/en/tutorials/quickstart/beginner.ipynb\"><img src=\"https://www.tensorflow.org/images/download_logo_32px.png\" />Download notebook</a>\n",
        "  </td>\n",
        "</table>"
      ]
    },
    {
      "cell_type": "markdown",
      "metadata": {
        "id": "04QgGZc9bF5D"
      },
      "source": [
        "This short introduction uses [Keras](https://www.tensorflow.org/guide/keras/overview) to:\n",
        "\n",
        "1. Load a prebuilt dataset.\n",
        "1. Build a neural network machine learning model that classifies images.\n",
        "2. Train this neural network.\n",
        "3. Evaluate the accuracy of the model."
      ]
    },
    {
      "cell_type": "markdown",
      "metadata": {
        "id": "hiH7AC-NTniF"
      },
      "source": [
        "This tutorial is a [Google Colaboratory](https://colab.research.google.com/notebooks/welcome.ipynb) notebook. Python programs are run directly in the browser—a great way to learn and use TensorFlow. To follow this tutorial, run the notebook in Google Colab by clicking the button at the top of this page.\n",
        "\n",
        "1. In Colab, connect to a Python runtime: At the top-right of the menu bar, select *CONNECT*.\n",
        "2. Run all the notebook code cells: Select *Runtime* > *Run all*."
      ]
    },
    {
      "cell_type": "markdown",
      "metadata": {
        "id": "nnrWf3PCEzXL"
      },
      "source": [
        "## Set up TensorFlow\n",
        "\n",
        "Import TensorFlow into your program to get started:"
      ]
    },
    {
      "cell_type": "code",
      "execution_count": null,
      "metadata": {
        "id": "0trJmd6DjqBZ",
        "colab": {
          "base_uri": "https://localhost:8080/"
        },
        "outputId": "74bee86b-8324-42c8-a89c-40a7f7014867"
      },
      "outputs": [
        {
          "output_type": "stream",
          "name": "stdout",
          "text": [
            "TensorFlow version: 2.8.2\n"
          ]
        }
      ],
      "source": [
        "import tensorflow as tf\n",
        "print(\"TensorFlow version:\", tf.__version__)"
      ]
    },
    {
      "cell_type": "markdown",
      "metadata": {
        "id": "7NAbSZiaoJ4z"
      },
      "source": [
        "If you are following along in your own development environment, rather than [Colab](https://colab.research.google.com/github/tensorflow/docs/blob/master/site/en/tutorials/quickstart/beginner.ipynb), see the [install guide](https://www.tensorflow.org/install) for setting up TensorFlow for development.\n",
        "\n",
        "Note: Make sure you have upgraded to the latest `pip` to install the TensorFlow 2 package if you are using your own development environment. See the [install guide](https://www.tensorflow.org/install) for details.\n",
        "\n",
        "## Load a dataset\n",
        "\n",
        "Load and prepare the [MNIST dataset](http://yann.lecun.com/exdb/mnist/). Convert the sample data from integers to floating-point numbers:"
      ]
    },
    {
      "cell_type": "code",
      "execution_count": null,
      "metadata": {
        "id": "7FP5258xjs-v",
        "colab": {
          "base_uri": "https://localhost:8080/",
          "height": 265
        },
        "outputId": "7e78684e-cab3-41b0-ea3d-59c3d91f3781"
      },
      "outputs": [
        {
          "output_type": "display_data",
          "data": {
            "text/plain": [
              "<Figure size 432x288 with 1 Axes>"
            ],
            "image/png": "[encoded data removed]"
          },
          "metadata": {
            "needs_background": "light"
          }
        }
      ],
      "source": [
        "mnist = tf.keras.datasets.mnist\n",
        "\n",
        "(x_train, y_train), (x_test, y_test) = mnist.load_data()\n",
        "from matplotlib import pyplot as plt\n",
        "import numpy as np\n",
        "first_image = x_train[0]\n",
        "first_image = np.array(first_image, dtype='float')\n",
        "pixels = first_image.reshape((28, 28))\n",
        "plt.imshow(pixels, cmap='gray')\n",
        "plt.show()\n"
      ]
    },
    {
      "cell_type": "code",
      "source": [
        "x_train, x_test = x_train / 255.0, x_test / 255.0"
      ],
      "metadata": {
        "id": "PphHG7BCtvGP"
      },
      "execution_count": null,
      "outputs": []
    },
    {
      "cell_type": "code",
      "source": [
        "x_train[0].shape"
      ],
      "metadata": {
        "colab": {
          "base_uri": "https://localhost:8080/"
        },
        "id": "aM62MNadsNJ9",
        "outputId": "f5774211-b72a-4793-a10c-f48e462e52bc"
      },
      "execution_count": null,
      "outputs": [
        {
          "output_type": "execute_result",
          "data": {
            "text/plain": [
              "(28, 28)"
            ]
          },
          "metadata": {},
          "execution_count": 260
        }
      ]
    },
    {
      "cell_type": "code",
      "source": [
        "y_train[0]"
      ],
      "metadata": {
        "colab": {
          "base_uri": "https://localhost:8080/"
        },
        "id": "2F1LCEwzsmvW",
        "outputId": "85fc8af6-3f6f-433b-925b-80a76f150414"
      },
      "execution_count": null,
      "outputs": [
        {
          "output_type": "execute_result",
          "data": {
            "text/plain": [
              "5"
            ]
          },
          "metadata": {},
          "execution_count": 156
        }
      ]
    },
    {
      "cell_type": "markdown",
      "metadata": {
        "id": "BPZ68wASog_I"
      },
      "source": [
        "## Build a machine learning model\n",
        "\n",
        "Build a `tf.keras.Sequential` model by stacking layers."
      ]
    },
    {
      "cell_type": "markdown",
      "source": [
        "![nn_demo.png](data:image/png;base64,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)"
      ],
      "metadata": {
        "id": "xejjT1ddyEV8"
      }
    },
    {
      "cell_type": "code",
      "execution_count": null,
      "metadata": {
        "id": "h3IKyzTCDNGo"
      },
      "outputs": [],
      "source": [
        "model = tf.keras.models.Sequential([\n",
        "  tf.keras.layers.Flatten(input_shape=(28, 28)),\n",
        "  tf.keras.layers.Dense(128, activation='relu'),\n",
        "  tf.keras.layers.Dropout(0.2),\n",
        "  tf.keras.layers.Dense(10)\n",
        "])"
      ]
    },
    {
      "cell_type": "code",
      "source": [
        "from keras.utils.vis_utils import plot_model\n",
        "plot_model(model, to_file='model_plot.png', show_shapes=True, show_layer_names=True)"
      ],
      "metadata": {
        "colab": {
          "base_uri": "https://localhost:8080/",
          "height": 533
        },
        "id": "lpIHnGLRwa-L",
        "outputId": "e3689123-6a2e-4888-9268-8696399b7e7d"
      },
      "execution_count": null,
      "outputs": [
        {
          "output_type": "execute_result",
          "data": {
            "text/plain": [
              "<IPython.core.display.Image object>"
            ],
            "image/png": "[encoded data removed]"
          },
          "metadata": {},
          "execution_count": 157
        }
      ]
    },
    {
      "cell_type": "markdown",
      "metadata": {
        "id": "l2hiez2eIUz8"
      },
      "source": [
        "For each example, the model returns a vector of [logits](https://developers.google.com/machine-learning/glossary#logits) or [log-odds](https://developers.google.com/machine-learning/glossary#log-odds) scores, one for each class."
      ]
    },
    {
      "cell_type": "code",
      "execution_count": null,
      "metadata": {
        "id": "OeOrNdnkEEcR",
        "colab": {
          "base_uri": "https://localhost:8080/"
        },
        "outputId": "c0c41117-00b4-4c90-b089-70482e22defb"
      },
      "outputs": [
        {
          "output_type": "execute_result",
          "data": {
            "text/plain": [
              "array([[-0.29258153,  0.09159486, -0.1875242 ,  0.54569995,  0.07942391,\n",
              "         0.04966646,  0.14090368,  0.2332064 , -0.13677779,  0.5137022 ]],\n",
              "      dtype=float32)"
            ]
          },
          "metadata": {},
          "execution_count": 159
        }
      ],
      "source": [
        "predictions = model(x_train[:1]).numpy()\n",
        "predictions"
      ]
    },
    {
      "cell_type": "markdown",
      "metadata": {
        "id": "tgjhDQGcIniO"
      },
      "source": [
        "The `tf.nn.softmax` function converts these logits to *probabilities* for each class: "
      ]
    },
    {
      "cell_type": "code",
      "execution_count": null,
      "metadata": {
        "id": "zWSRnQ0WI5eq",
        "colab": {
          "base_uri": "https://localhost:8080/"
        },
        "outputId": "e7674c66-0907-4d8e-aa34-dafe669212d5"
      },
      "outputs": [
        {
          "output_type": "execute_result",
          "data": {
            "text/plain": [
              "array([[0.06496501, 0.0953949 , 0.07216146, 0.15022442, 0.0942409 ,\n",
              "        0.09147785, 0.10021662, 0.10990723, 0.07591791, 0.14549367]],\n",
              "      dtype=float32)"
            ]
          },
          "metadata": {},
          "execution_count": 160
        }
      ],
      "source": [
        "tf.nn.softmax(predictions).numpy()"
      ]
    },
    {
      "cell_type": "markdown",
      "metadata": {
        "id": "he5u_okAYS4a"
      },
      "source": [
        "Note: It is possible to bake the `tf.nn.softmax` function into the activation function for the last layer of the network. While this can make the model output more directly interpretable, this approach is discouraged as it's impossible to provide an exact and numerically stable loss calculation for all models when using a softmax output. "
      ]
    },
    {
      "cell_type": "markdown",
      "metadata": {
        "id": "hQyugpgRIyrA"
      },
      "source": [
        "Define a loss function for training using `losses.SparseCategoricalCrossentropy`, which takes a vector of logits and a `True` index and returns a scalar loss for each example."
      ]
    },
    {
      "cell_type": "code",
      "execution_count": null,
      "metadata": {
        "id": "RSkzdv8MD0tT"
      },
      "outputs": [],
      "source": [
        "loss_fn = tf.keras.losses.SparseCategoricalCrossentropy(from_logits=True)"
      ]
    },
    {
      "cell_type": "markdown",
      "metadata": {
        "id": "SfR4MsSDU880"
      },
      "source": [
        "This loss is equal to the negative log probability of the true class: The loss is zero if the model is sure of the correct class.\n",
        "\n",
        "This untrained model gives probabilities close to random (1/10 for each class), so the initial loss should be close to `-tf.math.log(1/10) ~= 2.3`."
      ]
    },
    {
      "cell_type": "code",
      "execution_count": null,
      "metadata": {
        "id": "NJWqEVrrJ7ZB",
        "colab": {
          "base_uri": "https://localhost:8080/"
        },
        "outputId": "f0852332-f004-4af9-e17d-7980efc93fe2"
      },
      "outputs": [
        {
          "output_type": "execute_result",
          "data": {
            "text/plain": [
              "2.3916585"
            ]
          },
          "metadata": {},
          "execution_count": 162
        }
      ],
      "source": [
        "loss_fn(y_train[:1], predictions).numpy()"
      ]
    },
    {
      "cell_type": "markdown",
      "metadata": {
        "id": "ada44eb947d4"
      },
      "source": [
        "Before you start training, configure and compile the model using Keras `Model.compile`. Set the [`optimizer`](https://www.tensorflow.org/api_docs/python/tf/keras/optimizers) class to `adam`, set the `loss` to the `loss_fn` function you defined earlier, and specify a metric to be evaluated for the model by setting the `metrics` parameter to `accuracy`."
      ]
    },
    {
      "cell_type": "code",
      "execution_count": null,
      "metadata": {
        "id": "9foNKHzTD2Vo"
      },
      "outputs": [],
      "source": [
        "model.compile(optimizer='adam',\n",
        "              loss=loss_fn,\n",
        "              metrics=['accuracy'])"
      ]
    },
    {
      "cell_type": "markdown",
      "metadata": {
        "id": "ix4mEL65on-w"
      },
      "source": [
        "## Train and evaluate your model\n",
        "\n",
        "Use the `Model.fit` method to adjust your model parameters and minimize the loss: "
      ]
    },
    {
      "cell_type": "code",
      "execution_count": null,
      "metadata": {
        "id": "y7suUbJXVLqP",
        "colab": {
          "base_uri": "https://localhost:8080/"
        },
        "outputId": "c97589c2-0fd2-4389-ed29-e39c0e386ab8"
      },
      "outputs": [
        {
          "output_type": "stream",
          "name": "stdout",
          "text": [
            "Epoch 1/5\n",
            "1875/1875 [==============================] - 6s 3ms/step - loss: 0.0652 - accuracy: 0.9797\n",
            "Epoch 2/5\n",
            "1875/1875 [==============================] - 6s 3ms/step - loss: 0.0586 - accuracy: 0.9817\n",
            "Epoch 3/5\n",
            "1875/1875 [==============================] - 7s 4ms/step - loss: 0.0534 - accuracy: 0.9823\n",
            "Epoch 4/5\n",
            "1875/1875 [==============================] - 12s 6ms/step - loss: 0.0479 - accuracy: 0.9841\n",
            "Epoch 5/5\n",
            "1875/1875 [==============================] - 12s 6ms/step - loss: 0.0449 - accuracy: 0.9858\n"
          ]
        },
        {
          "output_type": "execute_result",
          "data": {
            "text/plain": [
              "<keras.callbacks.History at 0x7fd70f06b690>"
            ]
          },
          "metadata": {},
          "execution_count": 261
        }
      ],
      "source": [
        "model.fit(x_train, y_train, epochs=5)"
      ]
    },
    {
      "cell_type": "markdown",
      "metadata": {
        "id": "4mDAAPFqVVgn"
      },
      "source": [
        "The `Model.evaluate` method checks the models performance, usually on a \"[Validation-set](https://developers.google.com/machine-learning/glossary#validation-set)\" or \"[Test-set](https://developers.google.com/machine-learning/glossary#test-set)\"."
      ]
    },
    {
      "cell_type": "code",
      "execution_count": null,
      "metadata": {
        "id": "F7dTAzgHDUh7",
        "colab": {
          "base_uri": "https://localhost:8080/"
        },
        "outputId": "b7799da4-5d9b-4283-d07c-e71743278ccd"
      },
      "outputs": [
        {
          "output_type": "stream",
          "name": "stdout",
          "text": [
            "313/313 - 1s - loss: 0.0721 - accuracy: 0.9795 - 572ms/epoch - 2ms/step\n"
          ]
        },
        {
          "output_type": "execute_result",
          "data": {
            "text/plain": [
              "[0.07208282500505447, 0.9794999957084656]"
            ]
          },
          "metadata": {},
          "execution_count": 262
        }
      ],
      "source": [
        "model.evaluate(x_test,  y_test, verbose=2)"
      ]
    },
    {
      "cell_type": "markdown",
      "metadata": {
        "id": "T4JfEh7kvx6m"
      },
      "source": [
        "The image classifier is now trained to ~98% accuracy on this dataset. To learn more, read the [TensorFlow tutorials](https://www.tensorflow.org/tutorials/)."
      ]
    },
    {
      "cell_type": "markdown",
      "metadata": {
        "id": "Aj8NrlzlJqDG"
      },
      "source": [
        "If you want your model to return a probability, you can wrap the trained model, and attach the softmax to it:"
      ]
    },
    {
      "cell_type": "code",
      "execution_count": null,
      "metadata": {
        "id": "rYb6DrEH0GMv"
      },
      "outputs": [],
      "source": [
        "probability_model = tf.keras.Sequential([\n",
        "  model,\n",
        "  tf.keras.layers.Softmax()\n",
        "])"
      ]
    },
    {
      "cell_type": "code",
      "execution_count": null,
      "metadata": {
        "id": "cnqOZtUp1YR_",
        "colab": {
          "base_uri": "https://localhost:8080/"
        },
        "outputId": "756552e1-78e8-43bd-983e-076a3df6cb5e"
      },
      "outputs": [
        {
          "output_type": "execute_result",
          "data": {
            "text/plain": [
              "<tf.Tensor: shape=(5, 10), dtype=float32, numpy=\n",
              "array([[5.88734451e-07, 7.31725303e-09, 4.17670162e-06, 2.42432070e-05,\n",
              "        4.37175079e-12, 1.30210807e-07, 7.99051526e-13, 9.99969006e-01,\n",
              "        1.58690955e-06, 3.08308472e-07],\n",
              "       [8.81324436e-09, 2.79518008e-05, 9.99971628e-01, 3.27736871e-07,\n",
              "        1.95798270e-16, 6.94401123e-08, 1.18004839e-09, 2.52610450e-14,\n",
              "        2.20586678e-08, 2.75732247e-14],\n",
              "       [1.04757009e-06, 9.99006689e-01, 1.14772418e-04, 1.96910696e-05,\n",
              "        2.45281681e-05, 4.47879756e-05, 1.37574025e-05, 6.91260211e-04,\n",
              "        8.07886026e-05, 2.71801423e-06],\n",
              "       [9.99679208e-01, 1.13460160e-07, 2.55377061e-04, 3.04708465e-07,\n",
              "        2.13649365e-08, 2.17457346e-05, 3.38458594e-05, 9.01030126e-06,\n",
              "        7.72353985e-08, 2.33222025e-07],\n",
              "       [1.66434961e-06, 1.70612573e-08, 5.49078004e-06, 6.28324415e-08,\n",
              "        9.99538422e-01, 1.75931490e-07, 1.21648497e-06, 5.21495531e-05,\n",
              "        8.06912681e-07, 3.99972079e-04]], dtype=float32)>"
            ]
          },
          "metadata": {},
          "execution_count": 167
        }
      ],
      "source": [
        "probability_model(x_test[:5])"
      ]
    },
    {
      "cell_type": "markdown",
      "metadata": {
        "id": "-47O6_GLdRuT"
      },
      "source": [
        "## Conclusion\n",
        "\n",
        "Congratulations! You have trained a machine learning model using a prebuilt dataset using the [Keras](https://www.tensorflow.org/guide/keras/overview) API.\n",
        "\n",
        "For more examples of using Keras, check out the [tutorials](https://www.tensorflow.org/tutorials/keras/). To learn more about building models with Keras, read the [guides](https://www.tensorflow.org/guide/keras). If you want learn more about loading and preparing data, see the tutorials on [image data loading](https://www.tensorflow.org/tutorials/load_data/images) or [CSV data loading](https://www.tensorflow.org/tutorials/load_data/csv).\n"
      ]
    },
    {
      "cell_type": "markdown",
      "metadata": {
        "tags": [],
        "id": "hozveqQXMOnK"
      },
      "source": [
        "<small><a rel=\"license\" href=\"http://creativecommons.org/licenses/by-nc-sa/4.0/\"><img alt=\"Creative Commons License\" style=\"border-width:0\" src=\"https://i.creativecommons.org/l/by-nc-sa/4.0/88x31.png\" /></a> This work is licensed under a <a rel=\"license\" href=\"http://creativecommons.org/licenses/by-nc-sa/4.0/\">Creative Commons Attribution-NonCommercial-ShareAlike 4.0 International License</a>.</small>\n"
      ]
    },
    {
      "cell_type": "code",
      "execution_count": null,
      "metadata": {
        "id": "wGln98X4MOnM"
      },
      "outputs": [],
      "source": [
        "import pandas as pd\n",
        "import numpy as np\n",
        "import re\n",
        "import seaborn as sns\n",
        "import matplotlib.pyplot as plt"
      ]
    },
    {
      "cell_type": "markdown",
      "metadata": {
        "id": "YrqUeAHQMOnN"
      },
      "source": [
        "# spaCy"
      ]
    },
    {
      "cell_type": "markdown",
      "metadata": {
        "id": "_FHemr6FMOnN"
      },
      "source": [
        "- Fast, and extensible NLP package for Python\n",
        "- <https://spacy.io/>\n",
        "- NOTE: You will need to install this, and then (one time only as well) download the English corpus."
      ]
    },
    {
      "cell_type": "code",
      "execution_count": null,
      "metadata": {
        "id": "W8bSNbiYMOnO"
      },
      "outputs": [],
      "source": [
        "# Uncomment *one* of the following lines and run this cell OR use Anaconda Navigator to install the package\n",
        "#!pip install spacy\n",
        "#pip install spacy\n",
        "#!conda install -y spacy"
      ]
    },
    {
      "cell_type": "code",
      "execution_count": null,
      "metadata": {
        "id": "xQfjqz-ZMOnO"
      },
      "outputs": [],
      "source": [
        "import spacy"
      ]
    },
    {
      "cell_type": "code",
      "execution_count": null,
      "metadata": {
        "id": "7DsEh_EeMOnO"
      },
      "outputs": [],
      "source": [
        "# Comment out the next line when you've run this cell successfully\n",
        "# !python -m spacy download en_core_web_sm"
      ]
    },
    {
      "cell_type": "code",
      "execution_count": null,
      "metadata": {
        "id": "mKhUCh0mMOnP"
      },
      "outputs": [],
      "source": [
        "# loading up the language model: English\n",
        "# note that Windows users will probably need to figure out where\n",
        "# the previous cell installed the library and change the following line accordingly\n",
        "nlp = spacy.load('en_core_web_sm')"
      ]
    },
    {
      "cell_type": "markdown",
      "metadata": {
        "id": "sY-AYZ-PMOnP"
      },
      "source": [
        "# 0. Data cleaning"
      ]
    },
    {
      "cell_type": "code",
      "execution_count": null,
      "metadata": {
        "id": "SpolpPgOMOnQ"
      },
      "outputs": [],
      "source": [
        "# from Project Gutenberg: Grimms' Fairy Tales\n",
        "sentences = \"\"\"\n",
        "As soon as the time came when he was to declare the secret, he was taken\n",
        "before the king with the three branches and the golden cup; and the\n",
        "twelve princesses stood listening behind the door to hear what he would\n",
        "say. And when the king asked him. ‘Where do my twelve daughters dance at\n",
        "night?’ he answered, ‘With twelve princes in a castle under ground.’ And\n",
        "then he told the king all that had happened, and showed him the three\n",
        "branches and the golden cup which he had brought with him. Then the king\n",
        "called for the princesses, and asked them whether what the soldier said\n",
        "was true: and when they saw that they were discovered, and that it was\n",
        "of no use to deny what had happened, they confessed it all. And the king\n",
        "asked the soldier which of them he would choose for his wife; and he\n",
        "answered, ‘I am not very young, so I will have the eldest.’--And they\n",
        "were married that very day, and the soldier was chosen to be the king’s\n",
        "heir.\n",
        "\n",
        "\"\"\""
      ]
    },
    {
      "cell_type": "code",
      "execution_count": null,
      "metadata": {
        "colab": {
          "base_uri": "https://localhost:8080/",
          "height": 157
        },
        "id": "au5zrSieMOnR",
        "outputId": "0213f65e-26ac-47f4-fed6-43a891567e80"
      },
      "outputs": [
        {
          "output_type": "execute_result",
          "data": {
            "text/plain": [
              "'\\nAs soon as the time came when he was to declare the secret, he was taken\\nbefore the king with the three branches and the golden cup; and the\\ntwelve princesses stood listening behind the door to hear what he would\\nsay. And when the king asked him. ‘Where do my twelve daughters dance at\\nnight?’ he answered, ‘With twelve princes in a castle under ground.’ And\\nthen he told the king all that had happened, and showed him the three\\nbranches and the golden cup which he had brought with him. Then the king\\ncalled for the princesses, and asked them whether what the soldier said\\nwas true: and when they saw that they were discovered, and that it was\\nof no use to deny what had happened, they confessed it all. And the king\\nasked the soldier which of them he would choose for his wife; and he\\nanswered, ‘I am not very young, so I will have the eldest.’--And they\\nwere married that very day, and the soldier was chosen to be the king’s\\nheir.\\n\\n'"
            ],
            "application/vnd.google.colaboratory.intrinsic+json": {
              "type": "string"
            }
          },
          "metadata": {},
          "execution_count": 174
        }
      ],
      "source": [
        "sentences"
      ]
    },
    {
      "cell_type": "markdown",
      "metadata": {
        "id": "Y6XMZVGyMOnS"
      },
      "source": [
        "### Section goal: calculate the frequency of each word\n",
        "- See which words are more frequent.\n",
        "- Generate more meaningful summary for the above paragraph."
      ]
    },
    {
      "cell_type": "markdown",
      "metadata": {
        "id": "Yx12U4_mMOnS"
      },
      "source": [
        "## 0-1. lowering the case"
      ]
    },
    {
      "cell_type": "code",
      "execution_count": null,
      "metadata": {
        "colab": {
          "base_uri": "https://localhost:8080/"
        },
        "id": "4KULbTt_MOnS",
        "outputId": "88ab9b7b-d93c-4831-abf0-cd0372249aec"
      },
      "outputs": [
        {
          "output_type": "execute_result",
          "data": {
            "text/plain": [
              "str"
            ]
          },
          "metadata": {},
          "execution_count": 175
        }
      ],
      "source": [
        "type(sentences)"
      ]
    },
    {
      "cell_type": "code",
      "execution_count": null,
      "metadata": {
        "scrolled": true,
        "colab": {
          "base_uri": "https://localhost:8080/",
          "height": 157
        },
        "id": "eS-ifiPsMOnT",
        "outputId": "d9ba6cb7-465a-4833-833c-e2db5efbbed4"
      },
      "outputs": [
        {
          "output_type": "execute_result",
          "data": {
            "text/plain": [
              "'\\nAs soon as the time came when he was to declare the secret, he was taken\\nbefore the king with the three branches and the golden cup; and the\\ntwelve princesses stood listening behind the door to hear what he would\\nsay. And when the king asked him. ‘Where do my twelve daughters dance at\\nnight?’ he answered, ‘With twelve princes in a castle under ground.’ And\\nthen he told the king all that had happened, and showed him the three\\nbranches and the golden cup which he had brought with him. Then the king\\ncalled for the princesses, and asked them whether what the soldier said\\nwas true: and when they saw that they were discovered, and that it was\\nof no use to deny what had happened, they confessed it all. And the king\\nasked the soldier which of them he would choose for his wife; and he\\nanswered, ‘I am not very young, so I will have the eldest.’--And they\\nwere married that very day, and the soldier was chosen to be the king’s\\nheir.\\n\\n'"
            ],
            "application/vnd.google.colaboratory.intrinsic+json": {
              "type": "string"
            }
          },
          "metadata": {},
          "execution_count": 176
        }
      ],
      "source": [
        "sentences"
      ]
    },
    {
      "cell_type": "code",
      "execution_count": null,
      "metadata": {
        "id": "4ThvMA8kMOnT"
      },
      "outputs": [],
      "source": [
        "sent_low = sentences.lower()"
      ]
    },
    {
      "cell_type": "code",
      "execution_count": null,
      "metadata": {
        "colab": {
          "base_uri": "https://localhost:8080/",
          "height": 157
        },
        "id": "upnwMGFEMOnT",
        "outputId": "7954b31e-34ac-445e-a741-1932aeb416d9"
      },
      "outputs": [
        {
          "output_type": "execute_result",
          "data": {
            "text/plain": [
              "'\\nas soon as the time came when he was to declare the secret, he was taken\\nbefore the king with the three branches and the golden cup; and the\\ntwelve princesses stood listening behind the door to hear what he would\\nsay. and when the king asked him. ‘where do my twelve daughters dance at\\nnight?’ he answered, ‘with twelve princes in a castle under ground.’ and\\nthen he told the king all that had happened, and showed him the three\\nbranches and the golden cup which he had brought with him. then the king\\ncalled for the princesses, and asked them whether what the soldier said\\nwas true: and when they saw that they were discovered, and that it was\\nof no use to deny what had happened, they confessed it all. and the king\\nasked the soldier which of them he would choose for his wife; and he\\nanswered, ‘i am not very young, so i will have the eldest.’--and they\\nwere married that very day, and the soldier was chosen to be the king’s\\nheir.\\n\\n'"
            ],
            "application/vnd.google.colaboratory.intrinsic+json": {
              "type": "string"
            }
          },
          "metadata": {},
          "execution_count": 178
        }
      ],
      "source": [
        "sent_low"
      ]
    },
    {
      "cell_type": "markdown",
      "metadata": {
        "toc-hr-collapsed": false,
        "id": "Tbm47RQbMOnU"
      },
      "source": [
        "## 0-2. remove punctuation and special characters"
      ]
    },
    {
      "cell_type": "markdown",
      "metadata": {
        "id": "eaKM5d4aMOnU"
      },
      "source": [
        "#### Exclude special characters one by one"
      ]
    },
    {
      "cell_type": "code",
      "execution_count": null,
      "metadata": {
        "colab": {
          "base_uri": "https://localhost:8080/",
          "height": 157
        },
        "id": "kn5Px3kJMOnU",
        "outputId": "eeda7e35-53dc-4662-a9d3-897fb9c78b0c"
      },
      "outputs": [
        {
          "output_type": "execute_result",
          "data": {
            "text/plain": [
              "'\\nas soon as the time came when he was to declare the secret he was taken\\nbefore the king with the three branches and the golden cup and the\\ntwelve princesses stood listening behind the door to hear what he would\\nsay and when the king asked him where do my twelve daughters dance at\\nnight he answered with twelve princes in a castle under ground and\\nthen he told the king all that had happened and showed him the three\\nbranches and the golden cup which he had brought with him then the king\\ncalled for the princesses and asked them whether what the soldier said\\nwas true and when they saw that they were discovered and that it was\\nof no use to deny what had happened they confessed it all and the king\\nasked the soldier which of them he would choose for his wife and he\\nanswered i am not very young so i will have the eldestand they\\nwere married that very day and the soldier was chosen to be the kings\\nheir\\n\\n'"
            ],
            "application/vnd.google.colaboratory.intrinsic+json": {
              "type": "string"
            }
          },
          "metadata": {},
          "execution_count": 179
        }
      ],
      "source": [
        "# from https://www.programiz.com/python-programming/examples/remove-punctuation\n",
        "punctuations = '''!()-[]{};:'\"\\,<>./?@#$%^&*_~‘’''' # list of special characters you want to exclude\n",
        "sent_low_pnct = \"\"\n",
        "for char in sent_low:\n",
        "    if char not in punctuations:\n",
        "        sent_low_pnct = sent_low_pnct + char\n",
        "\n",
        "sent_low_pnct"
      ]
    },
    {
      "cell_type": "markdown",
      "metadata": {
        "id": "YbtKN2BKMOnV"
      },
      "source": [
        "#### Alternatively, we can use regular expression to remove punctuations\n",
        "- So we don't have to list up all possible special characters that we want to remove\n",
        "- https://docs.python.org/3.4/library/re.html\n",
        "- https://en.wikipedia.org/wiki/Regular_expression"
      ]
    },
    {
      "cell_type": "markdown",
      "source": [
        "https://www.w3schools.com/python/python_regex.asp"
      ],
      "metadata": {
        "id": "r5FzdgomYElb"
      }
    },
    {
      "cell_type": "code",
      "execution_count": null,
      "metadata": {
        "colab": {
          "base_uri": "https://localhost:8080/",
          "height": 157
        },
        "id": "zU2-HzKNMOnV",
        "outputId": "2fe57188-ea7a-40ad-aba2-acc5e83d5701"
      },
      "outputs": [
        {
          "output_type": "execute_result",
          "data": {
            "text/plain": [
              "'\\nas soon as the time came when he was to declare the secret, he was taken\\nbefore the king with the three branches and the golden cup; and the\\ntwelve princesses stood listening behind the door to hear what he would\\nsay. and when the king asked him. ‘where do my twelve daughters dance at\\nnight?’ he answered, ‘with twelve princes in a castle under ground.’ and\\nthen he told the king all that had happened, and showed him the three\\nbranches and the golden cup which he had brought with him. then the king\\ncalled for the princesses, and asked them whether what the soldier said\\nwas true: and when they saw that they were discovered, and that it was\\nof no use to deny what had happened, they confessed it all. and the king\\nasked the soldier which of them he would choose for his wife; and he\\nanswered, ‘i am not very young, so i will have the eldest.’--and they\\nwere married that very day, and the soldier was chosen to be the king’s\\nheir.\\n\\n'"
            ],
            "application/vnd.google.colaboratory.intrinsic+json": {
              "type": "string"
            }
          },
          "metadata": {},
          "execution_count": 180
        }
      ],
      "source": [
        "sent_low"
      ]
    },
    {
      "cell_type": "code",
      "execution_count": null,
      "metadata": {
        "id": "g42RzsU0MOnV"
      },
      "outputs": [],
      "source": [
        "import re\n",
        "sent_low_pnct2 = re.sub(r'[^\\w\\s]+', ' ', sent_low)"
      ]
    },
    {
      "cell_type": "code",
      "execution_count": null,
      "metadata": {
        "colab": {
          "base_uri": "https://localhost:8080/",
          "height": 157
        },
        "id": "bvF3XNzgMOnV",
        "outputId": "22e1df14-d12e-4774-9673-cc584e8d7bfa"
      },
      "outputs": [
        {
          "output_type": "execute_result",
          "data": {
            "text/plain": [
              "'\\nas soon as the time came when he was to declare the secret  he was taken\\nbefore the king with the three branches and the golden cup  and the\\ntwelve princesses stood listening behind the door to hear what he would\\nsay  and when the king asked him   where do my twelve daughters dance at\\nnight  he answered   with twelve princes in a castle under ground  and\\nthen he told the king all that had happened  and showed him the three\\nbranches and the golden cup which he had brought with him  then the king\\ncalled for the princesses  and asked them whether what the soldier said\\nwas true  and when they saw that they were discovered  and that it was\\nof no use to deny what had happened  they confessed it all  and the king\\nasked the soldier which of them he would choose for his wife  and he\\nanswered   i am not very young  so i will have the eldest and they\\nwere married that very day  and the soldier was chosen to be the king s\\nheir \\n\\n'"
            ],
            "application/vnd.google.colaboratory.intrinsic+json": {
              "type": "string"
            }
          },
          "metadata": {},
          "execution_count": 182
        }
      ],
      "source": [
        "sent_low_pnct2"
      ]
    },
    {
      "cell_type": "markdown",
      "metadata": {
        "id": "yB_qWJMtMOnV"
      },
      "source": [
        "- However, special character ```\\n``` (linebreak) still exists in both cases. Let's remove these additionally."
      ]
    },
    {
      "cell_type": "code",
      "execution_count": null,
      "metadata": {
        "colab": {
          "base_uri": "https://localhost:8080/",
          "height": 35
        },
        "id": "5solAAcfMOnV",
        "outputId": "746a3d70-8b08-45ec-8f38-9080c4f2c31c"
      },
      "outputs": [
        {
          "output_type": "execute_result",
          "data": {
            "text/plain": [
              "'\\n'"
            ],
            "application/vnd.google.colaboratory.intrinsic+json": {
              "type": "string"
            }
          },
          "metadata": {},
          "execution_count": 183
        }
      ],
      "source": [
        "import os\n",
        "os.linesep"
      ]
    },
    {
      "cell_type": "code",
      "execution_count": null,
      "metadata": {
        "scrolled": true,
        "colab": {
          "base_uri": "https://localhost:8080/",
          "height": 157
        },
        "id": "SJuZtyfFMOnW",
        "outputId": "c81e3982-5a75-4df3-9a92-e566516c8303"
      },
      "outputs": [
        {
          "output_type": "execute_result",
          "data": {
            "text/plain": [
              "' as soon as the time came when he was to declare the secret he was taken before the king with the three branches and the golden cup and the twelve princesses stood listening behind the door to hear what he would say and when the king asked him where do my twelve daughters dance at night he answered with twelve princes in a castle under ground and then he told the king all that had happened and showed him the three branches and the golden cup which he had brought with him then the king called for the princesses and asked them whether what the soldier said was true and when they saw that they were discovered and that it was of no use to deny what had happened they confessed it all and the king asked the soldier which of them he would choose for his wife and he answered i am not very young so i will have the eldestand they were married that very day and the soldier was chosen to be the kings heir  '"
            ],
            "application/vnd.google.colaboratory.intrinsic+json": {
              "type": "string"
            }
          },
          "metadata": {},
          "execution_count": 184
        }
      ],
      "source": [
        "sent_low_pnct = sent_low_pnct.replace('\\n', \" \")\n",
        "sent_low_pnct"
      ]
    },
    {
      "cell_type": "markdown",
      "metadata": {
        "id": "9Z3GpOmPMOnW"
      },
      "source": [
        "### And one more way..."
      ]
    },
    {
      "cell_type": "code",
      "execution_count": null,
      "metadata": {
        "colab": {
          "base_uri": "https://localhost:8080/",
          "height": 35
        },
        "id": "MqTerKHjMOnW",
        "outputId": "20215c4d-c649-4780-b96d-1b6a874890e9"
      },
      "outputs": [
        {
          "output_type": "execute_result",
          "data": {
            "text/plain": [
              "'!\"#$%&\\'()*+,-./:;<=>?@[\\\\]^_`{|}~'"
            ],
            "application/vnd.google.colaboratory.intrinsic+json": {
              "type": "string"
            }
          },
          "metadata": {},
          "execution_count": 185
        }
      ],
      "source": [
        "import string\n",
        "\n",
        "string.punctuation"
      ]
    },
    {
      "cell_type": "code",
      "execution_count": null,
      "metadata": {
        "scrolled": true,
        "colab": {
          "base_uri": "https://localhost:8080/"
        },
        "id": "169oQO3_MOnW",
        "outputId": "57053c73-02aa-413d-ae8a-122b5622398c"
      },
      "outputs": [
        {
          "output_type": "stream",
          "name": "stdout",
          "text": [
            " as soon as the time came when he was to declare the secret he was taken before the king with the three branches and the golden cup and the twelve princesses stood listening behind the door to hear what he would say and when the king asked him where do my twelve daughters dance at night he answered with twelve princes in a castle under ground and then he told the king all that had happened and showed him the three branches and the golden cup which he had brought with him then the king called for the princesses and asked them whether what the soldier said was true and when they saw that they were discovered and that it was of no use to deny what had happened they confessed it all and the king asked the soldier which of them he would choose for his wife and he answered i am not very young so i will have the eldestand they were married that very day and the soldier was chosen to be the kings heir  \n"
          ]
        }
      ],
      "source": [
        "table = str.maketrans(dict.fromkeys(string.punctuation))\n",
        "no_punctuation= sent_low_pnct.translate(table)\n",
        "\n",
        "print(no_punctuation)"
      ]
    },
    {
      "cell_type": "markdown",
      "metadata": {
        "id": "7q-GV6QZMOnX"
      },
      "source": [
        "Regular expressions:\n",
        "\n",
        "^ means \"beginning of string\" \n",
        "UNLESS it's in [ ], in which case it means \"not\"\n",
        "\n",
        "r'^The' # means The at the beginning of a string\n",
        "r'^[The]' # means any one of T or h or e at the beginning of a string\n",
        "t'^[^The]' # means any character other than T,h,or e at the beginning"
      ]
    },
    {
      "cell_type": "markdown",
      "metadata": {
        "id": "5jg_AnlBMOnX"
      },
      "source": [
        "### So... at least 3 possible ways to replace characters!"
      ]
    },
    {
      "cell_type": "markdown",
      "metadata": {
        "id": "7OmEj27YMOnX"
      },
      "source": [
        "## 0-3. Remove stop words"
      ]
    },
    {
      "cell_type": "markdown",
      "metadata": {
        "id": "KdMCksWqMOnX"
      },
      "source": [
        "- Stop words usually refers to the most common words in a language\n",
        "    - No single universal stopwords\n",
        "    - Often stopwords are removed to improve the performance of NLP models\n",
        "    - https://en.wikipedia.org/wiki/Stop_words\n",
        "    - https://en.wikipedia.org/wiki/Most_common_words_in_English"
      ]
    },
    {
      "cell_type": "markdown",
      "metadata": {
        "id": "C2Cg81XoMOnX"
      },
      "source": [
        "#### Import the list of stop words from ```spaCy```"
      ]
    },
    {
      "cell_type": "code",
      "execution_count": null,
      "metadata": {
        "id": "V6JptwgqMOnX"
      },
      "outputs": [],
      "source": [
        "from spacy.lang.en.stop_words import STOP_WORDS"
      ]
    },
    {
      "cell_type": "code",
      "execution_count": null,
      "metadata": {
        "id": "4Q9ITgFrMOnX"
      },
      "outputs": [],
      "source": [
        "import numpy as np"
      ]
    },
    {
      "cell_type": "code",
      "execution_count": null,
      "metadata": {
        "id": "TQLiTPS8MOnX"
      },
      "outputs": [],
      "source": [
        "STOP_WORDS"
      ]
    },
    {
      "cell_type": "markdown",
      "metadata": {
        "id": "5BFfEzNzMOnY"
      },
      "source": [
        "#### Goal: We are going to count the frequency of each word from the paragraph, to see which words can be used to represent the paragraph's content. "
      ]
    },
    {
      "cell_type": "markdown",
      "metadata": {
        "id": "EGjxMf5eMOnY"
      },
      "source": [
        "#### What if we do not remove stopwords?"
      ]
    },
    {
      "cell_type": "markdown",
      "metadata": {
        "id": "J1f62TCQMOnY"
      },
      "source": [
        "- Note that our paragraph is stored as a single string object..."
      ]
    },
    {
      "cell_type": "code",
      "execution_count": null,
      "metadata": {
        "colab": {
          "base_uri": "https://localhost:8080/",
          "height": 157
        },
        "id": "8zVBy6HwMOnY",
        "outputId": "ffa2cef1-69b7-4230-cc19-85be56f88c56"
      },
      "outputs": [
        {
          "output_type": "execute_result",
          "data": {
            "text/plain": [
              "' as soon as the time came when he was to declare the secret he was taken before the king with the three branches and the golden cup and the twelve princesses stood listening behind the door to hear what he would say and when the king asked him where do my twelve daughters dance at night he answered with twelve princes in a castle under ground and then he told the king all that had happened and showed him the three branches and the golden cup which he had brought with him then the king called for the princesses and asked them whether what the soldier said was true and when they saw that they were discovered and that it was of no use to deny what had happened they confessed it all and the king asked the soldier which of them he would choose for his wife and he answered i am not very young so i will have the eldestand they were married that very day and the soldier was chosen to be the kings heir  '"
            ],
            "application/vnd.google.colaboratory.intrinsic+json": {
              "type": "string"
            }
          },
          "metadata": {},
          "execution_count": 190
        }
      ],
      "source": [
        "sent_low_pnct"
      ]
    },
    {
      "cell_type": "markdown",
      "metadata": {
        "id": "zaQ96fBdMOnY"
      },
      "source": [
        "- Split the paragraph into a list of words"
      ]
    },
    {
      "cell_type": "code",
      "execution_count": null,
      "metadata": {
        "id": "FQ-kVPtHMOnY"
      },
      "outputs": [],
      "source": [
        "words = sent_low_pnct.split()"
      ]
    },
    {
      "cell_type": "code",
      "execution_count": null,
      "metadata": {
        "id": "nwb-NKTYMOnY"
      },
      "outputs": [],
      "source": [
        "words"
      ]
    },
    {
      "cell_type": "markdown",
      "metadata": {
        "id": "cYFZNk9vMOnY"
      },
      "source": [
        "- Count the words from the list\n",
        "- Words that can occur in any kind of paragraphs...?"
      ]
    },
    {
      "cell_type": "code",
      "execution_count": null,
      "metadata": {
        "id": "V6CkNiScMOnZ"
      },
      "outputs": [],
      "source": [
        "d = {}\n",
        "for word in words:\n",
        "    if word in d:\n",
        "        d[word] = d[word] + 1\n",
        "    else:\n",
        "        d[word] = 1\n",
        "d"
      ]
    },
    {
      "cell_type": "code",
      "execution_count": null,
      "metadata": {
        "id": "wVAG45-uMOnZ"
      },
      "outputs": [],
      "source": [
        "from collections import Counter"
      ]
    },
    {
      "cell_type": "code",
      "execution_count": null,
      "metadata": {
        "colab": {
          "base_uri": "https://localhost:8080/"
        },
        "id": "nVMzBztBMOnZ",
        "outputId": "900b03ef-a5ed-4ce5-ab5b-86272ba1b1dd"
      },
      "outputs": [
        {
          "output_type": "execute_result",
          "data": {
            "text/plain": [
              "[('the', 19),\n",
              " ('and', 12),\n",
              " ('he', 8),\n",
              " ('was', 5),\n",
              " ('king', 5),\n",
              " ('to', 4),\n",
              " ('that', 4),\n",
              " ('they', 4),\n",
              " ('when', 3),\n",
              " ('with', 3),\n",
              " ('twelve', 3),\n",
              " ('what', 3),\n",
              " ('asked', 3),\n",
              " ('him', 3),\n",
              " ('had', 3),\n",
              " ('soldier', 3),\n",
              " ('as', 2),\n",
              " ('three', 2),\n",
              " ('branches', 2),\n",
              " ('golden', 2)]"
            ]
          },
          "metadata": {},
          "execution_count": 195
        }
      ],
      "source": [
        "Counter(words).most_common(20)"
      ]
    },
    {
      "cell_type": "code",
      "execution_count": null,
      "metadata": {
        "id": "bVDwswuXMOnZ"
      },
      "outputs": [],
      "source": [
        "import matplotlib.pyplot as plt\n",
        "import seaborn as sns\n",
        "import pandas as pd"
      ]
    },
    {
      "cell_type": "code",
      "execution_count": null,
      "metadata": {
        "colab": {
          "base_uri": "https://localhost:8080/",
          "height": 656
        },
        "id": "YqFyovntMOnZ",
        "outputId": "016cfedf-3f67-4a91-da54-bb7435555bb2"
      },
      "outputs": [
        {
          "output_type": "display_data",
          "data": {
            "text/plain": [
              "<Figure size 3240x720 with 1 Axes>"
            ],
            "image/png": "[encoded data removed]"
          },
          "metadata": {
            "needs_background": "light"
          }
        }
      ],
      "source": [
        "plt.figure(figsize=(45,10))\n",
        "sns.countplot(x=words, order=pd.Series(words).value_counts().index)\n",
        "# sns.countplot(words_nostop, order=[counted[0] for counted in Counter(words_nostop).most_common()])\n",
        "plt.xticks(rotation=90)\n",
        "plt.show()"
      ]
    },
    {
      "cell_type": "markdown",
      "metadata": {
        "id": "1qkiOxFkMOnZ"
      },
      "source": [
        "#### When we removed stopwords:"
      ]
    },
    {
      "cell_type": "code",
      "execution_count": null,
      "metadata": {
        "id": "ZY8T5sNOMOnZ"
      },
      "outputs": [],
      "source": [
        "# split sentence into words\n",
        "words_nostop = list()\n",
        "for word in words:\n",
        "    if word not in STOP_WORDS:\n",
        "        words_nostop.append(word)\n",
        "# words_nostop = [word for word in words if word not in STOP_WORDS]"
      ]
    },
    {
      "cell_type": "code",
      "execution_count": null,
      "metadata": {
        "id": "RIrZ7hQ8MOna",
        "colab": {
          "base_uri": "https://localhost:8080/"
        },
        "outputId": "dff2f40f-9ce5-495c-f21f-4d52d5555ecb"
      },
      "outputs": [
        {
          "output_type": "execute_result",
          "data": {
            "text/plain": [
              "['soon',\n",
              " 'time',\n",
              " 'came',\n",
              " 'declare',\n",
              " 'secret',\n",
              " 'taken',\n",
              " 'king',\n",
              " 'branches',\n",
              " 'golden',\n",
              " 'cup',\n",
              " 'princesses',\n",
              " 'stood',\n",
              " 'listening',\n",
              " 'door',\n",
              " 'hear',\n",
              " 'king',\n",
              " 'asked',\n",
              " 'daughters',\n",
              " 'dance',\n",
              " 'night',\n",
              " 'answered',\n",
              " 'princes',\n",
              " 'castle',\n",
              " 'ground',\n",
              " 'told',\n",
              " 'king',\n",
              " 'happened',\n",
              " 'showed',\n",
              " 'branches',\n",
              " 'golden',\n",
              " 'cup',\n",
              " 'brought',\n",
              " 'king',\n",
              " 'called',\n",
              " 'princesses',\n",
              " 'asked',\n",
              " 'soldier',\n",
              " 'said',\n",
              " 'true',\n",
              " 'saw',\n",
              " 'discovered',\n",
              " 'use',\n",
              " 'deny',\n",
              " 'happened',\n",
              " 'confessed',\n",
              " 'king',\n",
              " 'asked',\n",
              " 'soldier',\n",
              " 'choose',\n",
              " 'wife',\n",
              " 'answered',\n",
              " 'young',\n",
              " 'eldestand',\n",
              " 'married',\n",
              " 'day',\n",
              " 'soldier',\n",
              " 'chosen',\n",
              " 'kings',\n",
              " 'heir']"
            ]
          },
          "metadata": {},
          "execution_count": 199
        }
      ],
      "source": [
        "words_nostop"
      ]
    },
    {
      "cell_type": "markdown",
      "metadata": {
        "id": "wLjCsqTzMOna"
      },
      "source": [
        "- More comprehensible, and unique list or words!"
      ]
    },
    {
      "cell_type": "code",
      "execution_count": null,
      "metadata": {
        "colab": {
          "base_uri": "https://localhost:8080/"
        },
        "id": "ekOaUzdtMOna",
        "outputId": "1c16340a-9f2c-4ce9-e9c2-26a34d5e17d3"
      },
      "outputs": [
        {
          "output_type": "execute_result",
          "data": {
            "text/plain": [
              "[('king', 5),\n",
              " ('asked', 3),\n",
              " ('soldier', 3),\n",
              " ('branches', 2),\n",
              " ('golden', 2),\n",
              " ('cup', 2),\n",
              " ('princesses', 2),\n",
              " ('answered', 2),\n",
              " ('happened', 2),\n",
              " ('soon', 1)]"
            ]
          },
          "metadata": {},
          "execution_count": 200
        }
      ],
      "source": [
        "Counter(words_nostop).most_common(10)"
      ]
    },
    {
      "cell_type": "code",
      "execution_count": null,
      "metadata": {
        "colab": {
          "base_uri": "https://localhost:8080/",
          "height": 253
        },
        "id": "FnxbAEBOMOna",
        "outputId": "64056b38-5174-4078-980d-6bfa5a3face0"
      },
      "outputs": [
        {
          "output_type": "display_data",
          "data": {
            "text/plain": [
              "<Figure size 3240x720 with 1 Axes>"
            ],
            "image/png": "[encoded data removed]"
          },
          "metadata": {
            "needs_background": "light"
          }
        }
      ],
      "source": [
        "plt.figure(figsize=(45,10))\n",
        "sns.countplot(x=words_nostop, order=pd.Series(words_nostop).value_counts().index)\n",
        "# sns.countplot(words_nostop, order=[counted[0] for counted in Counter(words_nostop).most_common()])\n",
        "plt.xticks(rotation=90)\n",
        "plt.show()"
      ]
    },
    {
      "cell_type": "markdown",
      "metadata": {
        "id": "PI_T9tE-MOna"
      },
      "source": [
        "# 1. Extracting linguistic features from spaCy"
      ]
    },
    {
      "cell_type": "markdown",
      "metadata": {
        "id": "OXhzAyxfMOna"
      },
      "source": [
        "## 1-1. Tokenize\n",
        "- Token: a semantic unit for analysis\n",
        "    - (Loosely) equal term for word\n",
        "        - ```sent_low_pnct.split()```\n",
        "    - Tricky cases\n",
        "        - aren't $\\rightarrow$ ![](https://nlp.stanford.edu/IR-book/html/htmledition/img88.png) ![](https://nlp.stanford.edu/IR-book/html/htmledition/img89.png) ? ![](https://nlp.stanford.edu/IR-book/html/htmledition/img86.png) ?\n",
        "        - O'Neil $\\rightarrow$ ![](https://nlp.stanford.edu/IR-book/html/htmledition/img83.png) ? ![](https://nlp.stanford.edu/IR-book/html/htmledition/img84.png) ![](https://nlp.stanford.edu/IR-book/html/htmledition/img81.png) ?\n",
        "        - https://nlp.stanford.edu/IR-book/html/htmledition/tokenization-1.html\n",
        "- In ```spaCy```:\n",
        "    - Many token types, like word, puntuation symbol, whitespace, etc."
      ]
    },
    {
      "cell_type": "markdown",
      "metadata": {
        "id": "sIGh8eVZMOnb"
      },
      "source": [
        "### Let's dissect the sentence!\n",
        "\n",
        "- initiating the ```spaCy``` object "
      ]
    },
    {
      "cell_type": "code",
      "execution_count": null,
      "metadata": {
        "id": "TV2GwKdzMOnb"
      },
      "outputs": [],
      "source": [
        "# examples partially taken from https://nlpforhackers.io/complete-guide-to-spacy/\n",
        "import spacy\n",
        "nlp = spacy.load('en_core_web_sm')"
      ]
    },
    {
      "cell_type": "code",
      "execution_count": null,
      "metadata": {
        "colab": {
          "base_uri": "https://localhost:8080/"
        },
        "id": "ATFbW_A7MOnb",
        "outputId": "60a1af5d-4c15-4339-90db-0115e3bf54ff"
      },
      "outputs": [
        {
          "output_type": "execute_result",
          "data": {
            "text/plain": [
              "spacy.lang.en.English"
            ]
          },
          "metadata": {},
          "execution_count": 203
        }
      ],
      "source": [
        "type(nlp)"
      ]
    },
    {
      "cell_type": "markdown",
      "metadata": {
        "id": "xLM8WZYIMOnb"
      },
      "source": [
        "- Our sentence: \"Hello World!\"\n",
        "    - Pass the sentence string to the ```spaCy``` object ```nlp```"
      ]
    },
    {
      "cell_type": "code",
      "execution_count": null,
      "metadata": {
        "id": "drlgF9V2MOnb"
      },
      "outputs": [],
      "source": [
        "doc = nlp(\"Hello World!\")"
      ]
    },
    {
      "cell_type": "markdown",
      "metadata": {
        "id": "ZLyRWJylMOnb"
      },
      "source": [
        "- The sentence is considered as a short document."
      ]
    },
    {
      "cell_type": "code",
      "execution_count": null,
      "metadata": {
        "colab": {
          "base_uri": "https://localhost:8080/"
        },
        "id": "b2biPwhbMOnb",
        "outputId": "7a1fd8f7-ae30-4bd5-cb25-f34fe85243a3"
      },
      "outputs": [
        {
          "output_type": "stream",
          "name": "stdout",
          "text": [
            "<class 'spacy.tokens.doc.Doc'> Hello World!\n"
          ]
        }
      ],
      "source": [
        "print(type(doc), doc)"
      ]
    },
    {
      "cell_type": "markdown",
      "metadata": {
        "id": "kwVaAoxNMOnb"
      },
      "source": [
        "- As importing the sentence string above, ```spaCy``` split the sentence into tokens (tokenization!)"
      ]
    },
    {
      "cell_type": "code",
      "execution_count": null,
      "metadata": {
        "colab": {
          "base_uri": "https://localhost:8080/"
        },
        "id": "ELD3aorXMOnc",
        "outputId": "0a7c0e69-1e59-4f7f-b53b-fc6d2d1501a8"
      },
      "outputs": [
        {
          "output_type": "stream",
          "name": "stdout",
          "text": [
            "0 Hello\n",
            "1 World\n",
            "2 !\n"
          ]
        }
      ],
      "source": [
        "for i,token in enumerate(doc):\n",
        "    print(i, token)"
      ]
    },
    {
      "cell_type": "markdown",
      "metadata": {
        "id": "IRkiCx4eMOnc"
      },
      "source": [
        "- With index information (location from the sentence) of each token"
      ]
    },
    {
      "cell_type": "markdown",
      "metadata": {
        "id": "sfi99iOEMOnc"
      },
      "source": [
        "| 0 | 1 | 2 | 3 | 4 | 5 | 6 | 7 | 8 | 9 | 10| 11|\n",
        "|---|---|---|---|---|---|---|---|---|---|---|---|\n",
        "| H | e | l | l | o | _ | W | o | r | l | d | ! |"
      ]
    },
    {
      "cell_type": "code",
      "execution_count": null,
      "metadata": {
        "colab": {
          "base_uri": "https://localhost:8080/"
        },
        "id": "Z6UaOlFRMOnc",
        "outputId": "c2e89fd0-7ad9-4f23-c45b-7d2e67987335"
      },
      "outputs": [
        {
          "output_type": "stream",
          "name": "stdout",
          "text": [
            "0 Hello 0\n",
            "1 World 6\n",
            "2 ! 11\n"
          ]
        }
      ],
      "source": [
        "for i, token in enumerate(doc):\n",
        "    print(i, token.text, token.idx) \n"
      ]
    },
    {
      "cell_type": "markdown",
      "metadata": {
        "id": "RMX8XrMgMOnc"
      },
      "source": [
        "- And many more!\n",
        "    - https://spacy.io/api/token#attributes"
      ]
    },
    {
      "cell_type": "code",
      "execution_count": null,
      "metadata": {
        "scrolled": true,
        "colab": {
          "base_uri": "https://localhost:8080/",
          "height": 157
        },
        "id": "MQ2V-oD2MOnc",
        "outputId": "0e65b336-6bb3-4a23-9e0b-d51fa8239f53"
      },
      "outputs": [
        {
          "output_type": "execute_result",
          "data": {
            "text/plain": [
              "'\\nAs soon as the time came when he was to declare the secret, he was taken\\nbefore the king with the three branches and the golden cup; and the\\ntwelve princesses stood listening behind the door to hear what he would\\nsay. And when the king asked him. ‘Where do my twelve daughters dance at\\nnight?’ he answered, ‘With twelve princes in a castle under ground.’ And\\nthen he told the king all that had happened, and showed him the three\\nbranches and the golden cup which he had brought with him. Then the king\\ncalled for the princesses, and asked them whether what the soldier said\\nwas true: and when they saw that they were discovered, and that it was\\nof no use to deny what had happened, they confessed it all. And the king\\nasked the soldier which of them he would choose for his wife; and he\\nanswered, ‘I am not very young, so I will have the eldest.’--And they\\nwere married that very day, and the soldier was chosen to be the king’s\\nheir.\\n\\n'"
            ],
            "application/vnd.google.colaboratory.intrinsic+json": {
              "type": "string"
            }
          },
          "metadata": {},
          "execution_count": 208
        }
      ],
      "source": [
        "sentences"
      ]
    },
    {
      "cell_type": "code",
      "execution_count": null,
      "metadata": {
        "scrolled": true,
        "id": "q3B2WRPzMOnd"
      },
      "outputs": [],
      "source": [
        "doc = nlp(sentences)\n",
        "\n",
        "print(\"text\\tidx\\tlemma\\tlower\\tpunct\\tspace\\tshape\\tPOS\")\n",
        "for token in doc:\n",
        "    if token.is_space:\n",
        "        print(\"SPACE\")\n",
        "    else:\n",
        "        print(\"{0}\\t{1}\\t{2}\\t{3}\\t{4}\\t{5}\\t{6}\\t{7}\".format(\n",
        "            token.text,\n",
        "            token.idx,\n",
        "            token.lemma_,\n",
        "            token.lower_,\n",
        "            token.is_punct,\n",
        "            token.is_space,\n",
        "            token.shape_,\n",
        "            token.pos_\n",
        "    ))\n"
      ]
    },
    {
      "cell_type": "markdown",
      "metadata": {
        "id": "eDu5p2-AMOnd"
      },
      "source": [
        "## 1-2. Sentence detection"
      ]
    },
    {
      "cell_type": "markdown",
      "metadata": {
        "id": "cjXG-Dn9MOnd"
      },
      "source": [
        "- For the document with multiple sentences, we would need to separate  each sentence.\n",
        "- In ```spaCy```, the job is more convenient (and would cause less mistakes) than using regular expression"
      ]
    },
    {
      "cell_type": "code",
      "execution_count": null,
      "metadata": {
        "colab": {
          "base_uri": "https://localhost:8080/",
          "height": 157
        },
        "id": "Afzjf_j7MOnd",
        "outputId": "a6274665-ef76-4bd7-ac2a-78b6ce5076df"
      },
      "outputs": [
        {
          "output_type": "execute_result",
          "data": {
            "text/plain": [
              "'\\nAs soon as the time came when he was to declare the secret, he was taken\\nbefore the king with the three branches and the golden cup; and the\\ntwelve princesses stood listening behind the door to hear what he would\\nsay. And when the king asked him. ‘Where do my twelve daughters dance at\\nnight?’ he answered, ‘With twelve princes in a castle under ground.’ And\\nthen he told the king all that had happened, and showed him the three\\nbranches and the golden cup which he had brought with him. Then the king\\ncalled for the princesses, and asked them whether what the soldier said\\nwas true: and when they saw that they were discovered, and that it was\\nof no use to deny what had happened, they confessed it all. And the king\\nasked the soldier which of them he would choose for his wife; and he\\nanswered, ‘I am not very young, so I will have the eldest.’--And they\\nwere married that very day, and the soldier was chosen to be the king’s\\nheir.\\n\\n'"
            ],
            "application/vnd.google.colaboratory.intrinsic+json": {
              "type": "string"
            }
          },
          "metadata": {},
          "execution_count": 210
        }
      ],
      "source": [
        "sentences"
      ]
    },
    {
      "cell_type": "code",
      "execution_count": null,
      "metadata": {
        "id": "avycVMddMOnd"
      },
      "outputs": [],
      "source": [
        "# same document, but initiate as the spaCy object...\n",
        "doc = nlp(sentences)"
      ]
    },
    {
      "cell_type": "markdown",
      "metadata": {
        "id": "uruum3kTMOnd"
      },
      "source": [
        "- Sentences are stored as a generator object\n",
        "    - Instead of storing sentences as a list, each sentence is stored as a item in the generator object \n",
        "    - Iteratable (i.e., can be used in a for loop)\n",
        "    - More efficient memory use\n",
        "    - https://wiki.python.org/moin/Generators"
      ]
    },
    {
      "cell_type": "code",
      "execution_count": null,
      "metadata": {
        "colab": {
          "base_uri": "https://localhost:8080/"
        },
        "id": "wsK4eIDRMOne",
        "outputId": "4b467ef5-3e8d-4f43-e7da-e40852557123"
      },
      "outputs": [
        {
          "output_type": "execute_result",
          "data": {
            "text/plain": [
              "<generator at 0x7fd79a883890>"
            ]
          },
          "metadata": {},
          "execution_count": 212
        }
      ],
      "source": [
        "doc.sents"
      ]
    },
    {
      "cell_type": "markdown",
      "metadata": {
        "id": "g8Cxflo7MOne"
      },
      "source": [
        "- Printing sentences with the index number"
      ]
    },
    {
      "cell_type": "code",
      "execution_count": null,
      "metadata": {
        "scrolled": true,
        "id": "5EFpBVPCMOne"
      },
      "outputs": [],
      "source": [
        "for i, sent in enumerate(doc.sents):\n",
        "    print(i, sent)"
      ]
    },
    {
      "cell_type": "markdown",
      "metadata": {
        "id": "12y3MvE5MOne"
      },
      "source": [
        "## 1-3. POS tagging"
      ]
    },
    {
      "cell_type": "markdown",
      "metadata": {
        "id": "NQyKTfxoMOne"
      },
      "source": [
        "- I want to find words with particular part-of-speech!\n",
        "- Different part-of-speech words carry different information\n",
        "    - e.g., noun (subject), verb (action term), adjective (quality of the object) \n",
        "- https://spacy.io/api/annotation#pos-tagging"
      ]
    },
    {
      "cell_type": "markdown",
      "metadata": {
        "id": "Orz7VWVtMOne"
      },
      "source": [
        "- Yelp review!"
      ]
    },
    {
      "cell_type": "code",
      "execution_count": null,
      "metadata": {
        "id": "9Ny9QPaVMOne"
      },
      "outputs": [],
      "source": [
        "# from https://www.yelp.com/biz/ajishin-novi?hrid=juA4Zn2TX7845vNFn4syBQ&utm_campaign=www_review_share_popup&utm_medium=copy_link&utm_source=(direct)\n",
        "doc = nlp(\"\"\"One of the best Japanese restaurants in Novi. Simple food, great taste, amazingly price. I visit this place a least twice month.\"\"\")"
      ]
    },
    {
      "cell_type": "markdown",
      "metadata": {
        "id": "NvZSB6iXMOne"
      },
      "source": [
        "- multiple sentences exist in a document"
      ]
    },
    {
      "cell_type": "code",
      "execution_count": null,
      "metadata": {
        "colab": {
          "base_uri": "https://localhost:8080/"
        },
        "id": "l79jZ5jmMOnf",
        "outputId": "f2bca1d5-b152-4568-fc51-c0b5b404e70c"
      },
      "outputs": [
        {
          "output_type": "stream",
          "name": "stdout",
          "text": [
            "0 One of the best Japanese restaurants in Novi.\n",
            "1 Simple food, great taste, amazingly price.\n",
            "2 I visit this place a least twice month.\n"
          ]
        }
      ],
      "source": [
        "for i, sent in enumerate(doc.sents):\n",
        "    print(i, sent)"
      ]
    },
    {
      "cell_type": "markdown",
      "metadata": {
        "id": "frfrROWYMOnf"
      },
      "source": [
        "- Question: which words are adjective (ADJ)?"
      ]
    },
    {
      "cell_type": "code",
      "execution_count": null,
      "metadata": {
        "colab": {
          "base_uri": "https://localhost:8080/"
        },
        "id": "HSFbuh5DMOnf",
        "outputId": "e9362c63-a197-4425-d4ca-eb4770a6790d"
      },
      "outputs": [
        {
          "output_type": "stream",
          "name": "stdout",
          "text": [
            "best \t ADJ\n",
            "Japanese \t ADJ\n",
            "Simple \t ADJ\n",
            "great \t ADJ\n",
            "least \t ADJ\n",
            "twice \t ADJ\n"
          ]
        }
      ],
      "source": [
        "for i, sent in enumerate(doc.sents):\n",
        "    #print(\"__sentence__:\", i)\n",
        "    #print(\"_token_ \\t _POS_\")\n",
        "    for token in sent:\n",
        "        if token.pos_ == 'ADJ':\n",
        "            print(token.text, \"\\t\", token.pos_)"
      ]
    },
    {
      "cell_type": "markdown",
      "metadata": {
        "id": "qfsPrgFeMOnf"
      },
      "source": [
        "best, Japanese, Simple, great, least, twice"
      ]
    },
    {
      "cell_type": "markdown",
      "metadata": {
        "id": "PQtGJdmqMOnf"
      },
      "source": [
        "## Named Entity Recognition"
      ]
    },
    {
      "cell_type": "code",
      "execution_count": null,
      "metadata": {
        "scrolled": true,
        "colab": {
          "base_uri": "https://localhost:8080/"
        },
        "id": "T0ZgsbhiMOnf",
        "outputId": "72fc143a-a930-4acf-cde7-708f93fcb5f6"
      },
      "outputs": [
        {
          "output_type": "stream",
          "name": "stdout",
          "text": [
            "[('Democrat', 'NORP'), ('Stacey Abrams', 'PERSON'), ('first', 'ORDINAL'), ('African-American', 'NORP')]\n",
            "__sentence__: 0\n",
            "_token_ \t _POS_\n",
            "Democrat \t PROPN\n",
            "Stacey \t PROPN\n",
            "Abrams \t PROPN\n",
            "was \t AUX\n",
            "trailing \t VERB\n",
            "in \t ADP\n",
            "her \t PRON\n",
            "bid \t NOUN\n",
            "to \t PART\n",
            "become \t VERB\n",
            "the \t DET\n",
            "nation \t NOUN\n",
            "’s \t PART\n",
            "first \t ADJ\n",
            "female \t ADJ\n",
            "African \t PROPN\n",
            "- \t PUNCT\n",
            "American \t ADJ\n",
            "governor \t NOUN\n",
            ", \t PUNCT\n",
            "but \t CCONJ\n",
            "her \t PRON\n",
            "campaign \t NOUN\n",
            "said \t VERB\n",
            "voting \t VERB\n",
            "problems \t NOUN\n",
            "as \t ADV\n",
            "well \t ADV\n",
            "as \t ADP\n",
            "uncounted \t ADJ\n",
            "absentee \t NOUN\n",
            "and \t CCONJ\n",
            "provisional \t ADJ\n",
            "ballots \t NOUN\n",
            "could \t AUX\n",
            "force \t VERB\n",
            "a \t DET\n",
            "runoff \t NOUN\n",
            ". \t PUNCT\n"
          ]
        }
      ],
      "source": [
        "doc = nlp(\"\"\"Democrat Stacey Abrams was trailing in her bid to become the nation’s first female African-American governor, but her campaign said voting problems as well as uncounted absentee and provisional ballots could force a runoff.\"\"\")\n",
        "#doc = nlp(sentences)\n",
        "print([(X.text, X.label_) for X in doc.ents])\n",
        "\n",
        "for i, sent in enumerate(doc.sents):\n",
        "    print(\"__sentence__:\", i)\n",
        "    print(\"_token_ \\t _POS_\")\n",
        "    for token in sent:\n",
        "        print(token.text, \"\\t\", token.pos_)\n",
        "\n"
      ]
    },
    {
      "cell_type": "code",
      "execution_count": null,
      "metadata": {
        "id": "lJIb5i_hMOnf"
      },
      "outputs": [],
      "source": [
        "url = 'https://fivethirtyeight.com/features/remembering-alex-trebek-the-man-with-all-the-answers/'"
      ]
    },
    {
      "cell_type": "code",
      "execution_count": null,
      "metadata": {
        "id": "PJl4TmWzMOng"
      },
      "outputs": [],
      "source": [
        "# !pip install html5lib bs4"
      ]
    },
    {
      "cell_type": "code",
      "execution_count": null,
      "metadata": {
        "colab": {
          "base_uri": "https://localhost:8080/"
        },
        "id": "QpRDRIOaMOng",
        "outputId": "89877c8b-a144-46cf-a44e-2b27802ca91b"
      },
      "outputs": [
        {
          "output_type": "execute_result",
          "data": {
            "text/plain": [
              "95"
            ]
          },
          "metadata": {},
          "execution_count": 220
        }
      ],
      "source": [
        "from bs4 import BeautifulSoup\n",
        "import requests\n",
        "import re\n",
        "def url_to_string(url):\n",
        "    res = requests.get(url)\n",
        "    html = res.text\n",
        "    soup = BeautifulSoup(html, 'html5lib')\n",
        "    for script in soup([\"script\", \"style\", 'aside']):\n",
        "        script.extract()\n",
        "    return \" \".join(re.split(r'[\\n\\t]+', soup.get_text()))\n",
        "ny_bb = url_to_string(url)\n",
        "article = nlp(ny_bb)\n",
        "len(article.ents)"
      ]
    },
    {
      "cell_type": "code",
      "execution_count": null,
      "metadata": {
        "colab": {
          "base_uri": "https://localhost:8080/"
        },
        "id": "DigNnienMOng",
        "outputId": "a9444e92-f5eb-486b-ab42-bb86ceb897ea"
      },
      "outputs": [
        {
          "output_type": "execute_result",
          "data": {
            "text/plain": [
              "   Remembering Alex Trebek, The Man With All The Answers | FiveThirtyEight                     Skip to main content FiveThirtyEight Search Search ABC News Menu Remembering Alex Trebek, The Man With All The Answers Share on Facebook Share on Twitter Politics Sports Science Podcasts Video ABC News Latest Forecasts For The 2022 Midterm Elections Nov. 9, 2020, at 4:09 PM Remembering Alex Trebek, The Man With All The Answers By Oliver Roeder Filed under Jeopardy! FacebookTwitterEmailLink   PHOTO ILLUSTRATION BY FIVETHIRTYEIGHT / GETTY IMAGES For decades, I’ve tuned into the trivia game show “Jeopardy!” for the facts. On Sunday, the show lost its judicious leader, Alex Trebek, who died at age 80 after a battle with cancer. Trebek had hosted “Jeopardy!” for my entire life. He began in 1984 and hosted every episode since — save for April Fool’s Day in 1997 when he and Pat Sajak of “Wheel of Fortune” swapped places — more than 8,000 half-hour shows in all. For many, watching Trebek was ritualistic — the way a day ends and a night begins. It was also a way to get real facts, a brief respite from the “alternative facts” so prevalent over the past few years. Trebek and the show — the two difficult now to divorce — were a beacon of democratic ideals, flattening the world for all to consume. High and low, popular and obscure, new and old, holy and profane, Trebek put all of them on equal terms. Look no further than the episode of “Jeopardy!” that aired this past Friday, for example. It featured clues about Rihanna, Madonna and Katy Perry, and clues about the city of Vaduz, the Russian navy and the German chancellor. All were on the same game board — though Gene Wilder and the Cook Strait were worth more money than any of them. “Jeopardy!” and Trebek have been a haven for facts as monuments of truth have crumbled in the public sphere. The holder of the country’s highest office now baselessly disputes legitimate election results, espousers of baseless and dangerous conspiracy theories are elected to Congress, and fact-checking is a booming industry. Trebek’s performance hasn’t changed to combat the untruths of the last few years, in part because it already was a kind of totem to the value of fact. Since 1984, he has stood each weekday in a suit behind a podium with a sheet of notes and delivered more than 400,000 clues, each a minor daily inoculation against the creep of lies — or whatever you want to call them. “Alex was so much more than a host,” tweeted James Holzhauer, who set a series of unreal records on “Jeopardy!” last spring. “He was an impartial arbiter of truth and facts in a world that needs exactly that.” The show’s eclectic and unpredictable subject matter is the result of an unassuming, wide-angle lens cast upon a large and complicated world. We call the material Trebek delivered “trivia,” but few things are less trivial than turning a generous eye toward the world — in all its strange and diverse splendor — and calling things by their right name. The headline on a great 2014 profile of Trebek in the New Republic declared him the “Last King of the American Middlebrow.” This is true not in a pejorative sense but in a statistical one, as in the average between high and low. Trebek’s essential demeanor — and therefore “Jeopardy!” itself — is stripped of pretension and pretext. The show’s archive showcases its diverse interests, each of which was presented on the show’s giant board simply and equally in the iconic all-caps white text on a blue square. Knowledge of the former British Prime Minister Benjamin Disraeli is worth the same as that of “The Office” actor Steve Carrell, as that of the toy Mr. Potato Head. The playwright Shakespeare is equal to the running back Walter Payton. The element helium is as valuable as the airport Heathrow. Trebek’s performance as host emphasized this egalitarianism. His affect was steady and his pronunciation — of French, most famously — was impeccable, and he took pre-show notes with diacritical marks to ensure that he’d get it right. And at the same time he was, among other things, an underrated rapper, as Holzhauer joked, enthusiastically engaging with the repertoires of Lil Wayne, Drake and Kendrick Lamar. “I’m not too good at it, but I was getting into it,” Trebek said after delivering the verses, and I believed him. Moreover, Trebek’s performance didn’t just lack pretension, it was anti-pretentious. He once famously lightly chastised three contestants, who had correctly answered clues about Molière and Thor Heyerdahl, for not knowing enough about football. “I have to talk to them,” Trebek said disapprovingly before going to commercial. The democratic nature of trivia had been thrown off-kilter, and Trebek had to correct it. By all accounts, Trebek embodied these trivia ideals while also being a genuine and gracious human. “Alex wasn’t just the best ever at what he did,” tweeted Ken Jennings, the show’s most famous contestant, who won a record 74 consecutive times. “He was also a lovely and deeply decent man, and I’m grateful for every minute I got to spend with him.” It was with this same ethos of decency and calm that Trebek announced, in March 2019, that he had been diagnosed with stage 4 pancreatic cancer. He said he “wanted to prevent you from reading or hearing some overblown or inaccurate reports regarding my health.” The rest of the short statement was filled with facts, and he vowed to fight the cancer and continue working. “Truth told, I have to,” he said, with a characteristic pinch of humor. “Because under the terms of my contract, I have to host ‘Jeopardy!’ for three more years.” I wish he were able to do so. The show may go on, but it’s hard to imagine anyone personifying its ideals as well as Alex Trebek did. Of course, the contestants on “Jeopardy!” just ask the questions. It was Trebek who had all the answers. Oliver Roeder was a senior writer for FiveThirtyEight. He holds a Ph.D. in economics from the University of Texas at Austin, where he studied game theory and political competition.  @ollie Comments Filed under Games (47 posts) Jeopardy! (7) Doo-Doo-Doo-Doo-Doo-Doo-Doo (4) Alex Trebek (2)      Get more FiveThirtyEight Store Newsletter Twitter Facebook Data RSS Follow @FiveThirtyEight About Us Jobs Masthead Pitch FiveThirtyEight Advertise With Us About Nielsen Measurement Powered by WordPress VIP Terms of Use Privacy Policy Do Not Sell My Personal Information Your California Privacy Rights Children's Online Privacy Policy Interest-Based Ads © 2022 ABC News Internet Ventures. All rights reserved. Close Additional Information Terms of Use and Privacy Policy and Safety Information/Your California Privacy Rights/Children's Online Privacy Policy are applicable to you. © 2022 ABC News Internet Ventures. All rights reserved. Interest-Based Ads. Cookie Policy. "
            ]
          },
          "metadata": {},
          "execution_count": 221
        }
      ],
      "source": [
        "article"
      ]
    },
    {
      "cell_type": "code",
      "execution_count": null,
      "metadata": {
        "colab": {
          "base_uri": "https://localhost:8080/"
        },
        "id": "VlH932czMOng",
        "outputId": "c0ffc576-caf6-4d45-fe26-aa683e649e8e"
      },
      "outputs": [
        {
          "output_type": "execute_result",
          "data": {
            "text/plain": [
              "Counter({('CARDINAL', '47'): 1,\n",
              "         ('CARDINAL', '74'): 1,\n",
              "         ('CARDINAL', 'more than 400,000'): 1,\n",
              "         ('CARDINAL', 'more than 8,000'): 1,\n",
              "         ('CARDINAL', 'three'): 1,\n",
              "         ('CARDINAL', 'two'): 1,\n",
              "         ('DATE', '1984'): 2,\n",
              "         ('DATE', '2014'): 1,\n",
              "         ('DATE', '2022'): 3,\n",
              "         ('DATE', 'April Fool’s Day in 1997'): 1,\n",
              "         ('DATE', 'FiveThirtyEight'): 1,\n",
              "         ('DATE', 'March 2019'): 1,\n",
              "         ('DATE', 'Nov. 9, 2020,'): 1,\n",
              "         ('DATE', 'Sunday'): 1,\n",
              "         ('DATE', 'age 80'): 1,\n",
              "         ('DATE', 'daily'): 1,\n",
              "         ('DATE', 'decades'): 1,\n",
              "         ('DATE', 'last spring'): 1,\n",
              "         ('DATE', 'the last few years'): 1,\n",
              "         ('DATE', 'the past few years'): 1,\n",
              "         ('DATE', 'this past Friday'): 1,\n",
              "         ('DATE', 'three more years'): 1,\n",
              "         ('GPE', 'Austin'): 1,\n",
              "         ('GPE', 'Heathrow'): 1,\n",
              "         ('GPE', 'Molière'): 1,\n",
              "         ('GPE', 'the New Republic'): 1,\n",
              "         ('LOC', 'the Cook Strait'): 1,\n",
              "         ('NORP', 'British'): 1,\n",
              "         ('NORP', 'French'): 1,\n",
              "         ('NORP', 'German'): 1,\n",
              "         ('NORP', 'Russian'): 1,\n",
              "         ('NORP', 'Trebek'): 1,\n",
              "         ('NORP', 'democratic'): 1,\n",
              "         ('ORG', 'ABC News Internet Ventures'): 2,\n",
              "         ('ORG', 'ABC News Latest Forecasts For'): 1,\n",
              "         ('ORG',\n",
              "          \"Close Additional Information Terms of Use and Privacy Policy and Safety Information/Your California Privacy Rights/Children's Online Privacy Policy\"): 1,\n",
              "         ('ORG', 'Congress'): 1,\n",
              "         ('ORG', 'Drake'): 1,\n",
              "         ('ORG', 'GETTY IMAGES For'): 1,\n",
              "         ('ORG', 'Trebek'): 7,\n",
              "         ('ORG', 'WordPress VIP'): 1,\n",
              "         ('ORG', 'the University of Texas'): 1,\n",
              "         ('PERSON', 'Alex'): 1,\n",
              "         ('PERSON', 'Alex Trebek'): 6,\n",
              "         ('PERSON', 'Benjamin Disraeli'): 1,\n",
              "         ('PERSON', 'Gene Wilder'): 1,\n",
              "         ('PERSON', 'James Holzhauer'): 1,\n",
              "         ('PERSON', 'Jeopardy'): 1,\n",
              "         ('PERSON', 'Katy Perry'): 1,\n",
              "         ('PERSON', 'Ken Jennings'): 1,\n",
              "         ('PERSON', 'Kendrick Lamar'): 1,\n",
              "         ('PERSON', 'Lil Wayne'): 1,\n",
              "         ('PERSON', 'Madonna'): 1,\n",
              "         ('PERSON', 'Masthead Pitch'): 1,\n",
              "         ('PERSON', 'Oliver Roeder'): 1,\n",
              "         ('PERSON', 'Pat Sajak'): 1,\n",
              "         ('PERSON', 'Potato Head'): 1,\n",
              "         ('PERSON', 'Rihanna'): 1,\n",
              "         ('PERSON', 'Shakespeare'): 1,\n",
              "         ('PERSON', 'Steve Carrell'): 1,\n",
              "         ('PERSON', 'Thor Heyerdahl'): 1,\n",
              "         ('PERSON', 'Trebek'): 2,\n",
              "         ('PERSON', 'Vaduz'): 1,\n",
              "         ('PERSON', 'Walter Payton'): 1,\n",
              "         ('PRODUCT', 'Holzhauer'): 1,\n",
              "         ('TIME', '4:09 PM'): 1,\n",
              "         ('WORK_OF_ART', 'Jeopardy'): 7,\n",
              "         ('WORK_OF_ART', 'Ph.D.'): 1,\n",
              "         ('WORK_OF_ART', 'The Man With All The Answers'): 1,\n",
              "         ('WORK_OF_ART',\n",
              "          'The Man With All The Answers By Oliver Roeder Filed'): 1,\n",
              "         ('WORK_OF_ART',\n",
              "          'The Man With All The Answers Share on Facebook Share on Twitter Politics Sports Science Podcasts Video'): 1,\n",
              "         ('WORK_OF_ART', 'The Office'): 1,\n",
              "         ('WORK_OF_ART', 'Wheel of Fortune'): 1})"
            ]
          },
          "metadata": {},
          "execution_count": 222
        }
      ],
      "source": [
        "labels = [(x.label_,x.text) for x in article.ents]\n",
        "#labels\n",
        "Counter(labels)"
      ]
    },
    {
      "cell_type": "code",
      "execution_count": null,
      "metadata": {
        "colab": {
          "base_uri": "https://localhost:8080/"
        },
        "id": "CUz3jGOYMOng",
        "outputId": "4dfcbc13-c23b-4fc4-bf1f-d965cfa84872"
      },
      "outputs": [
        {
          "output_type": "execute_result",
          "data": {
            "text/plain": [
              "Counter({'CARDINAL': 6,\n",
              "         'DATE': 19,\n",
              "         'GPE': 4,\n",
              "         'LOC': 1,\n",
              "         'NORP': 6,\n",
              "         'ORG': 16,\n",
              "         'PERSON': 28,\n",
              "         'PRODUCT': 1,\n",
              "         'TIME': 1,\n",
              "         'WORK_OF_ART': 13})"
            ]
          },
          "metadata": {},
          "execution_count": 223
        }
      ],
      "source": [
        "labels = [x.label_ for x in article.ents]\n",
        "Counter(labels)"
      ]
    },
    {
      "cell_type": "code",
      "execution_count": null,
      "metadata": {
        "id": "DXB5wfRZMOng"
      },
      "outputs": [],
      "source": [
        "labels"
      ]
    },
    {
      "cell_type": "code",
      "execution_count": null,
      "metadata": {
        "colab": {
          "base_uri": "https://localhost:8080/",
          "height": 260
        },
        "id": "pEe5je4oMOng",
        "outputId": "af9c1b62-20f7-4603-a5de-f7307d948769"
      },
      "outputs": [
        {
          "output_type": "display_data",
          "data": {
            "text/plain": [
              "<Figure size 3240x720 with 1 Axes>"
            ],
            "image/png": "[encoded data removed]"
          },
          "metadata": {
            "needs_background": "light"
          }
        }
      ],
      "source": [
        "plt.figure(figsize=(45,10))\n",
        "sns.countplot(x=labels, order=pd.Series(labels).value_counts().index)\n",
        "# sns.countplot(words_nostop, order=[counted[0] for counted in Counter(words_nostop).most_common()])\n",
        "plt.xticks(rotation=90)\n",
        "plt.show()"
      ]
    },
    {
      "cell_type": "markdown",
      "metadata": {
        "id": "GZ9Ctt83MOnh"
      },
      "source": [
        "# NLP Part II"
      ]
    },
    {
      "cell_type": "code",
      "execution_count": null,
      "metadata": {
        "id": "AGVdGGK1MOnh"
      },
      "outputs": [],
      "source": [
        "import pandas as pd\n",
        "import numpy as np\n",
        "import seaborn as sns\n",
        "import matplotlib.pyplot as plt"
      ]
    },
    {
      "cell_type": "markdown",
      "metadata": {
        "id": "hSzoWersMOnh"
      },
      "source": [
        "# 1. Word embedding"
      ]
    },
    {
      "cell_type": "markdown",
      "metadata": {
        "id": "veW8ND56MOnh"
      },
      "source": [
        "#### Word2Vec\n",
        "- Developed by [Mikolov et al., 2013](https://papers.nips.cc/paper/5021-distributed-representations-of-words-and-phrases-and-their-compositionality.pdf)\n",
        "- Represent the meaning of the words as a vector\n",
        "    - Vector: numeric array\n",
        "    - Output of a neural network model that predicts the next word\n",
        "- Surprisingly, many different semantic informations can be represented from word vectors of ```Word2Vec```\n",
        "- (More explanation in here: https://www.tensorflow.org/tutorials/representation/word2vec)"
      ]
    },
    {
      "cell_type": "code",
      "execution_count": null,
      "metadata": {
        "id": "aiCua-5wMOnh"
      },
      "outputs": [],
      "source": [
        "# ! pip install gensim"
      ]
    },
    {
      "cell_type": "markdown",
      "metadata": {
        "id": "SNSMPMQWMOnh"
      },
      "source": [
        "You will also need to download a pretrained language model: https://github.com/eyaler/word2vec-slim/raw/master/GoogleNews-vectors-negative300-SLIM.bin.gz"
      ]
    },
    {
      "cell_type": "code",
      "execution_count": null,
      "metadata": {
        "id": "ypt8LPAgMOnh"
      },
      "outputs": [],
      "source": [
        "import gensim"
      ]
    },
    {
      "cell_type": "markdown",
      "metadata": {
        "id": "O9ztAwnEMOnh"
      },
      "source": [
        "Change the filepath in the next cell to correspond to the location of the pretrained model file you downloaded above."
      ]
    },
    {
      "cell_type": "code",
      "execution_count": null,
      "metadata": {
        "id": "Lm1YLjLqMOni"
      },
      "outputs": [],
      "source": [
        "w2v_mod = gensim.models.KeyedVectors.load_word2vec_format(\"GoogleNews-vectors-negative300-SLIM.bin.gz\", binary=True)"
      ]
    },
    {
      "cell_type": "markdown",
      "metadata": {
        "id": "M49JmGwyMOni"
      },
      "source": [
        "## 1-1. Calculating similarity between words"
      ]
    },
    {
      "cell_type": "markdown",
      "metadata": {
        "id": "dieqMmdyMOni"
      },
      "source": [
        "- Q: What's similarity between *school* and *student*?"
      ]
    },
    {
      "cell_type": "markdown",
      "metadata": {
        "id": "ObK_EjFSMOni"
      },
      "source": [
        "- the word vector for *school* looks like this:"
      ]
    },
    {
      "cell_type": "code",
      "execution_count": null,
      "metadata": {
        "id": "jJD6dLkLMOni",
        "colab": {
          "base_uri": "https://localhost:8080/"
        },
        "outputId": "dcee6c46-03b5-4171-b0ef-cd9cc33c3260"
      },
      "outputs": [
        {
          "output_type": "execute_result",
          "data": {
            "text/plain": [
              "array([ 3.70471478e-02,  1.14410305e-02,  1.49575379e-02,  8.87546614e-02,\n",
              "        3.96226160e-02, -2.67452672e-02,  6.33961856e-02, -1.90188568e-02,\n",
              "       -1.89445645e-03, -3.68490331e-02,  1.01037674e-01,  1.85235739e-02,\n",
              "        2.69433800e-02, -4.00188453e-02, -4.29905392e-02,  4.31886539e-02,\n",
              "       -8.12263638e-02,  5.72051527e-03,  5.54716662e-02, -3.56603563e-02,\n",
              "        8.32074955e-02,  6.93395808e-02,  4.72994987e-03,  6.97358102e-02,\n",
              "        1.96874887e-03, -1.41848966e-01,  9.22464067e-04,  7.48867467e-02,\n",
              "        4.85377051e-02, -1.02028241e-02,  4.14056368e-02, -4.33867648e-02,\n",
              "        1.62452739e-02,  3.04598873e-03, -6.61697686e-02, -6.06226064e-02,\n",
              "        9.27169248e-02, -2.04056483e-02,  1.88207440e-02,  5.07169515e-02,\n",
              "        5.29952534e-03,  5.19056283e-02,  4.47735563e-02, -2.05047056e-02,\n",
              "        1.39669729e-02,  5.86414747e-02,  6.97358102e-02, -1.12924464e-02,\n",
              "       -4.49716710e-02,  9.31131542e-02, -4.75471430e-02, -4.95282710e-02,\n",
              "       -1.44251098e-03, -4.61603515e-02,  8.59810784e-02, -8.47924054e-02,\n",
              "       -4.23962027e-02,  1.78301781e-02, -5.00235567e-03, -6.45848662e-02,\n",
              "       -3.58584709e-02, -1.62452739e-02,  4.31886539e-02, -2.06037611e-02,\n",
              "        3.14999819e-02,  5.94339259e-02, -7.01320320e-02,  8.39999467e-02,\n",
              "        8.96461774e-03,  1.64433867e-02, -7.44905248e-02,  4.91320454e-02,\n",
              "        3.52641307e-02,  1.49575379e-02, -4.51697856e-02,  1.44226328e-01,\n",
              "        1.16490498e-01,  1.29392615e-03,  7.01320320e-02,  6.41886443e-02,\n",
              "        2.02075355e-02, -6.77546784e-02, -6.10188320e-02,  8.43961760e-02,\n",
              "        2.23867781e-02,  1.60471611e-02,  1.50565952e-02,  9.62829590e-02,\n",
              "        6.73584491e-02, -1.14905592e-02, -7.37971254e-03, -7.68678784e-02,\n",
              "       -5.54716634e-03, -6.22075088e-02, -7.23112794e-03,  3.82358246e-02,\n",
              "        6.45848662e-02,  2.57547013e-02, -2.53584757e-02,  2.91226245e-02,\n",
              "       -1.94150824e-02, -5.42334560e-03, -5.62641174e-02,  2.48631928e-02,\n",
              "       -8.83584395e-02, -3.38773392e-02,  5.24999667e-03,  2.25848928e-02,\n",
              "       -8.81603267e-03, -8.43961760e-02, -9.35093760e-02,  6.89433515e-02,\n",
              "       -1.36698028e-02, -1.83254611e-02,  6.69622272e-02, -1.02152058e-04,\n",
              "        2.71414928e-02, -2.02075355e-02, -5.74527942e-02, -6.57735467e-02,\n",
              "       -4.55660112e-02, -6.16627000e-03,  1.00542391e-02, -8.81603267e-03,\n",
              "       -2.41697971e-02, -1.83254611e-02, -3.34811136e-02, -5.50754406e-02,\n",
              "        1.24439783e-03,  3.32829989e-02,  3.68490331e-02, -1.44226328e-01,\n",
              "       -7.88490102e-02, -4.14056368e-02, -5.38867600e-02, -1.21344263e-02,\n",
              "        1.10448049e-02, -4.23215215e-06, -1.12924464e-02,  2.85282843e-02,\n",
              "       -1.44226328e-01, -1.44226328e-01,  5.26980832e-02,  1.85731018e-03,\n",
              "       -1.05990507e-02,  8.71697590e-02, -3.92263904e-02, -3.86320539e-02,\n",
              "       -9.01414547e-03,  1.92695938e-04,  1.64037645e-01, -7.21131638e-02,\n",
              "       -3.66509221e-02,  6.06226064e-02, -8.36037248e-02, -5.23018539e-02,\n",
              "        1.03811257e-01, -9.70754102e-02,  4.35848795e-02, -2.95188501e-02,\n",
              "       -9.23207030e-02,  4.61603515e-02,  8.28112736e-02,  7.92452320e-02,\n",
              "       -3.14999819e-02,  4.68042167e-03, -1.24811241e-02, -8.51886272e-02,\n",
              "        2.48631928e-02,  2.13962141e-02, -8.83584395e-02,  1.59481037e-02,\n",
              "        6.43867534e-03, -1.06981069e-01,  6.83490140e-03,  2.65471544e-02,\n",
              "        6.98348647e-03,  4.97263856e-02,  4.23466740e-03,  1.00245222e-01,\n",
              "       -1.28773507e-03,  2.35754568e-02,  6.93395827e-03,  1.98113080e-02,\n",
              "        3.44716758e-02,  5.20046847e-03, -3.48679051e-02, -2.55565885e-02,\n",
              "        9.15282443e-02,  3.74433734e-02,  2.95188501e-02, -3.66509221e-02,\n",
              "       -8.81603267e-03,  7.25093931e-02, -1.08565971e-01, -3.32829989e-02,\n",
              "        4.67546880e-02, -7.60754272e-02, -2.98407837e-03, -7.92452320e-03,\n",
              "       -4.29905392e-02, -8.91508907e-03,  8.67735296e-02, -1.14905588e-01,\n",
              "       -2.73396056e-02, -1.18867852e-01,  7.08254287e-03, -1.03018805e-01,\n",
              "       -2.03065909e-02, -5.78861684e-04,  3.62546965e-02, -6.14150576e-02,\n",
              "        7.21131638e-02, -1.45018786e-01, -1.32339537e-01,  1.31547093e-01,\n",
              "       -4.12075222e-02,  2.41697971e-02, -5.50754406e-02, -5.82452491e-02,\n",
              "       -5.05188368e-02, -3.74433734e-02,  1.01532955e-02,  5.94339259e-02,\n",
              "        4.99244966e-02,  1.10943327e-02, -1.04603708e-01,  4.59622368e-02,\n",
              "        3.11037544e-02, -1.49575379e-02,  8.43961760e-02,  3.20943221e-02,\n",
              "        2.02075355e-02,  6.53773174e-02,  8.61791894e-03,  3.40754502e-02,\n",
              "        3.68985627e-03, -7.84527808e-02,  6.58726040e-03, -1.19858421e-02,\n",
              "        2.85282843e-02, -2.14952696e-02,  9.35093760e-02, -3.54622416e-02,\n",
              "       -1.10943332e-01, -4.71509136e-02, -6.65659979e-02, -2.67452672e-02,\n",
              "        6.63678860e-03, -2.48879567e-03,  1.29764071e-02,  3.96226160e-02,\n",
              "        5.62641174e-02,  5.78490235e-02, -3.54622416e-02, -1.08565971e-01,\n",
              "        4.69528027e-02, -1.05495220e-02,  7.82546680e-03,  1.02226354e-01,\n",
              "        1.86226312e-02,  5.66603430e-02, -1.00245222e-01, -3.74433734e-02,\n",
              "        3.88301648e-02, -2.27830056e-02,  1.47594251e-02,  2.69433800e-02,\n",
              "       -1.89197995e-02,  2.42688525e-02,  4.12075222e-02, -1.90188568e-02,\n",
              "        3.68490331e-02,  8.47924054e-02, -3.16980928e-02, -1.02226354e-01,\n",
              "        1.24415018e-01, -1.27584830e-01, -2.46650800e-02, -1.25999928e-01,\n",
              "       -4.75471430e-02, -2.05047056e-02, -5.54716662e-02,  1.02226354e-01,\n",
              "       -7.76603296e-02, -1.98113092e-04, -3.78395990e-02,  7.96414614e-02,\n",
              "        6.14150576e-02,  1.21245213e-01, -4.37829942e-02, -9.70754120e-03,\n",
              "       -5.98301515e-02, -2.71414928e-02,  4.25943136e-02, -2.32782885e-02,\n",
              "       -4.29905392e-02, -5.07664774e-03,  3.68490331e-02,  4.87358198e-02],\n",
              "      dtype=float32)"
            ]
          },
          "metadata": {},
          "execution_count": 230
        }
      ],
      "source": [
        "w2v_mod['school']"
      ]
    },
    {
      "cell_type": "code",
      "execution_count": null,
      "metadata": {
        "id": "YXkoYHhBMOni",
        "colab": {
          "base_uri": "https://localhost:8080/"
        },
        "outputId": "46a2ff3f-a25b-41e8-c01b-3fe2d74b04e4"
      },
      "outputs": [
        {
          "output_type": "execute_result",
          "data": {
            "text/plain": [
              "300"
            ]
          },
          "metadata": {},
          "execution_count": 231
        }
      ],
      "source": [
        "len(w2v_mod['school'])"
      ]
    },
    {
      "cell_type": "markdown",
      "metadata": {
        "id": "a_3eiOvYMOni"
      },
      "source": [
        "- and the word vector for *student* looks like this:"
      ]
    },
    {
      "cell_type": "code",
      "execution_count": null,
      "metadata": {
        "id": "gmZOWbleMOni",
        "colab": {
          "base_uri": "https://localhost:8080/"
        },
        "outputId": "45d6a1f5-d448-485a-a6c2-7142adc40860"
      },
      "outputs": [
        {
          "output_type": "execute_result",
          "data": {
            "text/plain": [
              "array([ 0.01336551,  0.00730235,  0.08037006,  0.05629445,  0.06479172,\n",
              "        0.01141821,  0.11400511, -0.01221483,  0.0559404 , -0.1359564 ,\n",
              "        0.01849928, -0.04779717, -0.04337151, -0.05027555, -0.0073466 ,\n",
              "        0.00477972, -0.02442967, -0.02389859, -0.00907261, -0.05098365,\n",
              "        0.00783343,  0.06302146, -0.00064449, -0.03328099, -0.03540531,\n",
              "       -0.17844278, -0.04956744, -0.002069  ,  0.06160524,  0.0366445 ,\n",
              "        0.03416613, -0.03983098, -0.03080262,  0.01964995, -0.02372156,\n",
              "       -0.00610742,  0.04071611,  0.0506296 , -0.03009452,  0.08072411,\n",
              "       -0.08638897,  0.0426634 , -0.01672901,  0.03115668,  0.0619593 ,\n",
              "       -0.02496075,  0.01451618, -0.03752963,  0.05771066,  0.0179682 ,\n",
              "       -0.03947692, -0.05452418,  0.0054657 , -0.01964995,  0.0906376 ,\n",
              "       -0.03452018, -0.04284043,  0.04036206,  0.07435116, -0.03629045,\n",
              "        0.00610742, -0.03452018, -0.00111748, -0.00489036,  0.03363505,\n",
              "       -0.0306256 ,  0.03080262, -0.02009252,  0.05735661,  0.03823774,\n",
              "       -0.08391059,  0.02991749,  0.00533293, -0.07718358, -0.06479172,\n",
              "        0.1586158 ,  0.05275392, -0.00624019,  0.03115668, -0.00068874,\n",
              "        0.00982497, -0.04921339, -0.00654998,  0.07470521, -0.06160524,\n",
              "        0.00986923, -0.04567285,  0.11117268, -0.01106416,  0.09028355,\n",
              "       -0.04089314, -0.13454019, -0.0559404 , -0.06018903, -0.04301745,\n",
              "        0.02673101,  0.06514578,  0.09559435, -0.0089841 , -0.073289  ,\n",
              "        0.01301145, -0.03823774, -0.03274991, -0.13949694, -0.03469721,\n",
              "       -0.02044657, -0.05239986, -0.06018903,  0.08674302, -0.08497275,\n",
              "       -0.13808072, -0.05912687,  0.03611342,  0.00385033,  0.02991749,\n",
              "       -0.04071611, -0.02903236, -0.01079862,  0.05417013,  0.06337551,\n",
              "        0.02478372,  0.02708506, -0.01787968, -0.05098365,  0.0007247 ,\n",
              "        0.02903236,  0.03770666,  0.00924964,  0.0279702 ,  0.09205382,\n",
              "       -0.01885333, -0.10834026, -0.04744312, -0.03646747, -0.07541332,\n",
              "       -0.04160124,  0.04779717,  0.01761414, -0.12533481,  0.01363105,\n",
              "       -0.12958345, -0.07647548, -0.03310397,  0.02407561, -0.00893984,\n",
              "        0.08568086, -0.0179682 ,  0.10904837,  0.05417013,  0.01646347,\n",
              "        0.14870232,  0.01110842, -0.02071211,  0.01637496, -0.01318848,\n",
              "       -0.07576737,  0.03876882, -0.07116468,  0.05558634,  0.01513577,\n",
              "       -0.10550784,  0.00508951,  0.04372556,  0.08497275, -0.01708306,\n",
              "        0.06727009,  0.06443767, -0.05841877,  0.04708907, -0.01141821,\n",
              "       -0.01708306, -0.01088713,  0.02584588, -0.05771066,  0.0366445 ,\n",
              "        0.01699455,  0.06372956, -0.00042044, -0.01203781,  0.05523229,\n",
              "        0.04390259, -0.05239986,  0.05523229, -0.05983498,  0.0619593 ,\n",
              "        0.02088914,  0.02195129,  0.00564272,  0.00955943, -0.04638096,\n",
              "        0.05275392, -0.01283443, -0.02478372,  0.16074012, -0.15932392,\n",
              "       -0.03292694,  0.06089714, -0.07505926,  0.01128544, -0.01363105,\n",
              "       -0.0619593 ,  0.07718358,  0.03575937, -0.08072411, -0.0846187 ,\n",
              "       -0.12958345, -0.01128544, -0.06125119, -0.03292694, -0.05487823,\n",
              "        0.07789169, -0.04390259,  0.08886734, -0.1352483 , -0.09488624,\n",
              "        0.04372556, -0.03505126,  0.00955943, -0.02832425, -0.01947292,\n",
              "       -0.00482397, -0.10338352,  0.01726009, -0.01602091,  0.02885533,\n",
              "        0.08638897,  0.00840876, -0.02159724,  0.06727009, -0.01504726,\n",
              "        0.07647548,  0.04815122, -0.00242305,  0.06018903, -0.02903236,\n",
              "       -0.04390259,  0.01079862, -0.02460669, -0.00241199,  0.11046458,\n",
              "        0.14162125, -0.05523229, -0.02920938,  0.01469321, -0.04815122,\n",
              "       -0.02637696, -0.11683753,  0.00588613, -0.06833225,  0.06408362,\n",
              "       -0.01557834,  0.00435928,  0.01858779,  0.06018903, -0.03983098,\n",
              "       -0.07789169,  0.01593239,  0.04407962, -0.01911887,  0.05912687,\n",
              "        0.0226594 ,  0.00832025, -0.06762415, -0.11400511, -0.00433715,\n",
              "        0.00840876, -0.0066385 ,  0.06939442, -0.07435116, -0.00272178,\n",
              "        0.03593639, -0.03416613,  0.02257089,  0.08001601, -0.05700256,\n",
              "       -0.0619593 ,  0.00615167, -0.10621594, -0.02655398, -0.06833225,\n",
              "        0.00294307, -0.01787968, -0.04089314,  0.06974847, -0.04779717,\n",
              "        0.03788368, -0.06549983,  0.04301745,  0.1246267 ,  0.08851328,\n",
              "       -0.05487823, -0.04602691, -0.073289  , -0.03328099,  0.02097765,\n",
              "        0.06231335,  0.01389659,  0.04160124,  0.03558234,  0.0313337 ],\n",
              "      dtype=float32)"
            ]
          },
          "metadata": {},
          "execution_count": 232
        }
      ],
      "source": [
        "w2v_mod['student']"
      ]
    },
    {
      "cell_type": "code",
      "execution_count": null,
      "metadata": {
        "id": "lYWzklYJMOnj",
        "colab": {
          "base_uri": "https://localhost:8080/"
        },
        "outputId": "8be1a8da-e456-450d-f54c-b85cb8988bbc"
      },
      "outputs": [
        {
          "output_type": "stream",
          "name": "stdout",
          "text": [
            "chihuahua: 0.6710\n"
          ]
        }
      ],
      "source": [
        "result = w2v_mod.similar_by_word(\"cat\")\n",
        "most_similar_key, similarity = result[-1]  # look at the first match\n",
        "print(f\"{most_similar_key}: {similarity:.4f}\")\n",
        "# dog: 0.8798"
      ]
    },
    {
      "cell_type": "markdown",
      "metadata": {
        "id": "ewpfemB3MOnj"
      },
      "source": [
        "- the similarity between two word vectors is:"
      ]
    },
    {
      "cell_type": "code",
      "execution_count": null,
      "metadata": {
        "id": "IQmTIOY_MOnj",
        "colab": {
          "base_uri": "https://localhost:8080/"
        },
        "outputId": "15510b10-3d82-46cb-e88d-b8f7353342d2"
      },
      "outputs": [
        {
          "output_type": "execute_result",
          "data": {
            "text/plain": [
              "0.17797627"
            ]
          },
          "metadata": {},
          "execution_count": 234
        }
      ],
      "source": [
        "w2v_mod.similarity('school', 'computer')"
      ]
    },
    {
      "cell_type": "markdown",
      "metadata": {
        "id": "cfSNikAwMOnj"
      },
      "source": [
        "### <font color='red'> Q1: Find a word that is more similar to school using this model </font>"
      ]
    },
    {
      "cell_type": "code",
      "execution_count": null,
      "metadata": {
        "id": "MJHK6T9cMOnk",
        "colab": {
          "base_uri": "https://localhost:8080/"
        },
        "outputId": "b378d6d7-d496-4d10-b9a8-12dc3088fef1"
      },
      "outputs": [
        {
          "output_type": "execute_result",
          "data": {
            "text/plain": [
              "[('elementary', 0.7868632078170776),\n",
              " ('schools', 0.7411909103393555),\n",
              " ('shool', 0.6692329049110413),\n",
              " ('kindergarten', 0.6529810428619385),\n",
              " ('School', 0.6477997899055481),\n",
              " ('teacher', 0.63824063539505),\n",
              " ('students', 0.6301523447036743),\n",
              " ('classroom', 0.6281620860099792),\n",
              " ('Schools', 0.6172096133232117),\n",
              " ('teachers', 0.6158267259597778)]"
            ]
          },
          "metadata": {},
          "execution_count": 235
        }
      ],
      "source": [
        "# insert your code here\n",
        "w2v_mod.most_similar('school')"
      ]
    },
    {
      "cell_type": "markdown",
      "metadata": {
        "id": "5pDocnoaMOnk"
      },
      "source": [
        "\"elementary\" is a more similar word to school than student."
      ]
    },
    {
      "cell_type": "markdown",
      "metadata": {
        "id": "cV3HYCCcMOnl"
      },
      "source": [
        "### <font color='red'> Q3 Try some other words. Any other interesting findings? </font>\n",
        "- Give 2 more examples.\n",
        "- How would you interprete the results?"
      ]
    },
    {
      "cell_type": "code",
      "execution_count": null,
      "metadata": {
        "id": "zh6QBQtuMOnl",
        "colab": {
          "base_uri": "https://localhost:8080/"
        },
        "outputId": "a3438323-d4fe-48ac-803a-47e4b55308cb"
      },
      "outputs": [
        {
          "output_type": "execute_result",
          "data": {
            "text/plain": [
              "0.49586785"
            ]
          },
          "metadata": {},
          "execution_count": 236
        }
      ],
      "source": [
        "# put your code here\n",
        "w2v_mod.similarity('big','small')"
      ]
    },
    {
      "cell_type": "markdown",
      "metadata": {
        "id": "Okb4LadgMOnm"
      },
      "source": [
        "Even though big and small and kind of opposite in semantic, they are quite similar in syntax and have the same POS, that is why they are more similar than what we expected."
      ]
    },
    {
      "cell_type": "markdown",
      "metadata": {
        "id": "u8mxNzv_MOnm"
      },
      "source": [
        "## 1-2. Analogy from word vectors"
      ]
    },
    {
      "cell_type": "markdown",
      "metadata": {
        "id": "2ul4OLyXMOnq"
      },
      "source": [
        "<img src=\"https://www.tensorflow.org/images/linear-relationships.png\" width=\"800\">"
      ]
    },
    {
      "cell_type": "markdown",
      "metadata": {
        "id": "uvUQKcbrMOnq"
      },
      "source": [
        "#### Can we approximate the relationship between words by doing - and + operations?"
      ]
    },
    {
      "cell_type": "markdown",
      "metadata": {
        "id": "gnJ6Rp0bMOnq"
      },
      "source": [
        "- $woman - man + king \\approx ?$\n",
        "- How this works?\n",
        "    - $woman:man \\approx x:king $\n",
        "    - $\\rightarrow woman - man \\approx x - king $\n",
        "    - $\\rightarrow woman - man + king \\approx x$\n",
        "    - List top-10 words ($x$) that can solve the equation!"
      ]
    },
    {
      "cell_type": "code",
      "execution_count": null,
      "metadata": {
        "id": "lGZN6JSBMOnr",
        "colab": {
          "base_uri": "https://localhost:8080/"
        },
        "outputId": "f7e366d3-7cad-48a6-d2bc-837f623bf949"
      },
      "outputs": [
        {
          "output_type": "execute_result",
          "data": {
            "text/plain": [
              "[('queen', 0.7118192911148071),\n",
              " ('monarch', 0.6189675331115723),\n",
              " ('princess', 0.5902431011199951),\n",
              " ('prince', 0.5377322435379028),\n",
              " ('kings', 0.5236844420433044),\n",
              " ('queens', 0.518113374710083),\n",
              " ('sultan', 0.5098593235015869),\n",
              " ('monarchy', 0.5087411999702454),\n",
              " ('throne', 0.5005807876586914),\n",
              " ('royal', 0.4938204884529114)]"
            ]
          },
          "metadata": {},
          "execution_count": 237
        }
      ],
      "source": [
        "w2v_mod.most_similar(positive=['woman', 'king'], negative=['man'])"
      ]
    },
    {
      "cell_type": "markdown",
      "metadata": {
        "id": "JA4ua5NzMOnr"
      },
      "source": [
        "- $Spain - Germany + Berlin \\approx ?$\n",
        "    - $\\rightarrow Spain - Germany \\approx x -  Berlin $"
      ]
    },
    {
      "cell_type": "code",
      "execution_count": null,
      "metadata": {
        "id": "Dbis6zvuMOnr",
        "colab": {
          "base_uri": "https://localhost:8080/"
        },
        "outputId": "f5e7ba99-af58-4fe0-94f6-1e1234db1ac4"
      },
      "outputs": [
        {
          "output_type": "execute_result",
          "data": {
            "text/plain": [
              "[('Madrid', 0.7173480987548828),\n",
              " ('Barcelona', 0.5742595791816711),\n",
              " ('Malaga', 0.5547428727149963),\n",
              " ('Bilbao', 0.5404423475265503),\n",
              " ('Lisbon', 0.5366038680076599),\n",
              " ('Seville', 0.5312415361404419),\n",
              " ('Paris', 0.5251092314720154),\n",
              " ('Catalan', 0.5213972926139832),\n",
              " ('Rome', 0.5174577832221985),\n",
              " ('Bogota', 0.5146557688713074)]"
            ]
          },
          "metadata": {},
          "execution_count": 238
        }
      ],
      "source": [
        "w2v_mod.most_similar(positive=['Spain', 'Berlin'], negative=['Germany'])"
      ]
    },
    {
      "cell_type": "code",
      "execution_count": null,
      "metadata": {
        "id": "ikS_u7g0MOnr",
        "colab": {
          "base_uri": "https://localhost:8080/"
        },
        "outputId": "98dc9fae-4a4f-43d7-8e13-38a7efaeaf8d"
      },
      "outputs": [
        {
          "output_type": "execute_result",
          "data": {
            "text/plain": [
              "[('juventus', 0.6439997553825378),\n",
              " ('bayern', 0.6331779956817627),\n",
              " ('barca', 0.6162762641906738),\n",
              " ('italians', 0.6080244779586792),\n",
              " ('liverpool', 0.6065831184387207),\n",
              " ('ballack', 0.6042324304580688),\n",
              " ('capello', 0.5961124300956726),\n",
              " ('ronaldinho', 0.590697169303894),\n",
              " ('drogba', 0.5895470380783081),\n",
              " ('milan', 0.5877407789230347)]"
            ]
          },
          "metadata": {},
          "execution_count": 239
        }
      ],
      "source": [
        "# put your code here\n",
        "w2v_mod.most_similar(positive=['italy', 'barcelona'], negative=['spain'])"
      ]
    },
    {
      "cell_type": "code",
      "execution_count": null,
      "metadata": {
        "id": "C33PEo4KMOns",
        "colab": {
          "base_uri": "https://localhost:8080/"
        },
        "outputId": "7a7326bb-94e1-4064-da60-adcb55726654"
      },
      "outputs": [
        {
          "output_type": "execute_result",
          "data": {
            "text/plain": [
              "[('drinks', 0.6746270656585693),\n",
              " ('beverage', 0.6164290904998779),\n",
              " ('beverages', 0.6013401746749878),\n",
              " ('drinking', 0.5713502168655396),\n",
              " ('beer', 0.5662599205970764),\n",
              " ('alcohol', 0.5321926474571228),\n",
              " ('Drinks', 0.5175540447235107),\n",
              " ('booze', 0.5061315894126892),\n",
              " ('Drink', 0.5040767788887024),\n",
              " ('liquor', 0.5028088092803955)]"
            ]
          },
          "metadata": {},
          "execution_count": 240
        }
      ],
      "source": [
        "w2v_mod.most_similar(positive=['drink', 'food'], negative=['eat'])"
      ]
    },
    {
      "cell_type": "markdown",
      "metadata": {
        "id": "l5tmaI5GMOnv"
      },
      "source": [
        "# 2. Sentiment Analysis with NLTK"
      ]
    },
    {
      "cell_type": "markdown",
      "metadata": {
        "id": "QUywguLvMOnv"
      },
      "source": [
        "\"The Natural Language Toolkit (NLTK) is a suite of libraries and programs for symbolic and statistical natural language processing for English written in the Python programming language.\"\n",
        "for more information see: https://www.nltk.org/"
      ]
    },
    {
      "cell_type": "markdown",
      "metadata": {
        "id": "r8fGFKemMOnv"
      },
      "source": [
        "We are going to use NLTK and Spacy to determine if text expresses positive sentiment, negative sentiment, or if it's neutral."
      ]
    },
    {
      "cell_type": "code",
      "execution_count": null,
      "metadata": {
        "id": "rxTt-6UxMOnv"
      },
      "outputs": [],
      "source": [
        "# adapted from https://github.com/Jcharis/Natural-Language-Processing-Tutorials/blob/master/NLP%20with%20SpaCy-%20Adding%20Extensions%20Attributes%20in%20SpaCy(How%20to%20use%20sentiment%20analysis%20in%20SpaCy).ipynb"
      ]
    },
    {
      "cell_type": "code",
      "execution_count": null,
      "metadata": {
        "id": "D9VNmzxrMOnw"
      },
      "outputs": [],
      "source": [
        "#!pip install nltk\n",
        "#!python -m nltk.downloader book"
      ]
    },
    {
      "cell_type": "code",
      "execution_count": null,
      "metadata": {
        "id": "8WgffQJkMOnw"
      },
      "outputs": [],
      "source": [
        "import nltk"
      ]
    },
    {
      "cell_type": "markdown",
      "metadata": {
        "id": "Z4dpPNEZMOnw"
      },
      "source": [
        "\"VADER (Valence Aware Dictionary and sEntiment Reasoner) is a lexicon and rule-based sentiment analysis tool that is specifically attuned to sentiments expressed in social media.\"\n",
        "\n",
        "for more see: https://github.com/cjhutto/vaderSentiment"
      ]
    },
    {
      "cell_type": "code",
      "execution_count": null,
      "metadata": {
        "id": "6bOAriudMOnw",
        "colab": {
          "base_uri": "https://localhost:8080/"
        },
        "outputId": "da970d4a-ebd4-4d58-b13a-acb50702bf06"
      },
      "outputs": [
        {
          "output_type": "stream",
          "name": "stderr",
          "text": [
            "[nltk_data] Downloading package vader_lexicon to /root/nltk_data...\n",
            "[nltk_data]   Package vader_lexicon is already up-to-date!\n"
          ]
        },
        {
          "output_type": "execute_result",
          "data": {
            "text/plain": [
              "True"
            ]
          },
          "metadata": {},
          "execution_count": 244
        }
      ],
      "source": [
        "nltk.download('vader_lexicon')"
      ]
    },
    {
      "cell_type": "markdown",
      "metadata": {
        "id": "y8-w0RUJMOnw"
      },
      "source": [
        "We are going to extend the spacy functionality with the SentimentIntensityAnalyzer function from NLTK."
      ]
    },
    {
      "cell_type": "code",
      "execution_count": null,
      "metadata": {
        "id": "X5sm-WtZMOnw"
      },
      "outputs": [],
      "source": [
        "from nltk.sentiment.vader import SentimentIntensityAnalyzer\n",
        "sent_analyzer = SentimentIntensityAnalyzer()\n",
        "def sentiment_scores(docx):\n",
        "    return sent_analyzer.polarity_scores(docx.text)"
      ]
    },
    {
      "cell_type": "code",
      "execution_count": null,
      "metadata": {
        "id": "0UzWYmMFMOnx"
      },
      "outputs": [],
      "source": [
        "import spacy"
      ]
    },
    {
      "cell_type": "code",
      "execution_count": null,
      "metadata": {
        "id": "AfqoQwejMOnx"
      },
      "outputs": [],
      "source": [
        "# loading up the language model: English\n",
        "nlp = spacy.load('en_core_web_sm')"
      ]
    },
    {
      "cell_type": "code",
      "execution_count": null,
      "metadata": {
        "id": "fmxyfm4MMOnx"
      },
      "outputs": [],
      "source": [
        "# from spacy.tokens import Doc\n",
        "# Doc.set_extension(\"sentimenter\",getter=sentiment_scores)"
      ]
    },
    {
      "cell_type": "code",
      "execution_count": null,
      "metadata": {
        "id": "2Clhecv9MOnx",
        "colab": {
          "base_uri": "https://localhost:8080/"
        },
        "outputId": "7cfa9dd4-6e08-46fd-9416-d85400f3c776"
      },
      "outputs": [
        {
          "output_type": "execute_result",
          "data": {
            "text/plain": [
              "{'compound': 0.4927, 'neg': 0.0, 'neu': 0.556, 'pos': 0.444}"
            ]
          },
          "metadata": {},
          "execution_count": 249
        }
      ],
      "source": [
        "nlp(\"This movie was very good\")._.sentimenter"
      ]
    },
    {
      "cell_type": "markdown",
      "metadata": {
        "id": "UYF3CBYEMOnx"
      },
      "source": [
        "Let's apply this sentiment analysis to product reviews on Amazon"
      ]
    },
    {
      "cell_type": "code",
      "execution_count": null,
      "metadata": {
        "id": "lpjTZe6PMOny"
      },
      "outputs": [],
      "source": [
        "r = pd.read_csv('https://raw.githubusercontent.com/umsi-data-science/data/main/small_reviews.csv')\n",
        "#random sample of original dataset at https://www.kaggle.com/snap/amazon-fine-food-reviews"
      ]
    },
    {
      "cell_type": "code",
      "execution_count": null,
      "metadata": {
        "id": "Hktr8BFxMOny",
        "colab": {
          "base_uri": "https://localhost:8080/",
          "height": 206
        },
        "outputId": "5be5098b-c082-49f2-caa5-d6f9fc788c37"
      },
      "outputs": [
        {
          "output_type": "execute_result",
          "data": {
            "text/plain": [
              "   Unnamed: 0  Score                                    Summary  \\\n",
              "0      244509      4                             Love Happy Tot   \n",
              "1       87295      4                         Feelin Hot Hot Hot   \n",
              "2      377094      5                          Wow. Very Maple-y   \n",
              "3       44261      4  Good dark, rich coffee for breakfast time   \n",
              "4      398439      5                          Fantastic coffee!   \n",
              "\n",
              "                                                Text  \n",
              "0  I just love the happy tot baby food line. It s...  \n",
              "1  Curry has become one of my favorite foods over...  \n",
              "2  Just tried this for the first time, and I'm qu...  \n",
              "3  After trying lots of different blends in K-Cup...  \n",
              "4  Exceptional coffee all around - rich, full, wi...  "
            ],
            "text/html": [
              "\n",
              "  <div id=\"df-d4e51940-8003-418f-94c9-f91d2e5e4181\">\n",
              "    <div class=\"colab-df-container\">\n",
              "      <div>\n",
              "<style scoped>\n",
              "    .dataframe tbody tr th:only-of-type {\n",
              "        vertical-align: middle;\n",
              "    }\n",
              "\n",
              "    .dataframe tbody tr th {\n",
              "        vertical-align: top;\n",
              "    }\n",
              "\n",
              "    .dataframe thead th {\n",
              "        text-align: right;\n",
              "    }\n",
              "</style>\n",
              "<table border=\"1\" class=\"dataframe\">\n",
              "  <thead>\n",
              "    <tr style=\"text-align: right;\">\n",
              "      <th></th>\n",
              "      <th>Unnamed: 0</th>\n",
              "      <th>Score</th>\n",
              "      <th>Summary</th>\n",
              "      <th>Text</th>\n",
              "    </tr>\n",
              "  </thead>\n",
              "  <tbody>\n",
              "    <tr>\n",
              "      <th>0</th>\n",
              "      <td>244509</td>\n",
              "      <td>4</td>\n",
              "      <td>Love Happy Tot</td>\n",
              "      <td>I just love the happy tot baby food line. It s...</td>\n",
              "    </tr>\n",
              "    <tr>\n",
              "      <th>1</th>\n",
              "      <td>87295</td>\n",
              "      <td>4</td>\n",
              "      <td>Feelin Hot Hot Hot</td>\n",
              "      <td>Curry has become one of my favorite foods over...</td>\n",
              "    </tr>\n",
              "    <tr>\n",
              "      <th>2</th>\n",
              "      <td>377094</td>\n",
              "      <td>5</td>\n",
              "      <td>Wow. Very Maple-y</td>\n",
              "      <td>Just tried this for the first time, and I'm qu...</td>\n",
              "    </tr>\n",
              "    <tr>\n",
              "      <th>3</th>\n",
              "      <td>44261</td>\n",
              "      <td>4</td>\n",
              "      <td>Good dark, rich coffee for breakfast time</td>\n",
              "      <td>After trying lots of different blends in K-Cup...</td>\n",
              "    </tr>\n",
              "    <tr>\n",
              "      <th>4</th>\n",
              "      <td>398439</td>\n",
              "      <td>5</td>\n",
              "      <td>Fantastic coffee!</td>\n",
              "      <td>Exceptional coffee all around - rich, full, wi...</td>\n",
              "    </tr>\n",
              "  </tbody>\n",
              "</table>\n",
              "</div>\n",
              "      <button class=\"colab-df-convert\" onclick=\"convertToInteractive('df-d4e51940-8003-418f-94c9-f91d2e5e4181')\"\n",
              "              title=\"Convert this dataframe to an interactive table.\"\n",
              "              style=\"display:none;\">\n",
              "        \n",
              "  <svg xmlns=\"http://www.w3.org/2000/svg\" height=\"24px\"viewBox=\"0 0 24 24\"\n",
              "       width=\"24px\">\n",
              "    <path d=\"M0 0h24v24H0V0z\" fill=\"none\"/>\n",
              "    <path d=\"M18.56 5.44l.94 2.06.94-2.06 2.06-.94-2.06-.94-.94-2.06-.94 2.06-2.06.94zm-11 1L8.5 8.5l.94-2.06 2.06-.94-2.06-.94L8.5 2.5l-.94 2.06-2.06.94zm10 10l.94 2.06.94-2.06 2.06-.94-2.06-.94-.94-2.06-.94 2.06-2.06.94z\"/><path d=\"M17.41 7.96l-1.37-1.37c-.4-.4-.92-.59-1.43-.59-.52 0-1.04.2-1.43.59L10.3 9.45l-7.72 7.72c-.78.78-.78 2.05 0 2.83L4 21.41c.39.39.9.59 1.41.59.51 0 1.02-.2 1.41-.59l7.78-7.78 2.81-2.81c.8-.78.8-2.07 0-2.86zM5.41 20L4 18.59l7.72-7.72 1.47 1.35L5.41 20z\"/>\n",
              "  </svg>\n",
              "      </button>\n",
              "      \n",
              "  <style>\n",
              "    .colab-df-container {\n",
              "      display:flex;\n",
              "      flex-wrap:wrap;\n",
              "      gap: 12px;\n",
              "    }\n",
              "\n",
              "    .colab-df-convert {\n",
              "      background-color: #E8F0FE;\n",
              "      border: none;\n",
              "      border-radius: 50%;\n",
              "      cursor: pointer;\n",
              "      display: none;\n",
              "      fill: #1967D2;\n",
              "      height: 32px;\n",
              "      padding: 0 0 0 0;\n",
              "      width: 32px;\n",
              "    }\n",
              "\n",
              "    .colab-df-convert:hover {\n",
              "      background-color: #E2EBFA;\n",
              "      box-shadow: 0px 1px 2px rgba(60, 64, 67, 0.3), 0px 1px 3px 1px rgba(60, 64, 67, 0.15);\n",
              "      fill: #174EA6;\n",
              "    }\n",
              "\n",
              "    [theme=dark] .colab-df-convert {\n",
              "      background-color: #3B4455;\n",
              "      fill: #D2E3FC;\n",
              "    }\n",
              "\n",
              "    [theme=dark] .colab-df-convert:hover {\n",
              "      background-color: #434B5C;\n",
              "      box-shadow: 0px 1px 3px 1px rgba(0, 0, 0, 0.15);\n",
              "      filter: drop-shadow(0px 1px 2px rgba(0, 0, 0, 0.3));\n",
              "      fill: #FFFFFF;\n",
              "    }\n",
              "  </style>\n",
              "\n",
              "      <script>\n",
              "        const buttonEl =\n",
              "          document.querySelector('#df-d4e51940-8003-418f-94c9-f91d2e5e4181 button.colab-df-convert');\n",
              "        buttonEl.style.display =\n",
              "          google.colab.kernel.accessAllowed ? 'block' : 'none';\n",
              "\n",
              "        async function convertToInteractive(key) {\n",
              "          const element = document.querySelector('#df-d4e51940-8003-418f-94c9-f91d2e5e4181');\n",
              "          const dataTable =\n",
              "            await google.colab.kernel.invokeFunction('convertToInteractive',\n",
              "                                                     [key], {});\n",
              "          if (!dataTable) return;\n",
              "\n",
              "          const docLinkHtml = 'Like what you see? Visit the ' +\n",
              "            '<a target=\"_blank\" href=https://colab.research.google.com/notebooks/data_table.ipynb>data table notebook</a>'\n",
              "            + ' to learn more about interactive tables.';\n",
              "          element.innerHTML = '';\n",
              "          dataTable['output_type'] = 'display_data';\n",
              "          await google.colab.output.renderOutput(dataTable, element);\n",
              "          const docLink = document.createElement('div');\n",
              "          docLink.innerHTML = docLinkHtml;\n",
              "          element.appendChild(docLink);\n",
              "        }\n",
              "      </script>\n",
              "    </div>\n",
              "  </div>\n",
              "  "
            ]
          },
          "metadata": {},
          "execution_count": 251
        }
      ],
      "source": [
        "r.head()"
      ]
    },
    {
      "cell_type": "markdown",
      "metadata": {
        "id": "jKMkE2xHMOny"
      },
      "source": [
        "We'll use the apply function to transform text with spacy's nlp function."
      ]
    },
    {
      "cell_type": "code",
      "execution_count": null,
      "metadata": {
        "id": "A8C_GNo9MOny"
      },
      "outputs": [],
      "source": [
        "r['rating'] = r['Text'].apply(lambda x: nlp(x)._.sentimenter['compound'])"
      ]
    },
    {
      "cell_type": "code",
      "execution_count": null,
      "metadata": {
        "id": "0aeW0jPSMOny",
        "colab": {
          "base_uri": "https://localhost:8080/",
          "height": 363
        },
        "outputId": "b1dfff63-2693-4e32-afd3-70792c51dcad"
      },
      "outputs": [
        {
          "output_type": "execute_result",
          "data": {
            "text/plain": [
              "   Score  rating                                               Text\n",
              "0      4  0.9558  I just love the happy tot baby food line. It s...\n",
              "1      4  0.9742  Curry has become one of my favorite foods over...\n",
              "2      5  0.9383  Just tried this for the first time, and I'm qu...\n",
              "3      4  0.8476  After trying lots of different blends in K-Cup...\n",
              "4      5  0.5983  Exceptional coffee all around - rich, full, wi...\n",
              "5      5  0.9652  These are a delicious vegan alternative to reg...\n",
              "6      1 -0.6048  I have never cared for sweetened cereal as I w...\n",
              "7      3  0.8029  I've been looking for dried organic mango that...\n",
              "8      3 -0.1971  This meal-in-a-box was alright, but not amazin...\n",
              "9      4  0.2732  This product works well with most kinds of mea..."
            ],
            "text/html": [
              "\n",
              "  <div id=\"df-a150e975-2726-41f0-88c5-24863013d53d\">\n",
              "    <div class=\"colab-df-container\">\n",
              "      <div>\n",
              "<style scoped>\n",
              "    .dataframe tbody tr th:only-of-type {\n",
              "        vertical-align: middle;\n",
              "    }\n",
              "\n",
              "    .dataframe tbody tr th {\n",
              "        vertical-align: top;\n",
              "    }\n",
              "\n",
              "    .dataframe thead th {\n",
              "        text-align: right;\n",
              "    }\n",
              "</style>\n",
              "<table border=\"1\" class=\"dataframe\">\n",
              "  <thead>\n",
              "    <tr style=\"text-align: right;\">\n",
              "      <th></th>\n",
              "      <th>Score</th>\n",
              "      <th>rating</th>\n",
              "      <th>Text</th>\n",
              "    </tr>\n",
              "  </thead>\n",
              "  <tbody>\n",
              "    <tr>\n",
              "      <th>0</th>\n",
              "      <td>4</td>\n",
              "      <td>0.9558</td>\n",
              "      <td>I just love the happy tot baby food line. It s...</td>\n",
              "    </tr>\n",
              "    <tr>\n",
              "      <th>1</th>\n",
              "      <td>4</td>\n",
              "      <td>0.9742</td>\n",
              "      <td>Curry has become one of my favorite foods over...</td>\n",
              "    </tr>\n",
              "    <tr>\n",
              "      <th>2</th>\n",
              "      <td>5</td>\n",
              "      <td>0.9383</td>\n",
              "      <td>Just tried this for the first time, and I'm qu...</td>\n",
              "    </tr>\n",
              "    <tr>\n",
              "      <th>3</th>\n",
              "      <td>4</td>\n",
              "      <td>0.8476</td>\n",
              "      <td>After trying lots of different blends in K-Cup...</td>\n",
              "    </tr>\n",
              "    <tr>\n",
              "      <th>4</th>\n",
              "      <td>5</td>\n",
              "      <td>0.5983</td>\n",
              "      <td>Exceptional coffee all around - rich, full, wi...</td>\n",
              "    </tr>\n",
              "    <tr>\n",
              "      <th>5</th>\n",
              "      <td>5</td>\n",
              "      <td>0.9652</td>\n",
              "      <td>These are a delicious vegan alternative to reg...</td>\n",
              "    </tr>\n",
              "    <tr>\n",
              "      <th>6</th>\n",
              "      <td>1</td>\n",
              "      <td>-0.6048</td>\n",
              "      <td>I have never cared for sweetened cereal as I w...</td>\n",
              "    </tr>\n",
              "    <tr>\n",
              "      <th>7</th>\n",
              "      <td>3</td>\n",
              "      <td>0.8029</td>\n",
              "      <td>I've been looking for dried organic mango that...</td>\n",
              "    </tr>\n",
              "    <tr>\n",
              "      <th>8</th>\n",
              "      <td>3</td>\n",
              "      <td>-0.1971</td>\n",
              "      <td>This meal-in-a-box was alright, but not amazin...</td>\n",
              "    </tr>\n",
              "    <tr>\n",
              "      <th>9</th>\n",
              "      <td>4</td>\n",
              "      <td>0.2732</td>\n",
              "      <td>This product works well with most kinds of mea...</td>\n",
              "    </tr>\n",
              "  </tbody>\n",
              "</table>\n",
              "</div>\n",
              "      <button class=\"colab-df-convert\" onclick=\"convertToInteractive('df-a150e975-2726-41f0-88c5-24863013d53d')\"\n",
              "              title=\"Convert this dataframe to an interactive table.\"\n",
              "              style=\"display:none;\">\n",
              "        \n",
              "  <svg xmlns=\"http://www.w3.org/2000/svg\" height=\"24px\"viewBox=\"0 0 24 24\"\n",
              "       width=\"24px\">\n",
              "    <path d=\"M0 0h24v24H0V0z\" fill=\"none\"/>\n",
              "    <path d=\"M18.56 5.44l.94 2.06.94-2.06 2.06-.94-2.06-.94-.94-2.06-.94 2.06-2.06.94zm-11 1L8.5 8.5l.94-2.06 2.06-.94-2.06-.94L8.5 2.5l-.94 2.06-2.06.94zm10 10l.94 2.06.94-2.06 2.06-.94-2.06-.94-.94-2.06-.94 2.06-2.06.94z\"/><path d=\"M17.41 7.96l-1.37-1.37c-.4-.4-.92-.59-1.43-.59-.52 0-1.04.2-1.43.59L10.3 9.45l-7.72 7.72c-.78.78-.78 2.05 0 2.83L4 21.41c.39.39.9.59 1.41.59.51 0 1.02-.2 1.41-.59l7.78-7.78 2.81-2.81c.8-.78.8-2.07 0-2.86zM5.41 20L4 18.59l7.72-7.72 1.47 1.35L5.41 20z\"/>\n",
              "  </svg>\n",
              "      </button>\n",
              "      \n",
              "  <style>\n",
              "    .colab-df-container {\n",
              "      display:flex;\n",
              "      flex-wrap:wrap;\n",
              "      gap: 12px;\n",
              "    }\n",
              "\n",
              "    .colab-df-convert {\n",
              "      background-color: #E8F0FE;\n",
              "      border: none;\n",
              "      border-radius: 50%;\n",
              "      cursor: pointer;\n",
              "      display: none;\n",
              "      fill: #1967D2;\n",
              "      height: 32px;\n",
              "      padding: 0 0 0 0;\n",
              "      width: 32px;\n",
              "    }\n",
              "\n",
              "    .colab-df-convert:hover {\n",
              "      background-color: #E2EBFA;\n",
              "      box-shadow: 0px 1px 2px rgba(60, 64, 67, 0.3), 0px 1px 3px 1px rgba(60, 64, 67, 0.15);\n",
              "      fill: #174EA6;\n",
              "    }\n",
              "\n",
              "    [theme=dark] .colab-df-convert {\n",
              "      background-color: #3B4455;\n",
              "      fill: #D2E3FC;\n",
              "    }\n",
              "\n",
              "    [theme=dark] .colab-df-convert:hover {\n",
              "      background-color: #434B5C;\n",
              "      box-shadow: 0px 1px 3px 1px rgba(0, 0, 0, 0.15);\n",
              "      filter: drop-shadow(0px 1px 2px rgba(0, 0, 0, 0.3));\n",
              "      fill: #FFFFFF;\n",
              "    }\n",
              "  </style>\n",
              "\n",
              "      <script>\n",
              "        const buttonEl =\n",
              "          document.querySelector('#df-a150e975-2726-41f0-88c5-24863013d53d button.colab-df-convert');\n",
              "        buttonEl.style.display =\n",
              "          google.colab.kernel.accessAllowed ? 'block' : 'none';\n",
              "\n",
              "        async function convertToInteractive(key) {\n",
              "          const element = document.querySelector('#df-a150e975-2726-41f0-88c5-24863013d53d');\n",
              "          const dataTable =\n",
              "            await google.colab.kernel.invokeFunction('convertToInteractive',\n",
              "                                                     [key], {});\n",
              "          if (!dataTable) return;\n",
              "\n",
              "          const docLinkHtml = 'Like what you see? Visit the ' +\n",
              "            '<a target=\"_blank\" href=https://colab.research.google.com/notebooks/data_table.ipynb>data table notebook</a>'\n",
              "            + ' to learn more about interactive tables.';\n",
              "          element.innerHTML = '';\n",
              "          dataTable['output_type'] = 'display_data';\n",
              "          await google.colab.output.renderOutput(dataTable, element);\n",
              "          const docLink = document.createElement('div');\n",
              "          docLink.innerHTML = docLinkHtml;\n",
              "          element.appendChild(docLink);\n",
              "        }\n",
              "      </script>\n",
              "    </div>\n",
              "  </div>\n",
              "  "
            ]
          },
          "metadata": {},
          "execution_count": 253
        }
      ],
      "source": [
        "r[['Score','rating','Text']].head(10)"
      ]
    },
    {
      "cell_type": "code",
      "execution_count": null,
      "metadata": {
        "id": "75-_BDIHMOny",
        "colab": {
          "base_uri": "https://localhost:8080/",
          "height": 139
        },
        "outputId": "ee836035-9f23-4229-c280-1d4825575528"
      },
      "outputs": [
        {
          "output_type": "execute_result",
          "data": {
            "text/plain": [
              "\"I have never cared for sweetened cereal as I was not raised on it. When I found Purely O's a few years ago I was happy to have found a cereal that did not contain sugar or corn products which I need to avoid because of a corn allergy.  I had intended to buy another box today. I took the time to read the label to make sure that nothing had changed. I could not believe that the ingredient list now lists CORN!  I am so angry!  Purely O's were my go-to breakfast when I needed a something quick or was in the mood for cereal.  There is nothing that this  company makes that I can now eat.  When will these people learn humans aren't pigs! Everything in a supermarket should not contain corn!  If I had wanted corny oat cereal I would have bought Cheerios.\""
            ],
            "application/vnd.google.colaboratory.intrinsic+json": {
              "type": "string"
            }
          },
          "metadata": {},
          "execution_count": 254
        }
      ],
      "source": [
        "r.iloc[6].Text"
      ]
    },
    {
      "cell_type": "code",
      "execution_count": null,
      "metadata": {
        "id": "V2N-2-rVMOnz",
        "colab": {
          "base_uri": "https://localhost:8080/",
          "height": 296
        },
        "outputId": "3ee86db3-ae67-4886-86da-fd498c189b71"
      },
      "outputs": [
        {
          "output_type": "execute_result",
          "data": {
            "text/plain": [
              "<matplotlib.axes._subplots.AxesSubplot at 0x7fd70f04fe10>"
            ]
          },
          "metadata": {},
          "execution_count": 255
        },
        {
          "output_type": "display_data",
          "data": {
            "text/plain": [
              "<Figure size 432x288 with 1 Axes>"
            ],
            "image/png": "[encoded data removed]"
          },
          "metadata": {
            "needs_background": "light"
          }
        }
      ],
      "source": [
        "sns.scatterplot(x='Score',y='rating',data=r)"
      ]
    },
    {
      "cell_type": "code",
      "execution_count": null,
      "metadata": {
        "id": "N_rEZj5ZMOnz",
        "colab": {
          "base_uri": "https://localhost:8080/",
          "height": 112
        },
        "outputId": "41769ed8-e208-451c-8b4f-5d0f5f34732a"
      },
      "outputs": [
        {
          "output_type": "execute_result",
          "data": {
            "text/plain": [
              "    Unnamed: 0  Score                                Summary  \\\n",
              "18       90807      1              Moist and Juicy... NOT...   \n",
              "66      479534      1  Very Disappointed, Not Durable at All   \n",
              "\n",
              "                                                 Text  rating  \n",
              "18  I like a variety of jerky but this Peppered st...  0.8631  \n",
              "66  I bought this toy because it touted being the ...  0.9020  "
            ],
            "text/html": [
              "\n",
              "  <div id=\"df-288bf8da-2c48-47aa-b321-cde03fcd3abb\">\n",
              "    <div class=\"colab-df-container\">\n",
              "      <div>\n",
              "<style scoped>\n",
              "    .dataframe tbody tr th:only-of-type {\n",
              "        vertical-align: middle;\n",
              "    }\n",
              "\n",
              "    .dataframe tbody tr th {\n",
              "        vertical-align: top;\n",
              "    }\n",
              "\n",
              "    .dataframe thead th {\n",
              "        text-align: right;\n",
              "    }\n",
              "</style>\n",
              "<table border=\"1\" class=\"dataframe\">\n",
              "  <thead>\n",
              "    <tr style=\"text-align: right;\">\n",
              "      <th></th>\n",
              "      <th>Unnamed: 0</th>\n",
              "      <th>Score</th>\n",
              "      <th>Summary</th>\n",
              "      <th>Text</th>\n",
              "      <th>rating</th>\n",
              "    </tr>\n",
              "  </thead>\n",
              "  <tbody>\n",
              "    <tr>\n",
              "      <th>18</th>\n",
              "      <td>90807</td>\n",
              "      <td>1</td>\n",
              "      <td>Moist and Juicy... NOT...</td>\n",
              "      <td>I like a variety of jerky but this Peppered st...</td>\n",
              "      <td>0.8631</td>\n",
              "    </tr>\n",
              "    <tr>\n",
              "      <th>66</th>\n",
              "      <td>479534</td>\n",
              "      <td>1</td>\n",
              "      <td>Very Disappointed, Not Durable at All</td>\n",
              "      <td>I bought this toy because it touted being the ...</td>\n",
              "      <td>0.9020</td>\n",
              "    </tr>\n",
              "  </tbody>\n",
              "</table>\n",
              "</div>\n",
              "      <button class=\"colab-df-convert\" onclick=\"convertToInteractive('df-288bf8da-2c48-47aa-b321-cde03fcd3abb')\"\n",
              "              title=\"Convert this dataframe to an interactive table.\"\n",
              "              style=\"display:none;\">\n",
              "        \n",
              "  <svg xmlns=\"http://www.w3.org/2000/svg\" height=\"24px\"viewBox=\"0 0 24 24\"\n",
              "       width=\"24px\">\n",
              "    <path d=\"M0 0h24v24H0V0z\" fill=\"none\"/>\n",
              "    <path d=\"M18.56 5.44l.94 2.06.94-2.06 2.06-.94-2.06-.94-.94-2.06-.94 2.06-2.06.94zm-11 1L8.5 8.5l.94-2.06 2.06-.94-2.06-.94L8.5 2.5l-.94 2.06-2.06.94zm10 10l.94 2.06.94-2.06 2.06-.94-2.06-.94-.94-2.06-.94 2.06-2.06.94z\"/><path d=\"M17.41 7.96l-1.37-1.37c-.4-.4-.92-.59-1.43-.59-.52 0-1.04.2-1.43.59L10.3 9.45l-7.72 7.72c-.78.78-.78 2.05 0 2.83L4 21.41c.39.39.9.59 1.41.59.51 0 1.02-.2 1.41-.59l7.78-7.78 2.81-2.81c.8-.78.8-2.07 0-2.86zM5.41 20L4 18.59l7.72-7.72 1.47 1.35L5.41 20z\"/>\n",
              "  </svg>\n",
              "      </button>\n",
              "      \n",
              "  <style>\n",
              "    .colab-df-container {\n",
              "      display:flex;\n",
              "      flex-wrap:wrap;\n",
              "      gap: 12px;\n",
              "    }\n",
              "\n",
              "    .colab-df-convert {\n",
              "      background-color: #E8F0FE;\n",
              "      border: none;\n",
              "      border-radius: 50%;\n",
              "      cursor: pointer;\n",
              "      display: none;\n",
              "      fill: #1967D2;\n",
              "      height: 32px;\n",
              "      padding: 0 0 0 0;\n",
              "      width: 32px;\n",
              "    }\n",
              "\n",
              "    .colab-df-convert:hover {\n",
              "      background-color: #E2EBFA;\n",
              "      box-shadow: 0px 1px 2px rgba(60, 64, 67, 0.3), 0px 1px 3px 1px rgba(60, 64, 67, 0.15);\n",
              "      fill: #174EA6;\n",
              "    }\n",
              "\n",
              "    [theme=dark] .colab-df-convert {\n",
              "      background-color: #3B4455;\n",
              "      fill: #D2E3FC;\n",
              "    }\n",
              "\n",
              "    [theme=dark] .colab-df-convert:hover {\n",
              "      background-color: #434B5C;\n",
              "      box-shadow: 0px 1px 3px 1px rgba(0, 0, 0, 0.15);\n",
              "      filter: drop-shadow(0px 1px 2px rgba(0, 0, 0, 0.3));\n",
              "      fill: #FFFFFF;\n",
              "    }\n",
              "  </style>\n",
              "\n",
              "      <script>\n",
              "        const buttonEl =\n",
              "          document.querySelector('#df-288bf8da-2c48-47aa-b321-cde03fcd3abb button.colab-df-convert');\n",
              "        buttonEl.style.display =\n",
              "          google.colab.kernel.accessAllowed ? 'block' : 'none';\n",
              "\n",
              "        async function convertToInteractive(key) {\n",
              "          const element = document.querySelector('#df-288bf8da-2c48-47aa-b321-cde03fcd3abb');\n",
              "          const dataTable =\n",
              "            await google.colab.kernel.invokeFunction('convertToInteractive',\n",
              "                                                     [key], {});\n",
              "          if (!dataTable) return;\n",
              "\n",
              "          const docLinkHtml = 'Like what you see? Visit the ' +\n",
              "            '<a target=\"_blank\" href=https://colab.research.google.com/notebooks/data_table.ipynb>data table notebook</a>'\n",
              "            + ' to learn more about interactive tables.';\n",
              "          element.innerHTML = '';\n",
              "          dataTable['output_type'] = 'display_data';\n",
              "          await google.colab.output.renderOutput(dataTable, element);\n",
              "          const docLink = document.createElement('div');\n",
              "          docLink.innerHTML = docLinkHtml;\n",
              "          element.appendChild(docLink);\n",
              "        }\n",
              "      </script>\n",
              "    </div>\n",
              "  </div>\n",
              "  "
            ]
          },
          "metadata": {},
          "execution_count": 256
        }
      ],
      "source": [
        "r[(r['Score'] == 1) & (r['rating'] >= 0.75)]"
      ]
    },
    {
      "cell_type": "code",
      "execution_count": null,
      "metadata": {
        "id": "Mz4C58E2MOnz",
        "colab": {
          "base_uri": "https://localhost:8080/",
          "height": 70
        },
        "outputId": "96fe9c74-018d-40e4-d0ff-e726a277a624"
      },
      "outputs": [
        {
          "output_type": "execute_result",
          "data": {
            "text/plain": [
              "\"I like a variety of jerky but this Peppered style from Oh Boy! all I can say is Oh NO!!!!!! Thin sliced is OK but not when it is as dry as cardboard. I did not like this product at all. I don't usually do reviews but I felt I had to give my opinion on this one. I will NOT be buying this one again... Sorry Oh Boy! Oberto...\""
            ],
            "application/vnd.google.colaboratory.intrinsic+json": {
              "type": "string"
            }
          },
          "metadata": {},
          "execution_count": 257
        }
      ],
      "source": [
        "r.iloc[18].Text"
      ]
    },
    {
      "cell_type": "code",
      "execution_count": null,
      "metadata": {
        "id": "YHj-mw4yMOnz"
      },
      "outputs": [],
      "source": [
        "import statsmodels.api as sm\n",
        "import statsmodels.formula.api as smf"
      ]
    },
    {
      "cell_type": "code",
      "execution_count": null,
      "metadata": {
        "id": "oxVIcRzHMOn0",
        "colab": {
          "base_uri": "https://localhost:8080/",
          "height": 446
        },
        "outputId": "cda8cc2d-9e46-42e1-dd19-421cd6e8bc0b"
      },
      "outputs": [
        {
          "output_type": "execute_result",
          "data": {
            "text/plain": [
              "<class 'statsmodels.iolib.summary.Summary'>\n",
              "\"\"\"\n",
              "                            OLS Regression Results                            \n",
              "==============================================================================\n",
              "Dep. Variable:                 rating   R-squared:                       0.430\n",
              "Model:                            OLS   Adj. R-squared:                  0.424\n",
              "Method:                 Least Squares   F-statistic:                     73.92\n",
              "Date:                Fri, 12 Aug 2022   Prob (F-statistic):           1.32e-13\n",
              "Time:                        21:30:22   Log-Likelihood:                -38.820\n",
              "No. Observations:                 100   AIC:                             81.64\n",
              "Df Residuals:                      98   BIC:                             86.85\n",
              "Df Model:                           1                                         \n",
              "Covariance Type:            nonrobust                                         \n",
              "==============================================================================\n",
              "                 coef    std err          t      P>|t|      [0.025      0.975]\n",
              "------------------------------------------------------------------------------\n",
              "Intercept     -0.3960      0.128     -3.094      0.003      -0.650      -0.142\n",
              "Score          0.2508      0.029      8.598      0.000       0.193       0.309\n",
              "==============================================================================\n",
              "Omnibus:                       11.481   Durbin-Watson:                   1.670\n",
              "Prob(Omnibus):                  0.003   Jarque-Bera (JB):               15.888\n",
              "Skew:                          -0.548   Prob(JB):                     0.000355\n",
              "Kurtosis:                       4.617   Cond. No.                         16.3\n",
              "==============================================================================\n",
              "\n",
              "Warnings:\n",
              "[1] Standard Errors assume that the covariance matrix of the errors is correctly specified.\n",
              "\"\"\""
            ],
            "text/html": [
              "<table class=\"simpletable\">\n",
              "<caption>OLS Regression Results</caption>\n",
              "<tr>\n",
              "  <th>Dep. Variable:</th>         <td>rating</td>      <th>  R-squared:         </th> <td>   0.430</td>\n",
              "</tr>\n",
              "<tr>\n",
              "  <th>Model:</th>                   <td>OLS</td>       <th>  Adj. R-squared:    </th> <td>   0.424</td>\n",
              "</tr>\n",
              "<tr>\n",
              "  <th>Method:</th>             <td>Least Squares</td>  <th>  F-statistic:       </th> <td>   73.92</td>\n",
              "</tr>\n",
              "<tr>\n",
              "  <th>Date:</th>             <td>Fri, 12 Aug 2022</td> <th>  Prob (F-statistic):</th> <td>1.32e-13</td>\n",
              "</tr>\n",
              "<tr>\n",
              "  <th>Time:</th>                 <td>21:30:22</td>     <th>  Log-Likelihood:    </th> <td> -38.820</td>\n",
              "</tr>\n",
              "<tr>\n",
              "  <th>No. Observations:</th>      <td>   100</td>      <th>  AIC:               </th> <td>   81.64</td>\n",
              "</tr>\n",
              "<tr>\n",
              "  <th>Df Residuals:</th>          <td>    98</td>      <th>  BIC:               </th> <td>   86.85</td>\n",
              "</tr>\n",
              "<tr>\n",
              "  <th>Df Model:</th>              <td>     1</td>      <th>                     </th>     <td> </td>   \n",
              "</tr>\n",
              "<tr>\n",
              "  <th>Covariance Type:</th>      <td>nonrobust</td>    <th>                     </th>     <td> </td>   \n",
              "</tr>\n",
              "</table>\n",
              "<table class=\"simpletable\">\n",
              "<tr>\n",
              "      <td></td>         <th>coef</th>     <th>std err</th>      <th>t</th>      <th>P>|t|</th>  <th>[0.025</th>    <th>0.975]</th>  \n",
              "</tr>\n",
              "<tr>\n",
              "  <th>Intercept</th> <td>   -0.3960</td> <td>    0.128</td> <td>   -3.094</td> <td> 0.003</td> <td>   -0.650</td> <td>   -0.142</td>\n",
              "</tr>\n",
              "<tr>\n",
              "  <th>Score</th>     <td>    0.2508</td> <td>    0.029</td> <td>    8.598</td> <td> 0.000</td> <td>    0.193</td> <td>    0.309</td>\n",
              "</tr>\n",
              "</table>\n",
              "<table class=\"simpletable\">\n",
              "<tr>\n",
              "  <th>Omnibus:</th>       <td>11.481</td> <th>  Durbin-Watson:     </th> <td>   1.670</td>\n",
              "</tr>\n",
              "<tr>\n",
              "  <th>Prob(Omnibus):</th> <td> 0.003</td> <th>  Jarque-Bera (JB):  </th> <td>  15.888</td>\n",
              "</tr>\n",
              "<tr>\n",
              "  <th>Skew:</th>          <td>-0.548</td> <th>  Prob(JB):          </th> <td>0.000355</td>\n",
              "</tr>\n",
              "<tr>\n",
              "  <th>Kurtosis:</th>      <td> 4.617</td> <th>  Cond. No.          </th> <td>    16.3</td>\n",
              "</tr>\n",
              "</table><br/><br/>Warnings:<br/>[1] Standard Errors assume that the covariance matrix of the errors is correctly specified."
            ]
          },
          "metadata": {},
          "execution_count": 259
        }
      ],
      "source": [
        "model0 = smf.ols(\"rating ~ Score \", data=r)\n",
        "model0.fit().summary()"
      ]
    }
  ]
}