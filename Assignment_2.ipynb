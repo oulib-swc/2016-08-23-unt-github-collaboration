{
  "nbformat": 4,
  "nbformat_minor": 0,
  "metadata": {
    "colab": {
      "name": "Assignment 2.ipynb",
      "version": "0.3.2",
      "provenance": []
    },
    "kernelspec": {
      "name": "python3",
      "display_name": "Python 3"
    }
  },
  "cells": [
    {
      "metadata": {
        "id": "vetWj2a0kjMH",
        "colab_type": "text"
      },
      "cell_type": "markdown",
      "source": [
        "Question 1. (20 points). Which of the following statements contain only valid built- in functions in Python 3? If the statement is valid, explain what it does. If it is not valid, explain why not.\n",
        "\n",
        "1.1 \"A\".isupper()\n",
        "\n",
        "1.2 print \"This is my Python class\";\n",
        "\n",
        "1.3 x == 1 AND y > x\n",
        "\n",
        "1.4  return t [1:]\n",
        "\n",
        "1.5  if \"fruit\" in \"apple\":\n",
        "\n",
        "1.6  with open(\"myfile.txt\", \"r\") as f:\n",
        "\n",
        "  text = f.read().decode(\"UTF-8\")\n",
        "  \n",
        "1.7 foo == None\n",
        "\n",
        "1.8 name = \"My name is Brenda\" name[0] = \"A\"\n",
        "\n",
        "1.9  x = 3\n",
        "       x ** 3\n",
        "       \n",
        "1.10\t20%7\n",
        "\n"
      ]
    },
    {
      "metadata": {
        "id": "yFHgZjkZjf8H",
        "colab_type": "code",
        "colab": {
          "base_uri": "https://localhost:8080/",
          "height": 34
        },
        "outputId": "2d9c7a82-a105-45bd-8d87-3983a63982e5"
      },
      "cell_type": "code",
      "source": [
        "#1.1 \"A\".isupper() is correct. isupper()is a built-in method to handle string. When the characters are capitalized, it will return true. Lowercase will return false. Another way to handle sting input is as follows:\n",
        "\"A\".isupper()"
      ],
      "execution_count": 16,
      "outputs": [
        {
          "output_type": "stream",
          "text": [
            "True\n"
          ],
          "name": "stdout"
        }
      ]
    },
    {
      "metadata": {
        "id": "kWemF21cBd_E",
        "colab_type": "code",
        "colab": {
          "base_uri": "https://localhost:8080/",
          "height": 34
        },
        "outputId": "ede1aee3-103f-4909-886a-3083c763f09f"
      },
      "cell_type": "code",
      "source": [
        "string =\"A\"\n",
        "print(string.isupper())"
      ],
      "execution_count": 17,
      "outputs": [
        {
          "output_type": "stream",
          "text": [
            "True\n"
          ],
          "name": "stdout"
        }
      ]
    },
    {
      "metadata": {
        "id": "0WycvUZ2EOI_",
        "colab_type": "code",
        "colab": {
          "base_uri": "https://localhost:8080/",
          "height": 34
        },
        "outputId": "d0316e71-cec0-422a-9906-79577bdb1441"
      },
      "cell_type": "code",
      "source": [
        "#1.2 print \"This is my Python Class\"; is not valid because it is missing a parenthesis. \n",
        "print (\"This is my Python Class\");\n"
      ],
      "execution_count": 18,
      "outputs": [
        {
          "output_type": "stream",
          "text": [
            "This is my Python Class\n"
          ],
          "name": "stdout"
        }
      ]
    },
    {
      "metadata": {
        "id": "g2MHb9FEujoI",
        "colab_type": "code",
        "colab": {
          "base_uri": "https://localhost:8080/",
          "height": 34
        },
        "outputId": "b8df68b3-80a1-4331-9284-8c106b0d8e03"
      },
      "cell_type": "code",
      "source": [
        "#1.3 x==1 AND y > x is incorrect, because the variables have to be defined first. \n",
        "#The operators == and > should not be used in the same statement with AND in between\n",
        "#A possible solution is:\n",
        "\n",
        "x = 1\n",
        "y = 2\n",
        "y >= x"
      ],
      "execution_count": 25,
      "outputs": [
        {
          "output_type": "execute_result",
          "data": {
            "text/plain": [
              "True"
            ]
          },
          "metadata": {
            "tags": []
          },
          "execution_count": 25
        }
      ]
    },
    {
      "metadata": {
        "id": "0ZssmE-ewdvz",
        "colab_type": "code",
        "colab": {}
      },
      "cell_type": "code",
      "source": [
        "#1.4 return t[1:], according to the Python Documentation: return may only occur syntactically nested in a function definition, not within a nested class definition. (Reference:https://docs.python.org/2.0/ref/return.html)\n",
        "# The following is an example of using return within a function\n",
        "def t():\n",
        "  return t"
      ],
      "execution_count": 0,
      "outputs": []
    },
    {
      "metadata": {
        "id": "-RLKcDh4wgd1",
        "colab_type": "code",
        "colab": {}
      },
      "cell_type": "code",
      "source": [
        "#1.5 if \"fruit\" in \"apple\": statement can be interpret as a conditional statments, therefore we need to provide an instruction on what to do next\n",
        "#An example to make it a valid function\n",
        "if \"fruit\" in \"apple\":\n",
        "  print('apple is a fruit')"
      ],
      "execution_count": 0,
      "outputs": []
    },
    {
      "metadata": {
        "id": "YLpoDnomuoxo",
        "colab_type": "code",
        "colab": {
          "base_uri": "https://localhost:8080/",
          "height": 180
        },
        "outputId": "47f1e224-10b6-47fe-ed19-04334d461aa6"
      },
      "cell_type": "code",
      "source": [
        "#1.6 open() is a built-in function to open a file with a \"with\" statement. .decode is a method to decodes the string \n",
        "# It could be simplify to the following\n",
        "f = open (\"myfile.txt\", \"r\", encoding=\"UTF-8\")\n",
        "    \n"
      ],
      "execution_count": 17,
      "outputs": [
        {
          "output_type": "error",
          "ename": "FileNotFoundError",
          "evalue": "ignored",
          "traceback": [
            "\u001b[0;31m---------------------------------------------------------------------------\u001b[0m",
            "\u001b[0;31mFileNotFoundError\u001b[0m                         Traceback (most recent call last)",
            "\u001b[0;32m<ipython-input-17-8adb5d284c81>\u001b[0m in \u001b[0;36m<module>\u001b[0;34m()\u001b[0m\n\u001b[0;32m----> 1\u001b[0;31m \u001b[0mf\u001b[0m \u001b[0;34m=\u001b[0m \u001b[0mopen\u001b[0m \u001b[0;34m(\u001b[0m\u001b[0;34m\"myfile.txt\"\u001b[0m\u001b[0;34m,\u001b[0m \u001b[0;34m\"r\"\u001b[0m\u001b[0;34m,\u001b[0m \u001b[0mencoding\u001b[0m\u001b[0;34m=\u001b[0m\u001b[0;34m\"UTF-8\"\u001b[0m\u001b[0;34m)\u001b[0m\u001b[0;34m\u001b[0m\u001b[0;34m\u001b[0m\u001b[0m\n\u001b[0m\u001b[1;32m      2\u001b[0m \u001b[0;34m\u001b[0m\u001b[0m\n",
            "\u001b[0;31mFileNotFoundError\u001b[0m: [Errno 2] No such file or directory: 'myfile.txt'"
          ]
        }
      ]
    },
    {
      "metadata": {
        "id": "t24_W-TdwlKP",
        "colab_type": "code",
        "colab": {
          "base_uri": "https://localhost:8080/",
          "height": 163
        },
        "outputId": "7cc251d8-3f41-4d0c-9e6a-fe7dde50fa12"
      },
      "cell_type": "code",
      "source": [
        "#1.7 == is operator to check if two values are equal or not to produce a True or False statement. There is not a function in this statement\n",
        "foo == NONE"
      ],
      "execution_count": 19,
      "outputs": [
        {
          "output_type": "error",
          "ename": "NameError",
          "evalue": "ignored",
          "traceback": [
            "\u001b[0;31m---------------------------------------------------------------------------\u001b[0m",
            "\u001b[0;31mNameError\u001b[0m                                 Traceback (most recent call last)",
            "\u001b[0;32m<ipython-input-19-a7088fa65516>\u001b[0m in \u001b[0;36m<module>\u001b[0;34m()\u001b[0m\n\u001b[0;32m----> 1\u001b[0;31m \u001b[0mfoo\u001b[0m \u001b[0;34m==\u001b[0m \u001b[0mNONE\u001b[0m\u001b[0;34m\u001b[0m\u001b[0;34m\u001b[0m\u001b[0m\n\u001b[0m",
            "\u001b[0;31mNameError\u001b[0m: name 'foo' is not defined"
          ]
        }
      ]
    },
    {
      "metadata": {
        "id": "mKDIbhaQwngy",
        "colab_type": "code",
        "colab": {
          "base_uri": "https://localhost:8080/",
          "height": 34
        },
        "outputId": "f98fddfd-51ee-404c-f162-b5cb29d049f2"
      },
      "cell_type": "code",
      "source": [
        "#1.8 name is given the value in a string format. The second statement is looking for the first character in the string\n",
        "#If we use the original name[0], it will return 'M'\n",
        "name = \"My name is Brenda\"\n",
        "name[0]\n",
        "#Or if we want to return 'a'\n",
        "name[4]\n",
        "#If the return value has to be capitalized\n",
        "name[4].capitalize()"
      ],
      "execution_count": 38,
      "outputs": [
        {
          "output_type": "execute_result",
          "data": {
            "text/plain": [
              "'A'"
            ]
          },
          "metadata": {
            "tags": []
          },
          "execution_count": 38
        }
      ]
    },
    {
      "metadata": {
        "id": "ny2lONGfwpxs",
        "colab_type": "code",
        "colab": {
          "base_uri": "https://localhost:8080/",
          "height": 34
        },
        "outputId": "6d9d9d9e-78bf-498a-e04e-1cb84e38922c"
      },
      "cell_type": "code",
      "source": [
        "#1.9 This statement defines x and then apply exponent of 3 to the value. ** is the exponent operator.\n",
        "x=3\n",
        "x**3\n",
        "\n"
      ],
      "execution_count": 39,
      "outputs": [
        {
          "output_type": "execute_result",
          "data": {
            "text/plain": [
              "27"
            ]
          },
          "metadata": {
            "tags": []
          },
          "execution_count": 39
        }
      ]
    },
    {
      "metadata": {
        "id": "cCYzY3DXwr4H",
        "colab_type": "code",
        "colab": {
          "base_uri": "https://localhost:8080/",
          "height": 34
        },
        "outputId": "a9636a6d-1b5b-4431-e097-eff6ab467ebf"
      },
      "cell_type": "code",
      "source": [
        "#1.10 This statement utilize the operator % modulus which divides left side by right side and returns remainder.\n",
        "20%7"
      ],
      "execution_count": 40,
      "outputs": [
        {
          "output_type": "execute_result",
          "data": {
            "text/plain": [
              "6"
            ]
          },
          "metadata": {
            "tags": []
          },
          "execution_count": 40
        }
      ]
    },
    {
      "metadata": {
        "id": "01KYQO3KlJPj",
        "colab_type": "text"
      },
      "cell_type": "markdown",
      "source": [
        "Question 2. (15 points). Write a program to prompt for a score between 0 and 100. If the score is out of range, print an error message. If the score is between 0 and 100, print a grade using the following table:\n",
        " \n",
        "Score\t| Grade\n",
        "---|---\n",
        ">=90|A\n",
        ">= 80|B\n",
        ">= 70|C\n",
        ">= 60|D\n",
        "< 60|F\n"
      ]
    },
    {
      "metadata": {
        "id": "hYgDpxUJ3-OM",
        "colab_type": "code",
        "colab": {
          "base_uri": "https://localhost:8080/",
          "height": 68
        },
        "outputId": "0afe06f9-87ec-46cd-f43e-d462e6a96fb9"
      },
      "cell_type": "code",
      "source": [
        "print('Enter a score between 0 and 100 to receive a letter grade')\n",
        "n = int(input())\n",
        "if n < 100 and n >=90:\n",
        "      print(\"A\")\n",
        "elif n >=80 and n<90:\n",
        "      print(\"B\")\n",
        "elif n >= 70 and n<80:\n",
        "      print(\"C\")\n",
        "elif n >=60 and n<70:\n",
        "      print(\"D\")\n",
        "elif n <60 and n >=0:\n",
        "      print(\"F\")\n",
        "else: \n",
        "      print('Error, enter score between 0 and 100 only')\n",
        "      \n",
        "        "
      ],
      "execution_count": 29,
      "outputs": [
        {
          "output_type": "stream",
          "text": [
            "Enter a score between 0 and 100 to receive a letter grade\n",
            "65\n",
            "D\n"
          ],
          "name": "stdout"
        }
      ]
    },
    {
      "metadata": {
        "id": "Mid6LZ6NlLh0",
        "colab_type": "text"
      },
      "cell_type": "markdown",
      "source": [
        "Question 3. (20 points). Write a Python program to generate 12 random numbers between 1 and 100. Sort the list of numbers in ascending order and print it out. Sort the list of numbers in descending order and print it out. Calculate the average for the group and print it out."
      ]
    },
    {
      "metadata": {
        "id": "0yPehOyiAE0k",
        "colab_type": "code",
        "colab": {
          "base_uri": "https://localhost:8080/",
          "height": 68
        },
        "outputId": "09d73b36-9101-450e-9c92-170d234ef6c5"
      },
      "cell_type": "code",
      "source": [
        "import random\n",
        "list1 = [random.randint(1, 100) for i in range(12)]\n",
        "list1.sort()\n",
        "print(\"List 1, Ascending Order\", list1)\n",
        "list1.sort(reverse = True)\n",
        "print(\"List 1, Descending Order\", list1)\n",
        "sum = 0\n",
        "for num in list1:\n",
        "  sum = sum + num \n",
        "  average = sum/12\n",
        "print(\"Average for the group is: \", average)\n"
      ],
      "execution_count": 60,
      "outputs": [
        {
          "output_type": "stream",
          "text": [
            "List 1, Ascending Order [13, 14, 21, 35, 40, 43, 69, 69, 75, 79, 90, 91]\n",
            "List 1, Descending Order [91, 90, 79, 75, 69, 69, 43, 40, 35, 21, 14, 13]\n",
            "Average for the group is:  49.15384615384615\n"
          ],
          "name": "stdout"
        }
      ]
    },
    {
      "metadata": {
        "id": "w4QQf__0nW_3",
        "colab_type": "text"
      },
      "cell_type": "markdown",
      "source": [
        "Question 4. (20 points). The formula that describes the volume V of a sphere with radius r is the following:\n",
        "\n",
        "$V =\\frac{4*\\pi*r^3}{3}$\n",
        "\n",
        "\n",
        "Write a program to calculate the value of V when r is in the range of 1– 10. Output the result in the following format:\n",
        "\n",
        "r\t| V\n",
        "---|---\n",
        "1|\t…\n",
        "2|…\n",
        "3|\t…\n",
        "\n",
        "\n"
      ]
    },
    {
      "metadata": {
        "id": "YPM99UjljwCJ",
        "colab_type": "code",
        "colab": {
          "base_uri": "https://localhost:8080/",
          "height": 204
        },
        "outputId": "6c38151a-fd10-4ffd-87aa-dde5f97b19cf"
      },
      "cell_type": "code",
      "source": [
        "import math\n",
        "r = range (1, 11)\n",
        "print('r', '\\t', 'V')\n",
        "for i in r:\n",
        "  v = (4/3)*math.pi*(pow(i, 3))\n",
        "  print(i, '\\t', v)"
      ],
      "execution_count": 11,
      "outputs": [
        {
          "output_type": "stream",
          "text": [
            "r \t V\n",
            "1 \t 4.1887902047863905\n",
            "2 \t 33.510321638291124\n",
            "3 \t 113.09733552923254\n",
            "4 \t 268.082573106329\n",
            "5 \t 523.5987755982989\n",
            "6 \t 904.7786842338603\n",
            "7 \t 1436.7550402417319\n",
            "8 \t 2144.660584850632\n",
            "9 \t 3053.6280592892786\n",
            "10 \t 4188.790204786391\n"
          ],
          "name": "stdout"
        }
      ]
    },
    {
      "metadata": {
        "id": "y_OpUOruyx0S",
        "colab_type": "code",
        "colab": {
          "base_uri": "https://localhost:8080/",
          "height": 316
        },
        "outputId": "dd707cbf-5495-469d-bc82-499eb50c0534"
      },
      "cell_type": "code",
      "source": [
        "#import math  ##Error message in this code\n",
        "#def vol_sphere(r):\n",
        "#  v = (4/3)*math.pi*(pow(r, 3))  TypeError: unsupported operand type(s) for ** or pow(): 'range' and 'int'\n",
        "#  return v\n",
        "\n",
        "#for i in range(1,11):\n",
        "  print (i)\n",
        "#vol_sphere(r)  TypeError: unsupported operand type(s) for ** or pow(): 'range' and 'int'"
      ],
      "execution_count": 8,
      "outputs": [
        {
          "output_type": "error",
          "ename": "TypeError",
          "evalue": "ignored",
          "traceback": [
            "\u001b[0;31m---------------------------------------------------------------------------\u001b[0m",
            "\u001b[0;31mTypeError\u001b[0m                                 Traceback (most recent call last)",
            "\u001b[0;32m<ipython-input-8-49e300359dc2>\u001b[0m in \u001b[0;36m<module>\u001b[0;34m()\u001b[0m\n\u001b[1;32m      5\u001b[0m \u001b[0;34m\u001b[0m\u001b[0m\n\u001b[1;32m      6\u001b[0m \u001b[0mr\u001b[0m \u001b[0;34m=\u001b[0m \u001b[0mrange\u001b[0m \u001b[0;34m(\u001b[0m\u001b[0;36m1\u001b[0m\u001b[0;34m,\u001b[0m \u001b[0;36m11\u001b[0m\u001b[0;34m)\u001b[0m\u001b[0;34m\u001b[0m\u001b[0;34m\u001b[0m\u001b[0m\n\u001b[0;32m----> 7\u001b[0;31m \u001b[0mvol_sphere\u001b[0m\u001b[0;34m(\u001b[0m\u001b[0mr\u001b[0m\u001b[0;34m)\u001b[0m\u001b[0;34m\u001b[0m\u001b[0;34m\u001b[0m\u001b[0m\n\u001b[0m",
            "\u001b[0;32m<ipython-input-8-49e300359dc2>\u001b[0m in \u001b[0;36mvol_sphere\u001b[0;34m(r)\u001b[0m\n\u001b[1;32m      1\u001b[0m \u001b[0;32mimport\u001b[0m \u001b[0mmath\u001b[0m\u001b[0;34m\u001b[0m\u001b[0;34m\u001b[0m\u001b[0m\n\u001b[1;32m      2\u001b[0m \u001b[0;32mdef\u001b[0m \u001b[0mvol_sphere\u001b[0m\u001b[0;34m(\u001b[0m\u001b[0mr\u001b[0m\u001b[0;34m)\u001b[0m\u001b[0;34m:\u001b[0m\u001b[0;34m\u001b[0m\u001b[0;34m\u001b[0m\u001b[0m\n\u001b[0;32m----> 3\u001b[0;31m   \u001b[0mv\u001b[0m \u001b[0;34m=\u001b[0m \u001b[0;34m(\u001b[0m\u001b[0;36m4\u001b[0m\u001b[0;34m/\u001b[0m\u001b[0;36m3\u001b[0m\u001b[0;34m)\u001b[0m\u001b[0;34m*\u001b[0m\u001b[0mmath\u001b[0m\u001b[0;34m.\u001b[0m\u001b[0mpi\u001b[0m\u001b[0;34m*\u001b[0m\u001b[0;34m(\u001b[0m\u001b[0mpow\u001b[0m\u001b[0;34m(\u001b[0m\u001b[0mr\u001b[0m\u001b[0;34m,\u001b[0m \u001b[0;36m3\u001b[0m\u001b[0;34m)\u001b[0m\u001b[0;34m)\u001b[0m\u001b[0;34m\u001b[0m\u001b[0;34m\u001b[0m\u001b[0m\n\u001b[0m\u001b[1;32m      4\u001b[0m   \u001b[0;32mreturn\u001b[0m \u001b[0mv\u001b[0m\u001b[0;34m\u001b[0m\u001b[0;34m\u001b[0m\u001b[0m\n\u001b[1;32m      5\u001b[0m \u001b[0;34m\u001b[0m\u001b[0m\n",
            "\u001b[0;31mTypeError\u001b[0m: unsupported operand type(s) for ** or pow(): 'range' and 'int'"
          ]
        }
      ]
    },
    {
      "metadata": {
        "id": "fKRyUbxlp04z",
        "colab_type": "text"
      },
      "cell_type": "markdown",
      "source": [
        "Question 5. (25 points). Write a program that will do the following string formatting tasks:\n",
        "\n",
        "5.1 Ask the user to enter two sentences\n",
        "\n",
        "5.2 Make each sentence into a list. Each element in the list should correspond to a word in the sentence. For example, if the sentence is \"Alas! Am I alive? This\n",
        "is my first python program\", the program should print out ['Alas!', 'Am', 'I',\n",
        "'alive?', 'This', 'is', 'my', 'first', 'python', 'program'] or ['Alas, '!', 'Am', 'I', 'alive,\n",
        "'?', 'This', 'is', 'my', 'first', 'python', 'program']\n",
        "\n",
        "5.3 Compare the two sentences. Print out a list of words that occur in both\n",
        "sentences.\n",
        "\n",
        "5.4 Remove any punctuation from the sentence and print it back out. It should remove at least the following characters, but it can remove more: period(“.”), comma (“,”), semicolon (“;”), and colon (“:”)\n",
        "\n",
        "5.5 Count the number of vowels in the sentences. Print out each vowel and the number of times it appears in the sentences, such as:  a:2, e:1, i:0, etc.\n"
      ]
    },
    {
      "metadata": {
        "id": "BZ2xBa9P6feV",
        "colab_type": "code",
        "colab": {
          "base_uri": "https://localhost:8080/",
          "height": 102
        },
        "outputId": "a9fb95c6-08bd-4992-f1e9-153878fce748"
      },
      "cell_type": "code",
      "source": [
        "print('Enter two sentences below')\n",
        "sentence = input()\n",
        "words = sentence.split()\n",
        "print (words) #5.2\n",
        "\n",
        "set(words) \n",
        "print(set(words))#5.3\n",
        "\n",
        "from string import punctuation\n",
        "line = sentence\n",
        "' '.join(word.strip(punctuation) for word in line.split() \n",
        "             if word.strip(punctuation))       #5.4\n",
        "\n",
        "\n",
        "\n"
      ],
      "execution_count": 22,
      "outputs": [
        {
          "output_type": "stream",
          "text": [
            "Enter two sentences below\n",
            "I am here. Where are you, here?\n",
            "['I', 'am', 'here.', 'Where', 'are', 'you,', 'here?']\n",
            "{'I', 'am', 'are', 'you,', 'here.', 'Where', 'here?'}\n"
          ],
          "name": "stdout"
        },
        {
          "output_type": "execute_result",
          "data": {
            "text/plain": [
              "'I am here Where are you here'"
            ]
          },
          "metadata": {
            "tags": []
          },
          "execution_count": 22
        }
      ]
    },
    {
      "metadata": {
        "id": "PnqY89JBtk9P",
        "colab_type": "code",
        "colab": {
          "base_uri": "https://localhost:8080/",
          "height": 102
        },
        "outputId": "0fde9f22-b018-475b-bd58-a880275a9da7"
      },
      "cell_type": "code",
      "source": [
        "print('Enter two sentences below')\n",
        "sentence = input()\n",
        "words = sentence.split()\n",
        "print (words) #5.2\n",
        "\n",
        "set(words) \n",
        "print(set(words))#5.3\n",
        "\n",
        "from string import punctuation\n",
        "line = sentence\n",
        "' '.join(word.strip(punctuation) for word in line.split() \n",
        "             if word.strip(punctuation))       #5.4 for some reason when it is combined with 5.5. the output disappear. \n",
        "\n",
        "#5.5\n",
        "vowels = 'aeiouAEIOU' \n",
        "count = {}.fromkeys(vowels, 0)\n",
        "  \n",
        "for character in sentence:\n",
        "  if character in count:\n",
        "    count[character] += 1\n",
        "      \n",
        "print (count)"
      ],
      "execution_count": 24,
      "outputs": [
        {
          "output_type": "stream",
          "text": [
            "Enter two sentences below\n",
            "I am here, where are you?\n",
            "['I', 'am', 'here,', 'where', 'are', 'you?']\n",
            "{'where', 'I', 'am', 'here,', 'are', 'you?'}\n",
            "{'a': 2, 'e': 5, 'i': 0, 'o': 1, 'u': 1, 'A': 0, 'E': 0, 'I': 1, 'O': 0, 'U': 0}\n"
          ],
          "name": "stdout"
        }
      ]
    },
    {
      "metadata": {
        "id": "7ax1o-zBfvjZ",
        "colab_type": "code",
        "colab": {}
      },
      "cell_type": "code",
      "source": [
        ""
      ],
      "execution_count": 0,
      "outputs": []
    }
  ]
}